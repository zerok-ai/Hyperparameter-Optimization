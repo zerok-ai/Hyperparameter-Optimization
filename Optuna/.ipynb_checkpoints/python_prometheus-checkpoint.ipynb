{
 "cells": [
  {
   "cell_type": "code",
   "execution_count": 15,
   "id": "15c9f096",
   "metadata": {},
   "outputs": [],
   "source": [
    "import requests\n",
    "PROMETHEUS='http://prometheus.local'\n"
   ]
  },
  {
   "cell_type": "code",
   "execution_count": 16,
   "id": "6ef0107a",
   "metadata": {},
   "outputs": [],
   "source": [
    "def wait_for_experiment_state_change():\n",
    "    while True:\n",
    "        response=requests.get(PROMETHEUS + '/api/v1/query', params={'query': 'max_over_time(k6_checks[5s])'}) \n",
    "        k = response.json()\n",
    "        if len(k.get('data').get('result')) == 0:\n",
    "            print('experiment ended')\n",
    "            break;\n"
   ]
  },
  {
   "cell_type": "code",
   "execution_count": 51,
   "id": "280862a7",
   "metadata": {},
   "outputs": [],
   "source": [
    "def wait_for_failure():\n",
    "    while True:\n",
    "        response=requests.get(PROMETHEUS + '/api/v1/query', params={'query': 'max_over_time(k6_http_req_failed[5s])'}) \n",
    "        k = response.json()\n",
    "#         print(k)\n",
    "        if len(k.get('data').get('result')) != 1:\n",
    "            response=requests.get(PROMETHEUS + '/api/v1/query', params={'query': 'sum_over_time(k6_http_req_failed[1m])'})\n",
    "            k = response.json()\n",
    "            print(k)\n",
    "            types = list(map(lambda x: x.get('metric').get('status'), k.get('data').get('result')))\n",
    "            print(types)\n",
    "            non200s = list(filter(lambda x: x != '200', types))\n",
    "            print(non200s)\n",
    "            if len(non200s) > 0:\n",
    "                print('run failed')\n",
    "                return True\n",
    "            else :\n",
    "                print('run success')\n",
    "                return False"
   ]
  },
  {
   "cell_type": "code",
   "execution_count": 52,
   "id": "88878581",
   "metadata": {},
   "outputs": [],
   "source": [
    "def reset_experiment():\n",
    "    r = requests.get('http://tester.local/reset')\n",
    "    print(r.text)"
   ]
  },
  {
   "cell_type": "code",
   "execution_count": 53,
   "id": "4f295f37",
   "metadata": {},
   "outputs": [],
   "source": [
    "def start_experiment():\n",
    "    r = requests.get('http://tester.local/start')\n",
    "    print(r.text)"
   ]
  },
  {
   "cell_type": "code",
   "execution_count": 54,
   "id": "72801ff8",
   "metadata": {},
   "outputs": [],
   "source": [
    "def get_avg_latency():\n",
    "    response=requests.get(PROMETHEUS + '/api/v1/query', params={'query': 'avg_over_time(k6_custom_target_highmem_duration_avg[3m])'}) \n",
    "    print(response.json())\n",
    "    k = response.json().get('data').get('result')\n",
    "    print(k)\n",
    "    if len(k) == 0:\n",
    "        return None\n",
    "    else:\n",
    "        return k[0].get('value')[1]"
   ]
  },
  {
   "cell_type": "code",
   "execution_count": null,
   "id": "6e761393",
   "metadata": {},
   "outputs": [
    {
     "name": "stdout",
     "output_type": "stream",
     "text": [
      "start 3 iterations\n",
      "Reset done\n",
      "experiment ended\n",
      "no experiment running\n",
      "Started\n",
      "{'status': 'success', 'data': {'resultType': 'vector', 'result': [{'metric': {'expected_response': 'true', 'method': 'GET', 'proto': 'HTTP/1.1', 'run': '2022-07-21_01-47-35', 'scenario': 'target_highmem', 'status': '200', 'url': 'http://target-service.target.svc.cluster.local/highmem?count=15'}, 'value': [1658368060.223, '0']}]}}\n",
      "{'status': 'success', 'data': {'resultType': 'vector', 'result': [{'metric': {'expected_response': 'true', 'method': 'GET', 'proto': 'HTTP/1.1', 'run': '2022-07-21_01-47-35', 'scenario': 'target_highmem', 'status': '200', 'url': 'http://target-service.target.svc.cluster.local/highmem?count=15'}, 'value': [1658368065.237, '0']}]}}\n",
      "{'status': 'success', 'data': {'resultType': 'vector', 'result': [{'metric': {'expected_response': 'true', 'method': 'GET', 'proto': 'HTTP/1.1', 'run': '2022-07-21_01-47-35', 'scenario': 'target_highmem', 'status': '200', 'url': 'http://target-service.target.svc.cluster.local/highmem?count=15'}, 'value': [1658368070.251, '0']}]}}\n",
      "{'status': 'success', 'data': {'resultType': 'vector', 'result': [{'metric': {'expected_response': 'true', 'method': 'GET', 'proto': 'HTTP/1.1', 'run': '2022-07-21_01-47-35', 'scenario': 'target_highmem', 'status': '200', 'url': 'http://target-service.target.svc.cluster.local/highmem?count=15'}, 'value': [1658368075.269, '0']}]}}\n",
      "{'status': 'success', 'data': {'resultType': 'vector', 'result': [{'metric': {'expected_response': 'true', 'method': 'GET', 'proto': 'HTTP/1.1', 'run': '2022-07-21_01-47-35', 'scenario': 'target_highmem', 'status': '200', 'url': 'http://target-service.target.svc.cluster.local/highmem?count=15'}, 'value': [1658368080.287, '0']}]}}\n",
      "{'status': 'success', 'data': {'resultType': 'vector', 'result': [{'metric': {'expected_response': 'true', 'method': 'GET', 'proto': 'HTTP/1.1', 'run': '2022-07-21_01-47-35', 'scenario': 'target_highmem', 'status': '200', 'url': 'http://target-service.target.svc.cluster.local/highmem?count=15'}, 'value': [1658368085.301, '0']}]}}\n",
      "{'status': 'success', 'data': {'resultType': 'vector', 'result': [{'metric': {'expected_response': 'true', 'method': 'GET', 'proto': 'HTTP/1.1', 'run': '2022-07-21_01-47-35', 'scenario': 'target_highmem', 'status': '200', 'url': 'http://target-service.target.svc.cluster.local/highmem?count=15'}, 'value': [1658368090.301, '0']}]}}\n",
      "{'status': 'success', 'data': {'resultType': 'vector', 'result': [{'metric': {'expected_response': 'true', 'method': 'GET', 'proto': 'HTTP/1.1', 'run': '2022-07-21_01-47-35', 'scenario': 'target_highmem', 'status': '200', 'url': 'http://target-service.target.svc.cluster.local/highmem?count=15'}, 'value': [1658368095.315, '0']}]}}\n",
      "{'status': 'success', 'data': {'resultType': 'vector', 'result': [{'metric': {'expected_response': 'true', 'method': 'GET', 'proto': 'HTTP/1.1', 'run': '2022-07-21_01-47-35', 'scenario': 'target_highmem', 'status': '200', 'url': 'http://target-service.target.svc.cluster.local/highmem?count=15'}, 'value': [1658368100.332, '0']}]}}\n",
      "{'status': 'success', 'data': {'resultType': 'vector', 'result': [{'metric': {'expected_response': 'true', 'method': 'GET', 'proto': 'HTTP/1.1', 'run': '2022-07-21_01-47-35', 'scenario': 'target_highmem', 'status': '200', 'url': 'http://target-service.target.svc.cluster.local/highmem?count=15'}, 'value': [1658368105.35, '0']}]}}\n",
      "{'status': 'success', 'data': {'resultType': 'vector', 'result': [{'metric': {'expected_response': 'true', 'method': 'GET', 'proto': 'HTTP/1.1', 'run': '2022-07-21_01-47-35', 'scenario': 'target_highmem', 'status': '200', 'url': 'http://target-service.target.svc.cluster.local/highmem?count=15'}, 'value': [1658368110.368, '0']}]}}\n",
      "{'status': 'success', 'data': {'resultType': 'vector', 'result': [{'metric': {'expected_response': 'true', 'method': 'GET', 'proto': 'HTTP/1.1', 'run': '2022-07-21_01-47-35', 'scenario': 'target_highmem', 'status': '200', 'url': 'http://target-service.target.svc.cluster.local/highmem?count=15'}, 'value': [1658368115.382, '0']}]}}\n",
      "{'status': 'success', 'data': {'resultType': 'vector', 'result': [{'metric': {'expected_response': 'true', 'method': 'GET', 'proto': 'HTTP/1.1', 'run': '2022-07-21_01-47-35', 'scenario': 'target_highmem', 'status': '200', 'url': 'http://target-service.target.svc.cluster.local/highmem?count=15'}, 'value': [1658368120.39, '0']}]}}\n",
      "{'status': 'success', 'data': {'resultType': 'vector', 'result': [{'metric': {'expected_response': 'true', 'method': 'GET', 'proto': 'HTTP/1.1', 'run': '2022-07-21_01-47-35', 'scenario': 'target_highmem', 'status': '200', 'url': 'http://target-service.target.svc.cluster.local/highmem?count=15'}, 'value': [1658368125.404, '0']}]}}\n",
      "{'status': 'success', 'data': {'resultType': 'vector', 'result': [{'metric': {'expected_response': 'true', 'method': 'GET', 'proto': 'HTTP/1.1', 'run': '2022-07-21_01-47-35', 'scenario': 'target_highmem', 'status': '200', 'url': 'http://target-service.target.svc.cluster.local/highmem?count=15'}, 'value': [1658368130.432, '0']}]}}\n",
      "{'status': 'success', 'data': {'resultType': 'vector', 'result': [{'metric': {'expected_response': 'true', 'method': 'GET', 'proto': 'HTTP/1.1', 'run': '2022-07-21_01-47-35', 'scenario': 'target_highmem', 'status': '200', 'url': 'http://target-service.target.svc.cluster.local/highmem?count=15'}, 'value': [1658368135.451, '0']}]}}\n",
      "{'status': 'success', 'data': {'resultType': 'vector', 'result': [{'metric': {'expected_response': 'true', 'method': 'GET', 'proto': 'HTTP/1.1', 'run': '2022-07-21_01-47-35', 'scenario': 'target_highmem', 'status': '200', 'url': 'http://target-service.target.svc.cluster.local/highmem?count=15'}, 'value': [1658368140.47, '0']}]}}\n",
      "{'status': 'success', 'data': {'resultType': 'vector', 'result': [{'metric': {'expected_response': 'true', 'method': 'GET', 'proto': 'HTTP/1.1', 'run': '2022-07-21_01-47-35', 'scenario': 'target_highmem', 'status': '200', 'url': 'http://target-service.target.svc.cluster.local/highmem?count=15'}, 'value': [1658368145.487, '0']}]}}\n"
     ]
    }
   ],
   "source": [
    "print(\"start 3 iterations\")\n",
    "for i in range(3):\n",
    "    reset_experiment();\n",
    "    wait_for_experiment_state_change()\n",
    "    print(\"no experiment running\")\n",
    "\n",
    "    start_experiment()\n",
    "    run_failed = wait_for_failure()\n",
    "    if run_failed:\n",
    "        print(\"experiment failed\")\n",
    "    else: \n",
    "        latency = get_avg_latency();\n",
    "        print(\"latency: {}\".format(latency))\n",
    "    \n",
    "    reset_experiment();\n",
    "    wait_for_experiment_state_change()\n",
    "    print(\"experiment stopped\")\n",
    "print(\"done\")"
   ]
  },
  {
   "cell_type": "code",
   "execution_count": null,
   "id": "938eb9e2",
   "metadata": {},
   "outputs": [],
   "source": []
  }
 ],
 "metadata": {
  "kernelspec": {
   "display_name": "Python 3 (ipykernel)",
   "language": "python",
   "name": "python3"
  },
  "language_info": {
   "codemirror_mode": {
    "name": "ipython",
    "version": 3
   },
   "file_extension": ".py",
   "mimetype": "text/x-python",
   "name": "python",
   "nbconvert_exporter": "python",
   "pygments_lexer": "ipython3",
   "version": "3.9.13"
  }
 },
 "nbformat": 4,
 "nbformat_minor": 5
}
