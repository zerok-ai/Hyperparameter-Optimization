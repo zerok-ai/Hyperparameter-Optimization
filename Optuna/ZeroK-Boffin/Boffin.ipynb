{
 "cells": [
  {
   "cell_type": "code",
   "execution_count": 1,
   "id": "ddee69a7",
   "metadata": {},
   "outputs": [],
   "source": [
    "import json\n",
    "import optuna\n",
    "import subprocess\n",
    "import time\n",
    "from deploy_target import TargetDeployer\n",
    "import requests\n",
    "PROMETHEUS='http://prometheus.local'"
   ]
  },
  {
   "cell_type": "code",
   "execution_count": 2,
   "id": "dbc2c831",
   "metadata": {},
   "outputs": [],
   "source": [
    "target = TargetDeployer()\n",
    "target.update_deployment_limits(120, 120)\n"
   ]
  },
  {
   "cell_type": "code",
   "execution_count": 3,
   "id": "6bf3e320",
   "metadata": {},
   "outputs": [],
   "source": [
    "def wait_for_experiment_state_change():\n",
    "    while True:\n",
    "        response=requests.get(PROMETHEUS + '/api/v1/query', params={'query': 'max_over_time(k6_checks[5s])'}) \n",
    "        k = response.json()\n",
    "        if len(k.get('data').get('result')) == 0:\n",
    "            print('experiment ended')\n",
    "            break;"
   ]
  },
  {
   "cell_type": "code",
   "execution_count": 4,
   "id": "26f4853d",
   "metadata": {},
   "outputs": [],
   "source": [
    "def wait_for_failure():\n",
    "    while True:\n",
    "        response=requests.get(PROMETHEUS + '/api/v1/query', params={'query': 'max_over_time(k6_http_req_failed[5s])'}) \n",
    "        k = response.json()\n",
    "        if len(k.get('data').get('result')) != 0:\n",
    "            response=requests.get(PROMETHEUS + '/api/v1/query', params={'query': 'sum_over_time(k6_http_req_failed[1m])'})\n",
    "            k = response.json()\n",
    "            len(k.get('data').get('result')) > 1:\n",
    "                print('run failed')\n",
    "                return True\n",
    "            else \n",
    "                print('run success')\n",
    "                return False"
   ]
  },
  {
   "cell_type": "code",
   "execution_count": 5,
   "id": "90da0cac",
   "metadata": {},
   "outputs": [],
   "source": [
    "def reset_experiment():\n",
    "    r = requests.get('http://tester.local/reset')\n",
    "    print(r.text)"
   ]
  },
  {
   "cell_type": "code",
   "execution_count": 6,
   "id": "6e3fb118",
   "metadata": {},
   "outputs": [],
   "source": [
    "def start_experiment():\n",
    "    r = requests.get('http://tester.local/start')\n",
    "    print(r.text)"
   ]
  },
  {
   "cell_type": "code",
   "execution_count": 7,
   "id": "dd8dbf5b",
   "metadata": {},
   "outputs": [],
   "source": [
    "def get_avg_latency():\n",
    "    response=requests.get(PROMETHEUS + '/api/v1/query', params={'query': 'avg_over_time(k6_custom_target_highmem_duration_avg[3m])'}) \n",
    "    print(response.json())\n",
    "    k = response.json().get('data').get('result')\n",
    "    print(k)\n",
    "    if len(k) == 0:\n",
    "        return None\n",
    "    else:\n",
    "        return k[0].get('value')[1]"
   ]
  },
  {
   "cell_type": "code",
   "execution_count": 8,
   "id": "1ef1e89c",
   "metadata": {},
   "outputs": [],
   "source": [
    "def objective(trial):\n",
    "    config = {\n",
    "        \"cpus\" : trial.suggest_int(\"cpus\", 100, 300, step=10),\n",
    "        \"memory\" : trial.suggest_int(\"memory\", 100, 300, step=10),\n",
    "    }\n",
    "\n",
    "    cpus = config.get('cpus')\n",
    "    memory = config.get('memory')\n",
    "    print(\"Running study with cpu: {} and memory: {}\".format(cpus, memory))\n",
    "    target.update_deployment_limits(cpus, memory)\n",
    "    \n",
    "    reset_experiment();\n",
    "    wait_for_experiment_state_change()\n",
    "    print(\"no experiment running\")\n",
    "\n",
    "    start_experiment()\n",
    "    run_failed = wait_for_failure()\n",
    "    if run_failed:\n",
    "        print(\"experiment failed\")\n",
    "        raise optuna.TrialPruned()\n",
    "    else: \n",
    "        latency = get_avg_latency();\n",
    "        print(\"latency: {}\".format(latency))\n",
    "    \n",
    "    reset_experiment();\n",
    "    wait_for_experiment_state_change()\n",
    "    print(\"experiment stopped\")\n",
    "\n",
    "#     if trial.should_prune():\n",
    "#         raise optuna.TrialPruned()\n",
    "\n",
    "    return float(latency)"
   ]
  },
  {
   "cell_type": "code",
   "execution_count": 11,
   "id": "1e7d1417",
   "metadata": {},
   "outputs": [
    {
     "name": "stderr",
     "output_type": "stream",
     "text": [
      "\u001b[32m[I 2022-07-21 10:04:06,350]\u001b[0m A new study created in memory with name: no-name-b2473ff3-3647-4a95-9662-0417a9decd5e\u001b[0m\n"
     ]
    },
    {
     "name": "stdout",
     "output_type": "stream",
     "text": [
      "Reset done\n",
      "experiment ended\n",
      "no experiment running\n",
      "Started\n"
     ]
    },
    {
     "name": "stderr",
     "output_type": "stream",
     "text": [
      "\u001b[32m[I 2022-07-21 10:05:06,688]\u001b[0m Trial 0 pruned. \u001b[0m\n"
     ]
    },
    {
     "name": "stdout",
     "output_type": "stream",
     "text": [
      "{'status': 'success', 'data': {'resultType': 'vector', 'result': [{'metric': {'error': 'EOF', 'error_code': '1000', 'expected_response': 'false', 'method': 'GET', 'run': '2022-07-21_04-34-21', 'scenario': 'target_highmem', 'status': '0', 'url': 'http://target-service.target.svc.cluster.local/highmem?count=15'}, 'value': [1658378106.696, '0.2']}, {'metric': {'error': 'dial: connection refused', 'error_code': '1212', 'expected_response': 'false', 'method': 'GET', 'run': '2022-07-21_04-33-25', 'scenario': 'target_highmem', 'status': '0', 'url': 'http://target-service.target.svc.cluster.local/highmem?count=15'}, 'value': [1658378106.696, '27.25311124777207']}, {'metric': {'error': 'dial: connection refused', 'error_code': '1212', 'expected_response': 'false', 'method': 'GET', 'run': '2022-07-21_04-34-21', 'scenario': 'target_highmem', 'status': '0', 'url': 'http://target-service.target.svc.cluster.local/highmem?count=15'}, 'value': [1658378106.696, '125.94553322521715']}, {'metric': {'error': 'dial: i/o timeout', 'error_code': '1211', 'expected_response': 'false', 'method': 'GET', 'run': '2022-07-21_04-34-21', 'scenario': 'target_highmem', 'status': '0', 'url': 'http://target-service.target.svc.cluster.local/highmem?count=15'}, 'value': [1658378106.696, '31.459084852074326']}, {'metric': {'expected_response': 'true', 'method': 'GET', 'proto': 'HTTP/1.1', 'run': '2022-07-21_04-34-21', 'scenario': 'target_highmem', 'status': '200', 'url': 'http://target-service.target.svc.cluster.local/highmem?count=15'}, 'value': [1658378106.696, '0.8451881451881452']}]}}\n",
      "['0', '0', '0', '0', '200']\n",
      "['0', '0', '0', '0']\n",
      "run failed\n",
      "experiment failed\n",
      "Reset done\n",
      "experiment ended\n",
      "no experiment running\n",
      "Started\n"
     ]
    },
    {
     "name": "stderr",
     "output_type": "stream",
     "text": [
      "\u001b[32m[I 2022-07-21 10:05:31,982]\u001b[0m Trial 1 pruned. \u001b[0m\n"
     ]
    },
    {
     "name": "stdout",
     "output_type": "stream",
     "text": [
      "{'status': 'success', 'data': {'resultType': 'vector', 'result': [{'metric': {'error': 'EOF', 'error_code': '1000', 'expected_response': 'false', 'method': 'GET', 'run': '2022-07-21_04-34-21', 'scenario': 'target_highmem', 'status': '0', 'url': 'http://target-service.target.svc.cluster.local/highmem?count=15'}, 'value': [1658378131.984, '0.9688715953307393']}, {'metric': {'error': 'dial: connection refused', 'error_code': '1212', 'expected_response': 'false', 'method': 'GET', 'run': '2022-07-21_04-34-21', 'scenario': 'target_highmem', 'status': '0', 'url': 'http://target-service.target.svc.cluster.local/highmem?count=15'}, 'value': [1658378131.984, '154.29904481343175']}, {'metric': {'error': 'dial: connection refused', 'error_code': '1212', 'expected_response': 'false', 'method': 'GET', 'run': '2022-07-21_04-35-21', 'scenario': 'target_highmem', 'status': '0', 'url': 'http://target-service.target.svc.cluster.local/highmem?count=15'}, 'value': [1658378131.984, '10']}, {'metric': {'error': 'dial: i/o timeout', 'error_code': '1211', 'expected_response': 'false', 'method': 'GET', 'run': '2022-07-21_04-34-21', 'scenario': 'target_highmem', 'status': '0', 'url': 'http://target-service.target.svc.cluster.local/highmem?count=15'}, 'value': [1658378131.984, '64.51760435416342']}, {'metric': {'error': 'read: connection reset by peer', 'error_code': '1220', 'expected_response': 'false', 'method': 'GET', 'run': '2022-07-21_04-34-21', 'scenario': 'target_highmem', 'status': '0', 'url': 'http://target-service.target.svc.cluster.local/highmem?count=15'}, 'value': [1658378131.984, '1.9379242868969668']}, {'metric': {'expected_response': 'true', 'method': 'GET', 'proto': 'HTTP/1.1', 'run': '2022-07-21_04-34-21', 'scenario': 'target_highmem', 'status': '200', 'url': 'http://target-service.target.svc.cluster.local/highmem?count=15'}, 'value': [1658378131.984, '1.9393382352941178']}]}}\n",
      "['0', '0', '0', '0', '0', '200']\n",
      "['0', '0', '0', '0', '0']\n",
      "run failed\n",
      "experiment failed\n",
      "Reset done\n",
      "experiment ended\n",
      "no experiment running\n",
      "Started\n"
     ]
    },
    {
     "name": "stderr",
     "output_type": "stream",
     "text": [
      "\u001b[32m[I 2022-07-21 10:05:57,139]\u001b[0m Trial 2 pruned. \u001b[0m\n"
     ]
    },
    {
     "name": "stdout",
     "output_type": "stream",
     "text": [
      "{'status': 'success', 'data': {'resultType': 'vector', 'result': [{'metric': {'error': 'EOF', 'error_code': '1000', 'expected_response': 'false', 'method': 'GET', 'run': '2022-07-21_04-34-21', 'scenario': 'target_highmem', 'status': '0', 'url': 'http://target-service.target.svc.cluster.local/highmem?count=15'}, 'value': [1658378157.138, '0.9688715953307393']}, {'metric': {'error': 'dial: connection refused', 'error_code': '1212', 'expected_response': 'false', 'method': 'GET', 'run': '2022-07-21_04-34-21', 'scenario': 'target_highmem', 'status': '0', 'url': 'http://target-service.target.svc.cluster.local/highmem?count=15'}, 'value': [1658378157.138, '132.9877477998821']}, {'metric': {'error': 'dial: connection refused', 'error_code': '1212', 'expected_response': 'false', 'method': 'GET', 'run': '2022-07-21_04-35-21', 'scenario': 'target_highmem', 'status': '0', 'url': 'http://target-service.target.svc.cluster.local/highmem?count=15'}, 'value': [1658378157.138, '16']}, {'metric': {'error': 'dial: i/o timeout', 'error_code': '1211', 'expected_response': 'false', 'method': 'GET', 'run': '2022-07-21_04-34-21', 'scenario': 'target_highmem', 'status': '0', 'url': 'http://target-service.target.svc.cluster.local/highmem?count=15'}, 'value': [1658378157.138, '64.51760435416342']}, {'metric': {'error': 'read: connection reset by peer', 'error_code': '1220', 'expected_response': 'false', 'method': 'GET', 'run': '2022-07-21_04-34-21', 'scenario': 'target_highmem', 'status': '0', 'url': 'http://target-service.target.svc.cluster.local/highmem?count=15'}, 'value': [1658378157.138, '1.9379242868969668']}, {'metric': {'expected_response': 'true', 'method': 'GET', 'proto': 'HTTP/1.1', 'run': '2022-07-21_04-34-21', 'scenario': 'target_highmem', 'status': '200', 'url': 'http://target-service.target.svc.cluster.local/highmem?count=15'}, 'value': [1658378157.138, '1.9393382352941178']}, {'metric': {'expected_response': 'true', 'method': 'GET', 'proto': 'HTTP/1.1', 'run': '2022-07-21_04-35-47', 'scenario': 'target_highmem', 'status': '200', 'url': 'http://target-service.target.svc.cluster.local/highmem?count=15'}, 'value': [1658378157.138, '0']}]}}\n",
      "['0', '0', '0', '0', '0', '200', '200']\n",
      "['0', '0', '0', '0', '0']\n",
      "run failed\n",
      "experiment failed\n",
      "Reset done\n",
      "experiment ended\n",
      "no experiment running\n",
      "Started\n"
     ]
    },
    {
     "name": "stderr",
     "output_type": "stream",
     "text": [
      "\u001b[32m[I 2022-07-21 10:06:22,404]\u001b[0m Trial 3 pruned. \u001b[0m\n"
     ]
    },
    {
     "name": "stdout",
     "output_type": "stream",
     "text": [
      "{'status': 'success', 'data': {'resultType': 'vector', 'result': [{'metric': {'error': 'EOF', 'error_code': '1000', 'expected_response': 'false', 'method': 'GET', 'run': '2022-07-21_04-36-12', 'scenario': 'target_highmem', 'status': '0', 'url': 'http://target-service.target.svc.cluster.local/highmem?count=15'}, 'value': [1658378182.373, '0.5']}, {'metric': {'error': 'dial: connection refused', 'error_code': '1212', 'expected_response': 'false', 'method': 'GET', 'run': '2022-07-21_04-35-21', 'scenario': 'target_highmem', 'status': '0', 'url': 'http://target-service.target.svc.cluster.local/highmem?count=15'}, 'value': [1658378182.373, '16']}, {'metric': {'error': 'dial: connection refused', 'error_code': '1212', 'expected_response': 'false', 'method': 'GET', 'run': '2022-07-21_04-36-12', 'scenario': 'target_highmem', 'status': '0', 'url': 'http://target-service.target.svc.cluster.local/highmem?count=15'}, 'value': [1658378182.373, '4.611356510069605']}, {'metric': {'error': 'read: connection reset by peer', 'error_code': '1220', 'expected_response': 'false', 'method': 'GET', 'run': '2022-07-21_04-36-12', 'scenario': 'target_highmem', 'status': '0', 'url': 'http://target-service.target.svc.cluster.local/highmem?count=15'}, 'value': [1658378182.373, '3.4691544154218943']}, {'metric': {'expected_response': 'true', 'method': 'GET', 'proto': 'HTTP/1.1', 'run': '2022-07-21_04-35-47', 'scenario': 'target_highmem', 'status': '200', 'url': 'http://target-service.target.svc.cluster.local/highmem?count=15'}, 'value': [1658378182.373, '0']}, {'metric': {'expected_response': 'true', 'method': 'GET', 'proto': 'HTTP/1.1', 'run': '2022-07-21_04-36-12', 'scenario': 'target_highmem', 'status': '200', 'url': 'http://target-service.target.svc.cluster.local/highmem?count=15'}, 'value': [1658378182.373, '0.35135135135135137']}]}}\n",
      "['0', '0', '0', '0', '200', '200']\n",
      "['0', '0', '0', '0']\n",
      "run failed\n",
      "experiment failed\n",
      "Reset done\n",
      "experiment ended\n",
      "no experiment running\n",
      "Started\n"
     ]
    },
    {
     "name": "stderr",
     "output_type": "stream",
     "text": [
      "\u001b[32m[I 2022-07-21 10:06:47,779]\u001b[0m Trial 4 pruned. \u001b[0m\n"
     ]
    },
    {
     "name": "stdout",
     "output_type": "stream",
     "text": [
      "{'status': 'success', 'data': {'resultType': 'vector', 'result': [{'metric': {'error': 'EOF', 'error_code': '1000', 'expected_response': 'false', 'method': 'GET', 'run': '2022-07-21_04-36-12', 'scenario': 'target_highmem', 'status': '0', 'url': 'http://target-service.target.svc.cluster.local/highmem?count=15'}, 'value': [1658378207.79, '0.5']}, {'metric': {'error': 'dial: connection refused', 'error_code': '1212', 'expected_response': 'false', 'method': 'GET', 'run': '2022-07-21_04-36-12', 'scenario': 'target_highmem', 'status': '0', 'url': 'http://target-service.target.svc.cluster.local/highmem?count=15'}, 'value': [1658378207.79, '32.734795109216975']}, {'metric': {'error': 'read: connection reset by peer', 'error_code': '1220', 'expected_response': 'false', 'method': 'GET', 'run': '2022-07-21_04-36-12', 'scenario': 'target_highmem', 'status': '0', 'url': 'http://target-service.target.svc.cluster.local/highmem?count=15'}, 'value': [1658378207.79, '3.4691544154218943']}, {'metric': {'expected_response': 'true', 'method': 'GET', 'proto': 'HTTP/1.1', 'run': '2022-07-21_04-35-47', 'scenario': 'target_highmem', 'status': '200', 'url': 'http://target-service.target.svc.cluster.local/highmem?count=15'}, 'value': [1658378207.79, '0']}, {'metric': {'expected_response': 'true', 'method': 'GET', 'proto': 'HTTP/1.1', 'run': '2022-07-21_04-36-12', 'scenario': 'target_highmem', 'status': '200', 'url': 'http://target-service.target.svc.cluster.local/highmem?count=15'}, 'value': [1658378207.79, '0.35135135135135137']}, {'metric': {'expected_response': 'true', 'method': 'GET', 'proto': 'HTTP/1.1', 'run': '2022-07-21_04-36-37', 'scenario': 'target_highmem', 'status': '200', 'url': 'http://target-service.target.svc.cluster.local/highmem?count=15'}, 'value': [1658378207.79, '0']}]}}\n",
      "['0', '0', '0', '200', '200', '200']\n",
      "['0', '0', '0']\n",
      "run failed\n",
      "experiment failed\n",
      "Reset done\n",
      "experiment ended\n",
      "no experiment running\n",
      "Started\n",
      "{'status': 'success', 'data': {'resultType': 'vector', 'result': [{'metric': {'expected_response': 'true', 'method': 'GET', 'proto': 'HTTP/1.1', 'run': '2022-07-21_04-37-02', 'scenario': 'target_highmem', 'status': '200', 'url': 'http://target-service.target.svc.cluster.local/highmem?count=15'}, 'value': [1658378413.893, '0']}]}}\n",
      "['200']\n",
      "[]\n",
      "run success\n",
      "{'status': 'success', 'data': {'resultType': 'vector', 'result': [{'metric': {'run': '2022-07-21_04-37-02', 'scenario': 'target_highmem', 'tag': 'highmem_duration'}, 'value': [1658378418.888, '79.59187287581942']}]}}\n",
      "[{'metric': {'run': '2022-07-21_04-37-02', 'scenario': 'target_highmem', 'tag': 'highmem_duration'}, 'value': [1658378418.888, '79.59187287581942']}]\n",
      "latency: 79.59187287581942\n",
      "Reset done\n"
     ]
    },
    {
     "name": "stderr",
     "output_type": "stream",
     "text": [
      "\u001b[32m[I 2022-07-21 10:10:28,939]\u001b[0m Trial 5 finished with value: 79.59187287581942 and parameters: {'cpus': 190, 'memory': 230}. Best is trial 5 with value: 79.59187287581942.\u001b[0m\n"
     ]
    },
    {
     "name": "stdout",
     "output_type": "stream",
     "text": [
      "experiment ended\n",
      "experiment stopped\n",
      "Reset done\n",
      "experiment ended\n",
      "no experiment running\n",
      "Started\n",
      "{'status': 'success', 'data': {'resultType': 'vector', 'result': [{'metric': {'expected_response': 'true', 'method': 'GET', 'proto': 'HTTP/1.1', 'run': '2022-07-21_04-40-44', 'scenario': 'target_highmem', 'status': '200', 'url': 'http://target-service.target.svc.cluster.local/highmem?count=15'}, 'value': [1658378635.265, '0']}]}}\n",
      "['200']\n",
      "[]\n",
      "run success\n",
      "{'status': 'success', 'data': {'resultType': 'vector', 'result': [{'metric': {'run': '2022-07-21_04-40-44', 'scenario': 'target_highmem', 'tag': 'highmem_duration'}, 'value': [1658378640.28, '74.67800825247589']}]}}\n",
      "[{'metric': {'run': '2022-07-21_04-40-44', 'scenario': 'target_highmem', 'tag': 'highmem_duration'}, 'value': [1658378640.28, '74.67800825247589']}]\n",
      "latency: 74.67800825247589\n",
      "Reset done\n"
     ]
    },
    {
     "name": "stderr",
     "output_type": "stream",
     "text": [
      "\u001b[32m[I 2022-07-21 10:14:10,302]\u001b[0m Trial 6 finished with value: 74.67800825247589 and parameters: {'cpus': 200, 'memory': 230}. Best is trial 6 with value: 74.67800825247589.\u001b[0m\n"
     ]
    },
    {
     "name": "stdout",
     "output_type": "stream",
     "text": [
      "experiment ended\n",
      "experiment stopped\n",
      "Reset done\n",
      "experiment ended\n",
      "no experiment running\n",
      "Started\n",
      "{'status': 'success', 'data': {'resultType': 'vector', 'result': [{'metric': {'expected_response': 'true', 'method': 'GET', 'proto': 'HTTP/1.1', 'run': '2022-07-21_04-40-44', 'scenario': 'target_highmem', 'status': '200', 'url': 'http://target-service.target.svc.cluster.local/highmem?count=15'}, 'value': [1658378675.465, '0']}, {'metric': {'expected_response': 'true', 'method': 'GET', 'proto': 'HTTP/1.1', 'run': '2022-07-21_04-44-25', 'scenario': 'target_highmem', 'status': '200', 'url': 'http://target-service.target.svc.cluster.local/highmem?count=15'}, 'value': [1658378675.465, '0']}]}}\n",
      "['200', '200']\n",
      "[]\n",
      "run success\n",
      "{'status': 'success', 'data': {'resultType': 'vector', 'result': [{'metric': {'run': '2022-07-21_04-40-44', 'scenario': 'target_highmem', 'tag': 'highmem_duration'}, 'value': [1658378680.481, '79.2924326828635']}, {'metric': {'run': '2022-07-21_04-44-25', 'scenario': 'target_highmem', 'tag': 'highmem_duration'}, 'value': [1658378680.481, '76.74969915989506']}]}}\n",
      "[{'metric': {'run': '2022-07-21_04-40-44', 'scenario': 'target_highmem', 'tag': 'highmem_duration'}, 'value': [1658378680.481, '79.2924326828635']}, {'metric': {'run': '2022-07-21_04-44-25', 'scenario': 'target_highmem', 'tag': 'highmem_duration'}, 'value': [1658378680.481, '76.74969915989506']}]\n",
      "latency: 79.2924326828635\n",
      "Reset done\n"
     ]
    },
    {
     "name": "stderr",
     "output_type": "stream",
     "text": [
      "\u001b[32m[I 2022-07-21 10:14:50,516]\u001b[0m Trial 7 finished with value: 79.2924326828635 and parameters: {'cpus': 200, 'memory': 190}. Best is trial 6 with value: 74.67800825247589.\u001b[0m\n"
     ]
    },
    {
     "name": "stdout",
     "output_type": "stream",
     "text": [
      "experiment ended\n",
      "experiment stopped\n",
      "Reset done\n",
      "experiment ended\n",
      "no experiment running\n",
      "Started\n",
      "{'status': 'success', 'data': {'resultType': 'vector', 'result': [{'metric': {'expected_response': 'true', 'method': 'GET', 'proto': 'HTTP/1.1', 'run': '2022-07-21_04-44-25', 'scenario': 'target_highmem', 'status': '200', 'url': 'http://target-service.target.svc.cluster.local/highmem?count=15'}, 'value': [1658378715.689, '0']}, {'metric': {'expected_response': 'true', 'method': 'GET', 'proto': 'HTTP/1.1', 'run': '2022-07-21_04-45-05', 'scenario': 'target_highmem', 'status': '200', 'url': 'http://target-service.target.svc.cluster.local/highmem?count=15'}, 'value': [1658378715.689, '0']}]}}\n",
      "['200', '200']\n",
      "[]\n",
      "run success\n",
      "{'status': 'success', 'data': {'resultType': 'vector', 'result': [{'metric': {'run': '2022-07-21_04-40-44', 'scenario': 'target_highmem', 'tag': 'highmem_duration'}, 'value': [1658378720.697, '82.9329454511135']}, {'metric': {'run': '2022-07-21_04-44-25', 'scenario': 'target_highmem', 'tag': 'highmem_duration'}, 'value': [1658378720.697, '81.66423189090577']}, {'metric': {'run': '2022-07-21_04-45-05', 'scenario': 'target_highmem', 'tag': 'highmem_duration'}, 'value': [1658378720.697, '191.1115564522837']}]}}\n",
      "[{'metric': {'run': '2022-07-21_04-40-44', 'scenario': 'target_highmem', 'tag': 'highmem_duration'}, 'value': [1658378720.697, '82.9329454511135']}, {'metric': {'run': '2022-07-21_04-44-25', 'scenario': 'target_highmem', 'tag': 'highmem_duration'}, 'value': [1658378720.697, '81.66423189090577']}, {'metric': {'run': '2022-07-21_04-45-05', 'scenario': 'target_highmem', 'tag': 'highmem_duration'}, 'value': [1658378720.697, '191.1115564522837']}]\n",
      "latency: 82.9329454511135\n",
      "Reset done\n"
     ]
    },
    {
     "name": "stderr",
     "output_type": "stream",
     "text": [
      "\u001b[32m[I 2022-07-21 10:15:35,784]\u001b[0m Trial 8 finished with value: 82.9329454511135 and parameters: {'cpus': 160, 'memory': 260}. Best is trial 6 with value: 74.67800825247589.\u001b[0m\n"
     ]
    },
    {
     "name": "stdout",
     "output_type": "stream",
     "text": [
      "experiment ended\n",
      "experiment stopped\n",
      "Reset done\n",
      "experiment ended\n",
      "no experiment running\n",
      "Started\n",
      "{'status': 'success', 'data': {'resultType': 'vector', 'result': [{'metric': {'expected_response': 'true', 'method': 'GET', 'proto': 'HTTP/1.1', 'run': '2022-07-21_04-45-05', 'scenario': 'target_highmem', 'status': '200', 'url': 'http://target-service.target.svc.cluster.local/highmem?count=15'}, 'value': [1658378761.027, '0']}, {'metric': {'expected_response': 'true', 'method': 'GET', 'proto': 'HTTP/1.1', 'run': '2022-07-21_04-45-51', 'scenario': 'target_highmem', 'status': '200', 'url': 'http://target-service.target.svc.cluster.local/highmem?count=15'}, 'value': [1658378761.027, '0']}]}}\n",
      "['200', '200']\n",
      "[]\n",
      "run success\n",
      "{'status': 'success', 'data': {'resultType': 'vector', 'result': [{'metric': {'run': '2022-07-21_04-40-44', 'scenario': 'target_highmem', 'tag': 'highmem_duration'}, 'value': [1658378766.043, '74.79517494366118']}, {'metric': {'run': '2022-07-21_04-44-25', 'scenario': 'target_highmem', 'tag': 'highmem_duration'}, 'value': [1658378766.043, '81.66423189090577']}, {'metric': {'run': '2022-07-21_04-45-05', 'scenario': 'target_highmem', 'tag': 'highmem_duration'}, 'value': [1658378766.043, '223.99906671218875']}, {'metric': {'run': '2022-07-21_04-45-51', 'scenario': 'target_highmem', 'tag': 'highmem_duration'}, 'value': [1658378766.043, '600.4774829616601']}]}}\n",
      "[{'metric': {'run': '2022-07-21_04-40-44', 'scenario': 'target_highmem', 'tag': 'highmem_duration'}, 'value': [1658378766.043, '74.79517494366118']}, {'metric': {'run': '2022-07-21_04-44-25', 'scenario': 'target_highmem', 'tag': 'highmem_duration'}, 'value': [1658378766.043, '81.66423189090577']}, {'metric': {'run': '2022-07-21_04-45-05', 'scenario': 'target_highmem', 'tag': 'highmem_duration'}, 'value': [1658378766.043, '223.99906671218875']}, {'metric': {'run': '2022-07-21_04-45-51', 'scenario': 'target_highmem', 'tag': 'highmem_duration'}, 'value': [1658378766.043, '600.4774829616601']}]\n",
      "latency: 74.79517494366118\n",
      "Reset done\n"
     ]
    },
    {
     "name": "stderr",
     "output_type": "stream",
     "text": [
      "\u001b[32m[I 2022-07-21 10:16:16,135]\u001b[0m Trial 9 finished with value: 74.79517494366118 and parameters: {'cpus': 130, 'memory': 190}. Best is trial 6 with value: 74.67800825247589.\u001b[0m\n"
     ]
    },
    {
     "name": "stdout",
     "output_type": "stream",
     "text": [
      "experiment ended\n",
      "experiment stopped\n",
      "Reset done\n",
      "experiment ended\n",
      "no experiment running\n",
      "Started\n",
      "{'status': 'success', 'data': {'resultType': 'vector', 'result': [{'metric': {'expected_response': 'true', 'method': 'GET', 'proto': 'HTTP/1.1', 'run': '2022-07-21_04-46-31', 'scenario': 'target_highmem', 'status': '200', 'url': 'http://target-service.target.svc.cluster.local/highmem?count=15'}, 'value': [1658378982.064, '0']}]}}\n",
      "['200']\n",
      "[]\n",
      "run success\n",
      "{'status': 'success', 'data': {'resultType': 'vector', 'result': [{'metric': {'run': '2022-07-21_04-46-31', 'scenario': 'target_highmem', 'tag': 'highmem_duration'}, 'value': [1658378987.081, '32.50354919008319']}]}}\n",
      "[{'metric': {'run': '2022-07-21_04-46-31', 'scenario': 'target_highmem', 'tag': 'highmem_duration'}, 'value': [1658378987.081, '32.50354919008319']}]\n",
      "latency: 32.50354919008319\n",
      "Reset done\n"
     ]
    },
    {
     "name": "stderr",
     "output_type": "stream",
     "text": [
      "\u001b[32m[I 2022-07-21 10:19:57,335]\u001b[0m Trial 10 finished with value: 32.50354919008319 and parameters: {'cpus': 300, 'memory': 300}. Best is trial 10 with value: 32.50354919008319.\u001b[0m\n"
     ]
    },
    {
     "name": "stdout",
     "output_type": "stream",
     "text": [
      "experiment ended\n",
      "experiment stopped\n",
      "Reset done\n",
      "experiment ended\n",
      "no experiment running\n",
      "Started\n",
      "{'status': 'success', 'data': {'resultType': 'vector', 'result': [{'metric': {'expected_response': 'true', 'method': 'GET', 'proto': 'HTTP/1.1', 'run': '2022-07-21_04-50-12', 'scenario': 'target_highmem', 'status': '200', 'url': 'http://target-service.target.svc.cluster.local/highmem?count=15'}, 'value': [1658379203.384, '0']}]}}\n",
      "['200']\n",
      "[]\n",
      "run success\n",
      "{'status': 'success', 'data': {'resultType': 'vector', 'result': [{'metric': {'run': '2022-07-21_04-50-12', 'scenario': 'target_highmem', 'tag': 'highmem_duration'}, 'value': [1658379208.433, '44.43671369732361']}]}}\n",
      "[{'metric': {'run': '2022-07-21_04-50-12', 'scenario': 'target_highmem', 'tag': 'highmem_duration'}, 'value': [1658379208.433, '44.43671369732361']}]\n",
      "latency: 44.43671369732361\n",
      "Reset done\n"
     ]
    },
    {
     "name": "stderr",
     "output_type": "stream",
     "text": [
      "\u001b[32m[I 2022-07-21 10:23:38,516]\u001b[0m Trial 11 finished with value: 44.43671369732361 and parameters: {'cpus': 300, 'memory': 300}. Best is trial 10 with value: 32.50354919008319.\u001b[0m\n"
     ]
    },
    {
     "name": "stdout",
     "output_type": "stream",
     "text": [
      "experiment ended\n",
      "experiment stopped\n",
      "Reset done\n",
      "experiment ended\n",
      "no experiment running\n",
      "Started\n",
      "{'status': 'success', 'data': {'resultType': 'vector', 'result': [{'metric': {'expected_response': 'true', 'method': 'GET', 'proto': 'HTTP/1.1', 'run': '2022-07-21_04-53-53', 'scenario': 'target_highmem', 'status': '200', 'url': 'http://target-service.target.svc.cluster.local/highmem?count=15'}, 'value': [1658379425.049, '0']}]}}\n",
      "['200']\n",
      "[]\n",
      "run success\n",
      "{'status': 'success', 'data': {'resultType': 'vector', 'result': [{'metric': {'run': '2022-07-21_04-53-53', 'scenario': 'target_highmem', 'tag': 'highmem_duration'}, 'value': [1658379430.067, '29.556682470647473']}]}}\n",
      "[{'metric': {'run': '2022-07-21_04-53-53', 'scenario': 'target_highmem', 'tag': 'highmem_duration'}, 'value': [1658379430.067, '29.556682470647473']}]\n",
      "latency: 29.556682470647473\n",
      "Reset done\n"
     ]
    },
    {
     "name": "stderr",
     "output_type": "stream",
     "text": [
      "\u001b[32m[I 2022-07-21 10:27:20,092]\u001b[0m Trial 12 finished with value: 29.556682470647473 and parameters: {'cpus': 300, 'memory': 300}. Best is trial 12 with value: 29.556682470647473.\u001b[0m\n"
     ]
    },
    {
     "name": "stdout",
     "output_type": "stream",
     "text": [
      "experiment ended\n",
      "experiment stopped\n",
      "Reset done\n",
      "experiment ended\n",
      "no experiment running\n",
      "Started\n",
      "{'status': 'success', 'data': {'resultType': 'vector', 'result': [{'metric': {'expected_response': 'true', 'method': 'GET', 'proto': 'HTTP/1.1', 'run': '2022-07-21_04-53-53', 'scenario': 'target_highmem', 'status': '200', 'url': 'http://target-service.target.svc.cluster.local/highmem?count=15'}, 'value': [1658379465.251, '0']}, {'metric': {'expected_response': 'true', 'method': 'GET', 'proto': 'HTTP/1.1', 'run': '2022-07-21_04-57-35', 'scenario': 'target_highmem', 'status': '200', 'url': 'http://target-service.target.svc.cluster.local/highmem?count=15'}, 'value': [1658379465.251, '0']}]}}\n",
      "['200', '200']\n",
      "[]\n",
      "run success\n",
      "{'status': 'success', 'data': {'resultType': 'vector', 'result': [{'metric': {'run': '2022-07-21_04-53-53', 'scenario': 'target_highmem', 'tag': 'highmem_duration'}, 'value': [1658379470.247, '26.071217893161112']}, {'metric': {'run': '2022-07-21_04-57-35', 'scenario': 'target_highmem', 'tag': 'highmem_duration'}, 'value': [1658379470.247, '117.10051157538648']}]}}\n",
      "[{'metric': {'run': '2022-07-21_04-53-53', 'scenario': 'target_highmem', 'tag': 'highmem_duration'}, 'value': [1658379470.247, '26.071217893161112']}, {'metric': {'run': '2022-07-21_04-57-35', 'scenario': 'target_highmem', 'tag': 'highmem_duration'}, 'value': [1658379470.247, '117.10051157538648']}]\n",
      "latency: 26.071217893161112\n",
      "Reset done\n"
     ]
    },
    {
     "name": "stderr",
     "output_type": "stream",
     "text": [
      "\u001b[32m[I 2022-07-21 10:28:00,283]\u001b[0m Trial 13 finished with value: 26.071217893161112 and parameters: {'cpus': 300, 'memory': 300}. Best is trial 13 with value: 26.071217893161112.\u001b[0m\n"
     ]
    },
    {
     "name": "stdout",
     "output_type": "stream",
     "text": [
      "experiment ended\n",
      "experiment stopped\n",
      "Reset done\n",
      "experiment ended\n",
      "no experiment running\n",
      "Started\n",
      "{'status': 'success', 'data': {'resultType': 'vector', 'result': [{'metric': {'expected_response': 'true', 'method': 'GET', 'proto': 'HTTP/1.1', 'run': '2022-07-21_04-57-35', 'scenario': 'target_highmem', 'status': '200', 'url': 'http://target-service.target.svc.cluster.local/highmem?count=15'}, 'value': [1658379505.416, '0']}, {'metric': {'expected_response': 'true', 'method': 'GET', 'proto': 'HTTP/1.1', 'run': '2022-07-21_04-58-15', 'scenario': 'target_highmem', 'status': '200', 'url': 'http://target-service.target.svc.cluster.local/highmem?count=15'}, 'value': [1658379505.416, '0']}]}}\n",
      "['200', '200']\n",
      "[]\n",
      "run success\n",
      "{'status': 'success', 'data': {'resultType': 'vector', 'result': [{'metric': {'run': '2022-07-21_04-53-53', 'scenario': 'target_highmem', 'tag': 'highmem_duration'}, 'value': [1658379510.439, '24.358422481949408']}, {'metric': {'run': '2022-07-21_04-57-35', 'scenario': 'target_highmem', 'tag': 'highmem_duration'}, 'value': [1658379510.439, '103.16308395353111']}, {'metric': {'run': '2022-07-21_04-58-15', 'scenario': 'target_highmem', 'tag': 'highmem_duration'}, 'value': [1658379510.439, '39.72823812086674']}]}}\n",
      "[{'metric': {'run': '2022-07-21_04-53-53', 'scenario': 'target_highmem', 'tag': 'highmem_duration'}, 'value': [1658379510.439, '24.358422481949408']}, {'metric': {'run': '2022-07-21_04-57-35', 'scenario': 'target_highmem', 'tag': 'highmem_duration'}, 'value': [1658379510.439, '103.16308395353111']}, {'metric': {'run': '2022-07-21_04-58-15', 'scenario': 'target_highmem', 'tag': 'highmem_duration'}, 'value': [1658379510.439, '39.72823812086674']}]\n",
      "latency: 24.358422481949408\n",
      "Reset done\n"
     ]
    },
    {
     "name": "stderr",
     "output_type": "stream",
     "text": [
      "\u001b[32m[I 2022-07-21 10:28:40,480]\u001b[0m Trial 14 finished with value: 24.358422481949408 and parameters: {'cpus': 250, 'memory': 270}. Best is trial 14 with value: 24.358422481949408.\u001b[0m\n"
     ]
    },
    {
     "name": "stdout",
     "output_type": "stream",
     "text": [
      "experiment ended\n",
      "experiment stopped\n",
      "Reset done\n",
      "experiment ended\n",
      "no experiment running\n",
      "Started\n",
      "{'status': 'success', 'data': {'resultType': 'vector', 'result': [{'metric': {'expected_response': 'true', 'method': 'GET', 'proto': 'HTTP/1.1', 'run': '2022-07-21_04-58-15', 'scenario': 'target_highmem', 'status': '200', 'url': 'http://target-service.target.svc.cluster.local/highmem?count=15'}, 'value': [1658379545.687, '0']}, {'metric': {'expected_response': 'true', 'method': 'GET', 'proto': 'HTTP/1.1', 'run': '2022-07-21_04-58-55', 'scenario': 'target_highmem', 'status': '200', 'url': 'http://target-service.target.svc.cluster.local/highmem?count=15'}, 'value': [1658379545.687, '0']}]}}\n",
      "['200', '200']\n",
      "[]\n",
      "run success\n",
      "{'status': 'success', 'data': {'resultType': 'vector', 'result': [{'metric': {'run': '2022-07-21_04-53-53', 'scenario': 'target_highmem', 'tag': 'highmem_duration'}, 'value': [1658379550.703, '24.39948336876746']}, {'metric': {'run': '2022-07-21_04-57-35', 'scenario': 'target_highmem', 'tag': 'highmem_duration'}, 'value': [1658379550.703, '103.16308395353111']}, {'metric': {'run': '2022-07-21_04-58-15', 'scenario': 'target_highmem', 'tag': 'highmem_duration'}, 'value': [1658379550.703, '46.91113379741503']}, {'metric': {'run': '2022-07-21_04-58-55', 'scenario': 'target_highmem', 'tag': 'highmem_duration'}, 'value': [1658379550.703, '50.63351693072146']}]}}\n",
      "[{'metric': {'run': '2022-07-21_04-53-53', 'scenario': 'target_highmem', 'tag': 'highmem_duration'}, 'value': [1658379550.703, '24.39948336876746']}, {'metric': {'run': '2022-07-21_04-57-35', 'scenario': 'target_highmem', 'tag': 'highmem_duration'}, 'value': [1658379550.703, '103.16308395353111']}, {'metric': {'run': '2022-07-21_04-58-15', 'scenario': 'target_highmem', 'tag': 'highmem_duration'}, 'value': [1658379550.703, '46.91113379741503']}, {'metric': {'run': '2022-07-21_04-58-55', 'scenario': 'target_highmem', 'tag': 'highmem_duration'}, 'value': [1658379550.703, '50.63351693072146']}]\n",
      "latency: 24.39948336876746\n",
      "Reset done\n"
     ]
    },
    {
     "name": "stderr",
     "output_type": "stream",
     "text": [
      "\u001b[32m[I 2022-07-21 10:29:20,741]\u001b[0m Trial 15 finished with value: 24.39948336876746 and parameters: {'cpus': 250, 'memory': 260}. Best is trial 14 with value: 24.358422481949408.\u001b[0m\n"
     ]
    },
    {
     "name": "stdout",
     "output_type": "stream",
     "text": [
      "experiment ended\n",
      "experiment stopped\n",
      "Reset done\n",
      "experiment ended\n",
      "no experiment running\n",
      "Started\n",
      "{'status': 'success', 'data': {'resultType': 'vector', 'result': [{'metric': {'expected_response': 'true', 'method': 'GET', 'proto': 'HTTP/1.1', 'run': '2022-07-21_04-59-35', 'scenario': 'target_highmem', 'status': '200', 'url': 'http://target-service.target.svc.cluster.local/highmem?count=15'}, 'value': [1658379766.807, '0']}]}}\n",
      "['200']\n",
      "[]\n",
      "run success\n",
      "{'status': 'success', 'data': {'resultType': 'vector', 'result': [{'metric': {'run': '2022-07-21_04-59-35', 'scenario': 'target_highmem', 'tag': 'highmem_duration'}, 'value': [1658379771.808, '72.79068847277145']}]}}\n",
      "[{'metric': {'run': '2022-07-21_04-59-35', 'scenario': 'target_highmem', 'tag': 'highmem_duration'}, 'value': [1658379771.808, '72.79068847277145']}]\n",
      "latency: 72.79068847277145\n",
      "Reset done\n"
     ]
    },
    {
     "name": "stderr",
     "output_type": "stream",
     "text": [
      "\u001b[32m[I 2022-07-21 10:33:01,888]\u001b[0m Trial 16 finished with value: 72.79068847277145 and parameters: {'cpus': 230, 'memory': 260}. Best is trial 14 with value: 24.358422481949408.\u001b[0m\n"
     ]
    },
    {
     "name": "stdout",
     "output_type": "stream",
     "text": [
      "experiment ended\n",
      "experiment stopped\n",
      "Reset done\n",
      "experiment ended\n",
      "no experiment running\n",
      "Started\n",
      "{'status': 'success', 'data': {'resultType': 'vector', 'result': [{'metric': {'expected_response': 'true', 'method': 'GET', 'proto': 'HTTP/1.1', 'run': '2022-07-21_05-03-17', 'scenario': 'target_highmem', 'status': '200', 'url': 'http://target-service.target.svc.cluster.local/highmem?count=15'}, 'value': [1658379988.035, '0']}]}}\n",
      "['200']\n",
      "[]\n",
      "run success\n",
      "{'status': 'success', 'data': {'resultType': 'vector', 'result': [{'metric': {'run': '2022-07-21_05-03-17', 'scenario': 'target_highmem', 'tag': 'highmem_duration'}, 'value': [1658379993.056, '49.30363808673827']}]}}\n",
      "[{'metric': {'run': '2022-07-21_05-03-17', 'scenario': 'target_highmem', 'tag': 'highmem_duration'}, 'value': [1658379993.056, '49.30363808673827']}]\n",
      "latency: 49.30363808673827\n",
      "Reset done\n"
     ]
    },
    {
     "name": "stderr",
     "output_type": "stream",
     "text": [
      "\u001b[32m[I 2022-07-21 10:36:43,100]\u001b[0m Trial 17 finished with value: 49.30363808673827 and parameters: {'cpus': 250, 'memory': 230}. Best is trial 14 with value: 24.358422481949408.\u001b[0m\n"
     ]
    },
    {
     "name": "stdout",
     "output_type": "stream",
     "text": [
      "experiment ended\n",
      "experiment stopped\n",
      "Reset done\n",
      "experiment ended\n",
      "no experiment running\n",
      "Started\n",
      "{'status': 'success', 'data': {'resultType': 'vector', 'result': [{'metric': {'expected_response': 'true', 'method': 'GET', 'proto': 'HTTP/1.1', 'run': '2022-07-21_05-06-58', 'scenario': 'target_highmem', 'status': '200', 'url': 'http://target-service.target.svc.cluster.local/highmem?count=15'}, 'value': [1658380208.949, '0']}]}}\n",
      "['200']\n",
      "[]\n",
      "run success\n",
      "{'status': 'success', 'data': {'resultType': 'vector', 'result': [{'metric': {'run': '2022-07-21_05-06-58', 'scenario': 'target_highmem', 'tag': 'highmem_duration'}, 'value': [1658380213.964, '39.61729302593033']}]}}\n",
      "[{'metric': {'run': '2022-07-21_05-06-58', 'scenario': 'target_highmem', 'tag': 'highmem_duration'}, 'value': [1658380213.964, '39.61729302593033']}]\n",
      "latency: 39.61729302593033\n",
      "Reset done\n"
     ]
    },
    {
     "name": "stderr",
     "output_type": "stream",
     "text": [
      "\u001b[32m[I 2022-07-21 10:40:23,977]\u001b[0m Trial 18 finished with value: 39.61729302593033 and parameters: {'cpus': 230, 'memory': 260}. Best is trial 14 with value: 24.358422481949408.\u001b[0m\n"
     ]
    },
    {
     "name": "stdout",
     "output_type": "stream",
     "text": [
      "experiment ended\n",
      "experiment stopped\n",
      "Reset done\n",
      "experiment ended\n",
      "no experiment running\n",
      "Started\n",
      "{'status': 'success', 'data': {'resultType': 'vector', 'result': [{'metric': {'expected_response': 'true', 'method': 'GET', 'proto': 'HTTP/1.1', 'run': '2022-07-21_05-10-39', 'scenario': 'target_highmem', 'status': '200', 'url': 'http://target-service.target.svc.cluster.local/highmem?count=15'}, 'value': [1658380430.238, '0']}]}}\n",
      "['200']\n",
      "[]\n",
      "run success\n",
      "{'status': 'success', 'data': {'resultType': 'vector', 'result': [{'metric': {'run': '2022-07-21_05-10-39', 'scenario': 'target_highmem', 'tag': 'highmem_duration'}, 'value': [1658380435.267, '61.729412562294485']}]}}\n",
      "[{'metric': {'run': '2022-07-21_05-10-39', 'scenario': 'target_highmem', 'tag': 'highmem_duration'}, 'value': [1658380435.267, '61.729412562294485']}]\n",
      "latency: 61.729412562294485\n",
      "Reset done\n"
     ]
    },
    {
     "name": "stderr",
     "output_type": "stream",
     "text": [
      "\u001b[32m[I 2022-07-21 10:44:05,338]\u001b[0m Trial 19 finished with value: 61.729412562294485 and parameters: {'cpus': 270, 'memory': 280}. Best is trial 14 with value: 24.358422481949408.\u001b[0m\n"
     ]
    },
    {
     "name": "stdout",
     "output_type": "stream",
     "text": [
      "experiment ended\n",
      "experiment stopped\n",
      "Reset done\n",
      "experiment ended\n",
      "no experiment running\n",
      "Started\n",
      "{'status': 'success', 'data': {'resultType': 'vector', 'result': [{'metric': {'expected_response': 'true', 'method': 'GET', 'proto': 'HTTP/1.1', 'run': '2022-07-21_05-14-20', 'scenario': 'target_highmem', 'status': '200', 'url': 'http://target-service.target.svc.cluster.local/highmem?count=15'}, 'value': [1658380651.251, '0']}]}}\n",
      "['200']\n",
      "[]\n",
      "run success\n",
      "{'status': 'success', 'data': {'resultType': 'vector', 'result': [{'metric': {'run': '2022-07-21_05-14-20', 'scenario': 'target_highmem', 'tag': 'highmem_duration'}, 'value': [1658380656.266, '48.39222253674103']}]}}\n",
      "[{'metric': {'run': '2022-07-21_05-14-20', 'scenario': 'target_highmem', 'tag': 'highmem_duration'}, 'value': [1658380656.266, '48.39222253674103']}]\n",
      "latency: 48.39222253674103\n",
      "Reset done\n"
     ]
    },
    {
     "name": "stderr",
     "output_type": "stream",
     "text": [
      "\u001b[32m[I 2022-07-21 10:47:46,297]\u001b[0m Trial 20 finished with value: 48.39222253674103 and parameters: {'cpus': 240, 'memory': 210}. Best is trial 14 with value: 24.358422481949408.\u001b[0m\n"
     ]
    },
    {
     "name": "stdout",
     "output_type": "stream",
     "text": [
      "experiment ended\n",
      "experiment stopped\n",
      "Reset done\n",
      "experiment ended\n",
      "no experiment running\n",
      "Started\n",
      "{'status': 'success', 'data': {'resultType': 'vector', 'result': [{'metric': {'expected_response': 'true', 'method': 'GET', 'proto': 'HTTP/1.1', 'run': '2022-07-21_05-18-01', 'scenario': 'target_highmem', 'status': '200', 'url': 'http://target-service.target.svc.cluster.local/highmem?count=15'}, 'value': [1658380872.355, '0']}]}}\n",
      "['200']\n",
      "[]\n",
      "run success\n",
      "{'status': 'success', 'data': {'resultType': 'vector', 'result': [{'metric': {'run': '2022-07-21_05-18-01', 'scenario': 'target_highmem', 'tag': 'highmem_duration'}, 'value': [1658380877.379, '51.2027925265012']}]}}\n",
      "[{'metric': {'run': '2022-07-21_05-18-01', 'scenario': 'target_highmem', 'tag': 'highmem_duration'}, 'value': [1658380877.379, '51.2027925265012']}]\n",
      "latency: 51.2027925265012\n",
      "Reset done\n"
     ]
    },
    {
     "name": "stderr",
     "output_type": "stream",
     "text": [
      "\u001b[32m[I 2022-07-21 10:51:27,611]\u001b[0m Trial 21 finished with value: 51.2027925265012 and parameters: {'cpus': 280, 'memory': 280}. Best is trial 14 with value: 24.358422481949408.\u001b[0m\n"
     ]
    },
    {
     "name": "stdout",
     "output_type": "stream",
     "text": [
      "experiment ended\n",
      "experiment stopped\n",
      "Reset done\n",
      "experiment ended\n",
      "no experiment running\n",
      "Started\n",
      "{'status': 'success', 'data': {'resultType': 'vector', 'result': [{'metric': {'expected_response': 'true', 'method': 'GET', 'proto': 'HTTP/1.1', 'run': '2022-07-21_05-21-42', 'scenario': 'target_highmem', 'status': '200', 'url': 'http://target-service.target.svc.cluster.local/highmem?count=15'}, 'value': [1658381094.067, '0']}]}}\n",
      "['200']\n",
      "[]\n",
      "run success\n",
      "{'status': 'success', 'data': {'resultType': 'vector', 'result': [{'metric': {'run': '2022-07-21_05-21-42', 'scenario': 'target_highmem', 'tag': 'highmem_duration'}, 'value': [1658381099.101, '51.13876621043227']}]}}\n",
      "[{'metric': {'run': '2022-07-21_05-21-42', 'scenario': 'target_highmem', 'tag': 'highmem_duration'}, 'value': [1658381099.101, '51.13876621043227']}]\n",
      "latency: 51.13876621043227\n",
      "Reset done\n"
     ]
    },
    {
     "name": "stderr",
     "output_type": "stream",
     "text": [
      "\u001b[32m[I 2022-07-21 10:55:09,143]\u001b[0m Trial 22 finished with value: 51.13876621043227 and parameters: {'cpus': 220, 'memory': 270}. Best is trial 14 with value: 24.358422481949408.\u001b[0m\n"
     ]
    },
    {
     "name": "stdout",
     "output_type": "stream",
     "text": [
      "experiment ended\n",
      "experiment stopped\n",
      "Reset done\n",
      "experiment ended\n",
      "no experiment running\n",
      "Started\n",
      "{'status': 'success', 'data': {'resultType': 'vector', 'result': [{'metric': {'expected_response': 'true', 'method': 'GET', 'proto': 'HTTP/1.1', 'run': '2022-07-21_05-21-42', 'scenario': 'target_highmem', 'status': '200', 'url': 'http://target-service.target.svc.cluster.local/highmem?count=15'}, 'value': [1658381134.317, '0']}, {'metric': {'expected_response': 'true', 'method': 'GET', 'proto': 'HTTP/1.1', 'run': '2022-07-21_05-25-24', 'scenario': 'target_highmem', 'status': '200', 'url': 'http://target-service.target.svc.cluster.local/highmem?count=15'}, 'value': [1658381134.317, '0']}]}}\n",
      "['200', '200']\n",
      "[]\n",
      "run success\n",
      "{'status': 'success', 'data': {'resultType': 'vector', 'result': [{'metric': {'run': '2022-07-21_05-21-42', 'scenario': 'target_highmem', 'tag': 'highmem_duration'}, 'value': [1658381139.333, '52.26795117405604']}, {'metric': {'run': '2022-07-21_05-25-24', 'scenario': 'target_highmem', 'tag': 'highmem_duration'}, 'value': [1658381139.333, '67.9434743878083']}]}}\n",
      "[{'metric': {'run': '2022-07-21_05-21-42', 'scenario': 'target_highmem', 'tag': 'highmem_duration'}, 'value': [1658381139.333, '52.26795117405604']}, {'metric': {'run': '2022-07-21_05-25-24', 'scenario': 'target_highmem', 'tag': 'highmem_duration'}, 'value': [1658381139.333, '67.9434743878083']}]\n",
      "latency: 52.26795117405604\n",
      "Reset done\n"
     ]
    },
    {
     "name": "stderr",
     "output_type": "stream",
     "text": [
      "\u001b[32m[I 2022-07-21 10:55:49,406]\u001b[0m Trial 23 finished with value: 52.26795117405604 and parameters: {'cpus': 280, 'memory': 240}. Best is trial 14 with value: 24.358422481949408.\u001b[0m\n"
     ]
    },
    {
     "name": "stdout",
     "output_type": "stream",
     "text": [
      "experiment ended\n",
      "experiment stopped\n",
      "Reset done\n",
      "experiment ended\n",
      "no experiment running\n",
      "Started\n",
      "{'status': 'success', 'data': {'resultType': 'vector', 'result': [{'metric': {'expected_response': 'true', 'method': 'GET', 'proto': 'HTTP/1.1', 'run': '2022-07-21_05-26-04', 'scenario': 'target_highmem', 'status': '200', 'url': 'http://target-service.target.svc.cluster.local/highmem?count=15'}, 'value': [1658381355.506, '0']}]}}\n",
      "['200']\n",
      "[]\n",
      "run success\n",
      "{'status': 'success', 'data': {'resultType': 'vector', 'result': [{'metric': {'run': '2022-07-21_05-26-04', 'scenario': 'target_highmem', 'tag': 'highmem_duration'}, 'value': [1658381360.495, '58.183628638407455']}]}}\n",
      "[{'metric': {'run': '2022-07-21_05-26-04', 'scenario': 'target_highmem', 'tag': 'highmem_duration'}, 'value': [1658381360.495, '58.183628638407455']}]\n",
      "latency: 58.183628638407455\n",
      "Reset done\n"
     ]
    },
    {
     "name": "stderr",
     "output_type": "stream",
     "text": [
      "\u001b[32m[I 2022-07-21 10:59:30,533]\u001b[0m Trial 24 finished with value: 58.183628638407455 and parameters: {'cpus': 250, 'memory': 280}. Best is trial 14 with value: 24.358422481949408.\u001b[0m\n"
     ]
    },
    {
     "name": "stdout",
     "output_type": "stream",
     "text": [
      "experiment ended\n",
      "experiment stopped\n",
      "Reset done\n",
      "experiment ended\n",
      "no experiment running\n",
      "Started\n",
      "{'status': 'success', 'data': {'resultType': 'vector', 'result': [{'metric': {'expected_response': 'true', 'method': 'GET', 'proto': 'HTTP/1.1', 'run': '2022-07-21_05-26-04', 'scenario': 'target_highmem', 'status': '200', 'url': 'http://target-service.target.svc.cluster.local/highmem?count=15'}, 'value': [1658381395.794, '0']}, {'metric': {'expected_response': 'true', 'method': 'GET', 'proto': 'HTTP/1.1', 'run': '2022-07-21_05-29-45', 'scenario': 'target_highmem', 'status': '200', 'url': 'http://target-service.target.svc.cluster.local/highmem?count=15'}, 'value': [1658381395.794, '0']}]}}\n",
      "['200', '200']\n",
      "[]\n",
      "run success\n",
      "{'status': 'success', 'data': {'resultType': 'vector', 'result': [{'metric': {'run': '2022-07-21_05-26-04', 'scenario': 'target_highmem', 'tag': 'highmem_duration'}, 'value': [1658381400.85, '52.067603651925175']}, {'metric': {'run': '2022-07-21_05-29-45', 'scenario': 'target_highmem', 'tag': 'highmem_duration'}, 'value': [1658381400.85, '91.46321064183083']}]}}\n",
      "[{'metric': {'run': '2022-07-21_05-26-04', 'scenario': 'target_highmem', 'tag': 'highmem_duration'}, 'value': [1658381400.85, '52.067603651925175']}, {'metric': {'run': '2022-07-21_05-29-45', 'scenario': 'target_highmem', 'tag': 'highmem_duration'}, 'value': [1658381400.85, '91.46321064183083']}]\n",
      "latency: 52.067603651925175\n",
      "Reset done\n"
     ]
    },
    {
     "name": "stderr",
     "output_type": "stream",
     "text": [
      "\u001b[32m[I 2022-07-21 11:00:10,889]\u001b[0m Trial 25 finished with value: 52.067603651925175 and parameters: {'cpus': 180, 'memory': 240}. Best is trial 14 with value: 24.358422481949408.\u001b[0m\n"
     ]
    },
    {
     "name": "stdout",
     "output_type": "stream",
     "text": [
      "experiment ended\n",
      "experiment stopped\n",
      "Reset done\n",
      "experiment ended\n",
      "no experiment running\n",
      "Started\n",
      "{'status': 'success', 'data': {'resultType': 'vector', 'result': [{'metric': {'expected_response': 'true', 'method': 'GET', 'proto': 'HTTP/1.1', 'run': '2022-07-21_05-29-45', 'scenario': 'target_highmem', 'status': '200', 'url': 'http://target-service.target.svc.cluster.local/highmem?count=15'}, 'value': [1658381436.135, '0']}, {'metric': {'expected_response': 'true', 'method': 'GET', 'proto': 'HTTP/1.1', 'run': '2022-07-21_05-30-26', 'scenario': 'target_highmem', 'status': '200', 'url': 'http://target-service.target.svc.cluster.local/highmem?count=15'}, 'value': [1658381436.135, '0']}]}}\n",
      "['200', '200']\n",
      "[]\n",
      "run success\n",
      "{'status': 'success', 'data': {'resultType': 'vector', 'result': [{'metric': {'run': '2022-07-21_05-26-04', 'scenario': 'target_highmem', 'tag': 'highmem_duration'}, 'value': [1658381441.187, '54.23743937930498']}, {'metric': {'run': '2022-07-21_05-29-45', 'scenario': 'target_highmem', 'tag': 'highmem_duration'}, 'value': [1658381441.187, '92.19655642963048']}, {'metric': {'run': '2022-07-21_05-30-26', 'scenario': 'target_highmem', 'tag': 'highmem_duration'}, 'value': [1658381441.187, '212.2794255514845']}]}}\n",
      "[{'metric': {'run': '2022-07-21_05-26-04', 'scenario': 'target_highmem', 'tag': 'highmem_duration'}, 'value': [1658381441.187, '54.23743937930498']}, {'metric': {'run': '2022-07-21_05-29-45', 'scenario': 'target_highmem', 'tag': 'highmem_duration'}, 'value': [1658381441.187, '92.19655642963048']}, {'metric': {'run': '2022-07-21_05-30-26', 'scenario': 'target_highmem', 'tag': 'highmem_duration'}, 'value': [1658381441.187, '212.2794255514845']}]\n",
      "latency: 54.23743937930498\n",
      "Reset done\n"
     ]
    },
    {
     "name": "stderr",
     "output_type": "stream",
     "text": [
      "\u001b[32m[I 2022-07-21 11:00:51,317]\u001b[0m Trial 26 finished with value: 54.23743937930498 and parameters: {'cpus': 280, 'memory': 290}. Best is trial 14 with value: 24.358422481949408.\u001b[0m\n"
     ]
    },
    {
     "name": "stdout",
     "output_type": "stream",
     "text": [
      "experiment ended\n",
      "experiment stopped\n",
      "Reset done\n",
      "experiment ended\n",
      "no experiment running\n",
      "Started\n",
      "{'status': 'success', 'data': {'resultType': 'vector', 'result': [{'metric': {'expected_response': 'true', 'method': 'GET', 'proto': 'HTTP/1.1', 'run': '2022-07-21_05-30-26', 'scenario': 'target_highmem', 'status': '200', 'url': 'http://target-service.target.svc.cluster.local/highmem?count=15'}, 'value': [1658381476.499, '0']}, {'metric': {'expected_response': 'true', 'method': 'GET', 'proto': 'HTTP/1.1', 'run': '2022-07-21_05-31-06', 'scenario': 'target_highmem', 'status': '200', 'url': 'http://target-service.target.svc.cluster.local/highmem?count=15'}, 'value': [1658381476.499, '0']}]}}\n",
      "['200', '200']\n",
      "[]\n",
      "run success\n",
      "{'status': 'success', 'data': {'resultType': 'vector', 'result': [{'metric': {'run': '2022-07-21_05-26-04', 'scenario': 'target_highmem', 'tag': 'highmem_duration'}, 'value': [1658381481.556, '58.40499364995331']}, {'metric': {'run': '2022-07-21_05-29-45', 'scenario': 'target_highmem', 'tag': 'highmem_duration'}, 'value': [1658381481.556, '92.19655642963048']}, {'metric': {'run': '2022-07-21_05-30-26', 'scenario': 'target_highmem', 'tag': 'highmem_duration'}, 'value': [1658381481.556, '210.22670542594477']}, {'metric': {'run': '2022-07-21_05-31-06', 'scenario': 'target_highmem', 'tag': 'highmem_duration'}, 'value': [1658381481.556, '63.7181443747724']}]}}\n",
      "[{'metric': {'run': '2022-07-21_05-26-04', 'scenario': 'target_highmem', 'tag': 'highmem_duration'}, 'value': [1658381481.556, '58.40499364995331']}, {'metric': {'run': '2022-07-21_05-29-45', 'scenario': 'target_highmem', 'tag': 'highmem_duration'}, 'value': [1658381481.556, '92.19655642963048']}, {'metric': {'run': '2022-07-21_05-30-26', 'scenario': 'target_highmem', 'tag': 'highmem_duration'}, 'value': [1658381481.556, '210.22670542594477']}, {'metric': {'run': '2022-07-21_05-31-06', 'scenario': 'target_highmem', 'tag': 'highmem_duration'}, 'value': [1658381481.556, '63.7181443747724']}]\n",
      "latency: 58.40499364995331\n",
      "Reset done\n"
     ]
    },
    {
     "name": "stderr",
     "output_type": "stream",
     "text": [
      "\u001b[32m[I 2022-07-21 11:01:31,819]\u001b[0m Trial 27 finished with value: 58.40499364995331 and parameters: {'cpus': 250, 'memory': 250}. Best is trial 14 with value: 24.358422481949408.\u001b[0m\n"
     ]
    },
    {
     "name": "stdout",
     "output_type": "stream",
     "text": [
      "experiment ended\n",
      "experiment stopped\n",
      "Reset done\n",
      "experiment ended\n",
      "no experiment running\n",
      "Started\n",
      "{'status': 'success', 'data': {'resultType': 'vector', 'result': [{'metric': {'expected_response': 'true', 'method': 'GET', 'proto': 'HTTP/1.1', 'run': '2022-07-21_05-31-06', 'scenario': 'target_highmem', 'status': '200', 'url': 'http://target-service.target.svc.cluster.local/highmem?count=15'}, 'value': [1658381517.045, '0']}, {'metric': {'expected_response': 'true', 'method': 'GET', 'proto': 'HTTP/1.1', 'run': '2022-07-21_05-31-47', 'scenario': 'target_highmem', 'status': '200', 'url': 'http://target-service.target.svc.cluster.local/highmem?count=15'}, 'value': [1658381517.045, '0']}]}}\n",
      "['200', '200']\n",
      "[]\n",
      "run success\n",
      "{'status': 'success', 'data': {'resultType': 'vector', 'result': [{'metric': {'run': '2022-07-21_05-26-04', 'scenario': 'target_highmem', 'tag': 'highmem_duration'}, 'value': [1658381522.115, '56.607429379372284']}, {'metric': {'run': '2022-07-21_05-29-45', 'scenario': 'target_highmem', 'tag': 'highmem_duration'}, 'value': [1658381522.115, '92.19655642963048']}, {'metric': {'run': '2022-07-21_05-30-26', 'scenario': 'target_highmem', 'tag': 'highmem_duration'}, 'value': [1658381522.115, '210.22670542594477']}, {'metric': {'run': '2022-07-21_05-31-06', 'scenario': 'target_highmem', 'tag': 'highmem_duration'}, 'value': [1658381522.115, '77.60098309107522']}, {'metric': {'run': '2022-07-21_05-31-47', 'scenario': 'target_highmem', 'tag': 'highmem_duration'}, 'value': [1658381522.115, '159.18418488529255']}]}}\n",
      "[{'metric': {'run': '2022-07-21_05-26-04', 'scenario': 'target_highmem', 'tag': 'highmem_duration'}, 'value': [1658381522.115, '56.607429379372284']}, {'metric': {'run': '2022-07-21_05-29-45', 'scenario': 'target_highmem', 'tag': 'highmem_duration'}, 'value': [1658381522.115, '92.19655642963048']}, {'metric': {'run': '2022-07-21_05-30-26', 'scenario': 'target_highmem', 'tag': 'highmem_duration'}, 'value': [1658381522.115, '210.22670542594477']}, {'metric': {'run': '2022-07-21_05-31-06', 'scenario': 'target_highmem', 'tag': 'highmem_duration'}, 'value': [1658381522.115, '77.60098309107522']}, {'metric': {'run': '2022-07-21_05-31-47', 'scenario': 'target_highmem', 'tag': 'highmem_duration'}, 'value': [1658381522.115, '159.18418488529255']}]\n",
      "latency: 56.607429379372284\n",
      "Reset done\n"
     ]
    },
    {
     "name": "stderr",
     "output_type": "stream",
     "text": [
      "\u001b[32m[I 2022-07-21 11:02:12,235]\u001b[0m Trial 28 finished with value: 56.607429379372284 and parameters: {'cpus': 290, 'memory': 280}. Best is trial 14 with value: 24.358422481949408.\u001b[0m\n"
     ]
    },
    {
     "name": "stdout",
     "output_type": "stream",
     "text": [
      "experiment ended\n",
      "experiment stopped\n",
      "Reset done\n",
      "experiment ended\n",
      "no experiment running\n",
      "Started\n",
      "{'status': 'success', 'data': {'resultType': 'vector', 'result': [{'metric': {'expected_response': 'true', 'method': 'GET', 'proto': 'HTTP/1.1', 'run': '2022-07-21_05-31-47', 'scenario': 'target_highmem', 'status': '200', 'url': 'http://target-service.target.svc.cluster.local/highmem?count=15'}, 'value': [1658381557.817, '0']}, {'metric': {'expected_response': 'true', 'method': 'GET', 'proto': 'HTTP/1.1', 'run': '2022-07-21_05-32-27', 'scenario': 'target_highmem', 'status': '200', 'url': 'http://target-service.target.svc.cluster.local/highmem?count=15'}, 'value': [1658381557.817, '0']}]}}\n",
      "['200', '200']\n",
      "[]\n",
      "run success\n",
      "{'status': 'success', 'data': {'resultType': 'vector', 'result': [{'metric': {'run': '2022-07-21_05-29-45', 'scenario': 'target_highmem', 'tag': 'highmem_duration'}, 'value': [1658381562.838, '92.19655642963048']}, {'metric': {'run': '2022-07-21_05-30-26', 'scenario': 'target_highmem', 'tag': 'highmem_duration'}, 'value': [1658381562.838, '210.22670542594477']}, {'metric': {'run': '2022-07-21_05-31-06', 'scenario': 'target_highmem', 'tag': 'highmem_duration'}, 'value': [1658381562.838, '77.60098309107522']}, {'metric': {'run': '2022-07-21_05-31-47', 'scenario': 'target_highmem', 'tag': 'highmem_duration'}, 'value': [1658381562.838, '169.94633105349422']}, {'metric': {'run': '2022-07-21_05-32-27', 'scenario': 'target_highmem', 'tag': 'highmem_duration'}, 'value': [1658381562.838, '144.97655765437227']}]}}\n",
      "[{'metric': {'run': '2022-07-21_05-29-45', 'scenario': 'target_highmem', 'tag': 'highmem_duration'}, 'value': [1658381562.838, '92.19655642963048']}, {'metric': {'run': '2022-07-21_05-30-26', 'scenario': 'target_highmem', 'tag': 'highmem_duration'}, 'value': [1658381562.838, '210.22670542594477']}, {'metric': {'run': '2022-07-21_05-31-06', 'scenario': 'target_highmem', 'tag': 'highmem_duration'}, 'value': [1658381562.838, '77.60098309107522']}, {'metric': {'run': '2022-07-21_05-31-47', 'scenario': 'target_highmem', 'tag': 'highmem_duration'}, 'value': [1658381562.838, '169.94633105349422']}, {'metric': {'run': '2022-07-21_05-32-27', 'scenario': 'target_highmem', 'tag': 'highmem_duration'}, 'value': [1658381562.838, '144.97655765437227']}]\n",
      "latency: 92.19655642963048\n",
      "Reset done\n"
     ]
    },
    {
     "name": "stderr",
     "output_type": "stream",
     "text": [
      "\u001b[32m[I 2022-07-21 11:02:52,873]\u001b[0m Trial 29 finished with value: 92.19655642963048 and parameters: {'cpus': 260, 'memory': 210}. Best is trial 14 with value: 24.358422481949408.\u001b[0m\n"
     ]
    },
    {
     "name": "stdout",
     "output_type": "stream",
     "text": [
      "experiment ended\n",
      "experiment stopped\n"
     ]
    }
   ],
   "source": [
    "study = optuna.create_study()\n",
    "study.optimize(objective, n_trials=30)"
   ]
  },
  {
   "cell_type": "code",
   "execution_count": 12,
   "id": "8867e19f",
   "metadata": {},
   "outputs": [
    {
     "name": "stdout",
     "output_type": "stream",
     "text": [
      "{'cpus': 250, 'memory': 270}\n"
     ]
    }
   ],
   "source": [
    "best_params = study.best_params\n",
    "print(best_params)"
   ]
  },
  {
   "cell_type": "code",
   "execution_count": 15,
   "id": "ccfafdd0",
   "metadata": {},
   "outputs": [
    {
     "data": {
      "application/vnd.plotly.v1+json": {
       "config": {
        "plotlyServerURL": "https://plot.ly"
       },
       "data": [
        {
         "colorbar": {
          "title": {
           "text": "Latency"
          }
         },
         "colorscale": [
          [
           0,
           "rgb(5,10,172)"
          ],
          [
           0.35,
           "rgb(40,60,190)"
          ],
          [
           0.5,
           "rgb(70,100,245)"
          ],
          [
           0.6,
           "rgb(90,120,245)"
          ],
          [
           0.7,
           "rgb(106,137,247)"
          ],
          [
           1,
           "rgb(220,220,220)"
          ]
         ],
         "connectgaps": true,
         "contours": {
          "coloring": "heatmap"
         },
         "hoverinfo": "none",
         "line": {
          "smoothing": 1.3
         },
         "reversescale": false,
         "type": "contour",
         "x": [
          121.5,
          130,
          160,
          180,
          190,
          200,
          220,
          230,
          240,
          250,
          260,
          270,
          280,
          290,
          300,
          308.5
         ],
         "y": [
          184.5,
          190,
          210,
          230,
          240,
          250,
          260,
          270,
          280,
          290,
          300,
          305.5
         ],
         "z": [
          [
           null,
           null,
           null,
           null,
           null,
           null,
           null,
           null,
           null,
           null,
           null,
           null,
           null,
           null,
           null,
           null
          ],
          [
           null,
           74.79517494366118,
           null,
           null,
           null,
           79.2924326828635,
           null,
           null,
           null,
           null,
           null,
           null,
           null,
           null,
           null,
           null
          ],
          [
           null,
           null,
           null,
           null,
           null,
           null,
           null,
           null,
           48.39222253674103,
           null,
           92.19655642963048,
           null,
           null,
           null,
           null,
           null
          ],
          [
           null,
           null,
           null,
           null,
           79.59187287581942,
           74.67800825247589,
           null,
           null,
           null,
           49.30363808673827,
           null,
           null,
           null,
           null,
           null,
           null
          ],
          [
           null,
           null,
           null,
           52.067603651925175,
           null,
           null,
           null,
           null,
           null,
           null,
           null,
           null,
           52.26795117405604,
           null,
           null,
           null
          ],
          [
           null,
           null,
           null,
           null,
           null,
           null,
           null,
           null,
           null,
           58.40499364995331,
           null,
           null,
           null,
           null,
           null,
           null
          ],
          [
           null,
           null,
           82.9329454511135,
           null,
           null,
           null,
           null,
           39.61729302593033,
           null,
           24.39948336876746,
           null,
           null,
           null,
           null,
           null,
           null
          ],
          [
           null,
           null,
           null,
           null,
           null,
           null,
           51.13876621043227,
           null,
           null,
           24.358422481949408,
           null,
           null,
           null,
           null,
           null,
           null
          ],
          [
           null,
           null,
           null,
           null,
           null,
           null,
           null,
           null,
           null,
           58.183628638407455,
           null,
           61.729412562294485,
           51.2027925265012,
           56.607429379372284,
           null,
           null
          ],
          [
           null,
           null,
           null,
           null,
           null,
           null,
           null,
           null,
           null,
           null,
           null,
           null,
           54.23743937930498,
           null,
           null,
           null
          ],
          [
           null,
           null,
           null,
           null,
           null,
           null,
           null,
           null,
           null,
           null,
           null,
           null,
           null,
           null,
           26.071217893161112,
           null
          ],
          [
           null,
           null,
           null,
           null,
           null,
           null,
           null,
           null,
           null,
           null,
           null,
           null,
           null,
           null,
           null,
           null
          ]
         ]
        },
        {
         "marker": {
          "color": "black",
          "line": {
           "color": "Grey",
           "width": 0.5
          }
         },
         "mode": "markers",
         "showlegend": false,
         "type": "scatter",
         "x": [
          190,
          200,
          200,
          160,
          130,
          300,
          300,
          300,
          300,
          250,
          250,
          230,
          250,
          230,
          270,
          240,
          280,
          220,
          280,
          250,
          180,
          280,
          250,
          290,
          260
         ],
         "y": [
          230,
          230,
          190,
          260,
          190,
          300,
          300,
          300,
          300,
          270,
          260,
          260,
          230,
          260,
          280,
          210,
          280,
          270,
          240,
          280,
          240,
          290,
          250,
          280,
          210
         ]
        }
       ],
       "layout": {
        "template": {
         "data": {
          "bar": [
           {
            "error_x": {
             "color": "#2a3f5f"
            },
            "error_y": {
             "color": "#2a3f5f"
            },
            "marker": {
             "line": {
              "color": "#E5ECF6",
              "width": 0.5
             },
             "pattern": {
              "fillmode": "overlay",
              "size": 10,
              "solidity": 0.2
             }
            },
            "type": "bar"
           }
          ],
          "barpolar": [
           {
            "marker": {
             "line": {
              "color": "#E5ECF6",
              "width": 0.5
             },
             "pattern": {
              "fillmode": "overlay",
              "size": 10,
              "solidity": 0.2
             }
            },
            "type": "barpolar"
           }
          ],
          "carpet": [
           {
            "aaxis": {
             "endlinecolor": "#2a3f5f",
             "gridcolor": "white",
             "linecolor": "white",
             "minorgridcolor": "white",
             "startlinecolor": "#2a3f5f"
            },
            "baxis": {
             "endlinecolor": "#2a3f5f",
             "gridcolor": "white",
             "linecolor": "white",
             "minorgridcolor": "white",
             "startlinecolor": "#2a3f5f"
            },
            "type": "carpet"
           }
          ],
          "choropleth": [
           {
            "colorbar": {
             "outlinewidth": 0,
             "ticks": ""
            },
            "type": "choropleth"
           }
          ],
          "contour": [
           {
            "colorbar": {
             "outlinewidth": 0,
             "ticks": ""
            },
            "colorscale": [
             [
              0,
              "#0d0887"
             ],
             [
              0.1111111111111111,
              "#46039f"
             ],
             [
              0.2222222222222222,
              "#7201a8"
             ],
             [
              0.3333333333333333,
              "#9c179e"
             ],
             [
              0.4444444444444444,
              "#bd3786"
             ],
             [
              0.5555555555555556,
              "#d8576b"
             ],
             [
              0.6666666666666666,
              "#ed7953"
             ],
             [
              0.7777777777777778,
              "#fb9f3a"
             ],
             [
              0.8888888888888888,
              "#fdca26"
             ],
             [
              1,
              "#f0f921"
             ]
            ],
            "type": "contour"
           }
          ],
          "contourcarpet": [
           {
            "colorbar": {
             "outlinewidth": 0,
             "ticks": ""
            },
            "type": "contourcarpet"
           }
          ],
          "heatmap": [
           {
            "colorbar": {
             "outlinewidth": 0,
             "ticks": ""
            },
            "colorscale": [
             [
              0,
              "#0d0887"
             ],
             [
              0.1111111111111111,
              "#46039f"
             ],
             [
              0.2222222222222222,
              "#7201a8"
             ],
             [
              0.3333333333333333,
              "#9c179e"
             ],
             [
              0.4444444444444444,
              "#bd3786"
             ],
             [
              0.5555555555555556,
              "#d8576b"
             ],
             [
              0.6666666666666666,
              "#ed7953"
             ],
             [
              0.7777777777777778,
              "#fb9f3a"
             ],
             [
              0.8888888888888888,
              "#fdca26"
             ],
             [
              1,
              "#f0f921"
             ]
            ],
            "type": "heatmap"
           }
          ],
          "heatmapgl": [
           {
            "colorbar": {
             "outlinewidth": 0,
             "ticks": ""
            },
            "colorscale": [
             [
              0,
              "#0d0887"
             ],
             [
              0.1111111111111111,
              "#46039f"
             ],
             [
              0.2222222222222222,
              "#7201a8"
             ],
             [
              0.3333333333333333,
              "#9c179e"
             ],
             [
              0.4444444444444444,
              "#bd3786"
             ],
             [
              0.5555555555555556,
              "#d8576b"
             ],
             [
              0.6666666666666666,
              "#ed7953"
             ],
             [
              0.7777777777777778,
              "#fb9f3a"
             ],
             [
              0.8888888888888888,
              "#fdca26"
             ],
             [
              1,
              "#f0f921"
             ]
            ],
            "type": "heatmapgl"
           }
          ],
          "histogram": [
           {
            "marker": {
             "pattern": {
              "fillmode": "overlay",
              "size": 10,
              "solidity": 0.2
             }
            },
            "type": "histogram"
           }
          ],
          "histogram2d": [
           {
            "colorbar": {
             "outlinewidth": 0,
             "ticks": ""
            },
            "colorscale": [
             [
              0,
              "#0d0887"
             ],
             [
              0.1111111111111111,
              "#46039f"
             ],
             [
              0.2222222222222222,
              "#7201a8"
             ],
             [
              0.3333333333333333,
              "#9c179e"
             ],
             [
              0.4444444444444444,
              "#bd3786"
             ],
             [
              0.5555555555555556,
              "#d8576b"
             ],
             [
              0.6666666666666666,
              "#ed7953"
             ],
             [
              0.7777777777777778,
              "#fb9f3a"
             ],
             [
              0.8888888888888888,
              "#fdca26"
             ],
             [
              1,
              "#f0f921"
             ]
            ],
            "type": "histogram2d"
           }
          ],
          "histogram2dcontour": [
           {
            "colorbar": {
             "outlinewidth": 0,
             "ticks": ""
            },
            "colorscale": [
             [
              0,
              "#0d0887"
             ],
             [
              0.1111111111111111,
              "#46039f"
             ],
             [
              0.2222222222222222,
              "#7201a8"
             ],
             [
              0.3333333333333333,
              "#9c179e"
             ],
             [
              0.4444444444444444,
              "#bd3786"
             ],
             [
              0.5555555555555556,
              "#d8576b"
             ],
             [
              0.6666666666666666,
              "#ed7953"
             ],
             [
              0.7777777777777778,
              "#fb9f3a"
             ],
             [
              0.8888888888888888,
              "#fdca26"
             ],
             [
              1,
              "#f0f921"
             ]
            ],
            "type": "histogram2dcontour"
           }
          ],
          "mesh3d": [
           {
            "colorbar": {
             "outlinewidth": 0,
             "ticks": ""
            },
            "type": "mesh3d"
           }
          ],
          "parcoords": [
           {
            "line": {
             "colorbar": {
              "outlinewidth": 0,
              "ticks": ""
             }
            },
            "type": "parcoords"
           }
          ],
          "pie": [
           {
            "automargin": true,
            "type": "pie"
           }
          ],
          "scatter": [
           {
            "fillpattern": {
             "fillmode": "overlay",
             "size": 10,
             "solidity": 0.2
            },
            "type": "scatter"
           }
          ],
          "scatter3d": [
           {
            "line": {
             "colorbar": {
              "outlinewidth": 0,
              "ticks": ""
             }
            },
            "marker": {
             "colorbar": {
              "outlinewidth": 0,
              "ticks": ""
             }
            },
            "type": "scatter3d"
           }
          ],
          "scattercarpet": [
           {
            "marker": {
             "colorbar": {
              "outlinewidth": 0,
              "ticks": ""
             }
            },
            "type": "scattercarpet"
           }
          ],
          "scattergeo": [
           {
            "marker": {
             "colorbar": {
              "outlinewidth": 0,
              "ticks": ""
             }
            },
            "type": "scattergeo"
           }
          ],
          "scattergl": [
           {
            "marker": {
             "colorbar": {
              "outlinewidth": 0,
              "ticks": ""
             }
            },
            "type": "scattergl"
           }
          ],
          "scattermapbox": [
           {
            "marker": {
             "colorbar": {
              "outlinewidth": 0,
              "ticks": ""
             }
            },
            "type": "scattermapbox"
           }
          ],
          "scatterpolar": [
           {
            "marker": {
             "colorbar": {
              "outlinewidth": 0,
              "ticks": ""
             }
            },
            "type": "scatterpolar"
           }
          ],
          "scatterpolargl": [
           {
            "marker": {
             "colorbar": {
              "outlinewidth": 0,
              "ticks": ""
             }
            },
            "type": "scatterpolargl"
           }
          ],
          "scatterternary": [
           {
            "marker": {
             "colorbar": {
              "outlinewidth": 0,
              "ticks": ""
             }
            },
            "type": "scatterternary"
           }
          ],
          "surface": [
           {
            "colorbar": {
             "outlinewidth": 0,
             "ticks": ""
            },
            "colorscale": [
             [
              0,
              "#0d0887"
             ],
             [
              0.1111111111111111,
              "#46039f"
             ],
             [
              0.2222222222222222,
              "#7201a8"
             ],
             [
              0.3333333333333333,
              "#9c179e"
             ],
             [
              0.4444444444444444,
              "#bd3786"
             ],
             [
              0.5555555555555556,
              "#d8576b"
             ],
             [
              0.6666666666666666,
              "#ed7953"
             ],
             [
              0.7777777777777778,
              "#fb9f3a"
             ],
             [
              0.8888888888888888,
              "#fdca26"
             ],
             [
              1,
              "#f0f921"
             ]
            ],
            "type": "surface"
           }
          ],
          "table": [
           {
            "cells": {
             "fill": {
              "color": "#EBF0F8"
             },
             "line": {
              "color": "white"
             }
            },
            "header": {
             "fill": {
              "color": "#C8D4E3"
             },
             "line": {
              "color": "white"
             }
            },
            "type": "table"
           }
          ]
         },
         "layout": {
          "annotationdefaults": {
           "arrowcolor": "#2a3f5f",
           "arrowhead": 0,
           "arrowwidth": 1
          },
          "autotypenumbers": "strict",
          "coloraxis": {
           "colorbar": {
            "outlinewidth": 0,
            "ticks": ""
           }
          },
          "colorscale": {
           "diverging": [
            [
             0,
             "#8e0152"
            ],
            [
             0.1,
             "#c51b7d"
            ],
            [
             0.2,
             "#de77ae"
            ],
            [
             0.3,
             "#f1b6da"
            ],
            [
             0.4,
             "#fde0ef"
            ],
            [
             0.5,
             "#f7f7f7"
            ],
            [
             0.6,
             "#e6f5d0"
            ],
            [
             0.7,
             "#b8e186"
            ],
            [
             0.8,
             "#7fbc41"
            ],
            [
             0.9,
             "#4d9221"
            ],
            [
             1,
             "#276419"
            ]
           ],
           "sequential": [
            [
             0,
             "#0d0887"
            ],
            [
             0.1111111111111111,
             "#46039f"
            ],
            [
             0.2222222222222222,
             "#7201a8"
            ],
            [
             0.3333333333333333,
             "#9c179e"
            ],
            [
             0.4444444444444444,
             "#bd3786"
            ],
            [
             0.5555555555555556,
             "#d8576b"
            ],
            [
             0.6666666666666666,
             "#ed7953"
            ],
            [
             0.7777777777777778,
             "#fb9f3a"
            ],
            [
             0.8888888888888888,
             "#fdca26"
            ],
            [
             1,
             "#f0f921"
            ]
           ],
           "sequentialminus": [
            [
             0,
             "#0d0887"
            ],
            [
             0.1111111111111111,
             "#46039f"
            ],
            [
             0.2222222222222222,
             "#7201a8"
            ],
            [
             0.3333333333333333,
             "#9c179e"
            ],
            [
             0.4444444444444444,
             "#bd3786"
            ],
            [
             0.5555555555555556,
             "#d8576b"
            ],
            [
             0.6666666666666666,
             "#ed7953"
            ],
            [
             0.7777777777777778,
             "#fb9f3a"
            ],
            [
             0.8888888888888888,
             "#fdca26"
            ],
            [
             1,
             "#f0f921"
            ]
           ]
          },
          "colorway": [
           "#636efa",
           "#EF553B",
           "#00cc96",
           "#ab63fa",
           "#FFA15A",
           "#19d3f3",
           "#FF6692",
           "#B6E880",
           "#FF97FF",
           "#FECB52"
          ],
          "font": {
           "color": "#2a3f5f"
          },
          "geo": {
           "bgcolor": "white",
           "lakecolor": "white",
           "landcolor": "#E5ECF6",
           "showlakes": true,
           "showland": true,
           "subunitcolor": "white"
          },
          "hoverlabel": {
           "align": "left"
          },
          "hovermode": "closest",
          "mapbox": {
           "style": "light"
          },
          "paper_bgcolor": "white",
          "plot_bgcolor": "#E5ECF6",
          "polar": {
           "angularaxis": {
            "gridcolor": "white",
            "linecolor": "white",
            "ticks": ""
           },
           "bgcolor": "#E5ECF6",
           "radialaxis": {
            "gridcolor": "white",
            "linecolor": "white",
            "ticks": ""
           }
          },
          "scene": {
           "xaxis": {
            "backgroundcolor": "#E5ECF6",
            "gridcolor": "white",
            "gridwidth": 2,
            "linecolor": "white",
            "showbackground": true,
            "ticks": "",
            "zerolinecolor": "white"
           },
           "yaxis": {
            "backgroundcolor": "#E5ECF6",
            "gridcolor": "white",
            "gridwidth": 2,
            "linecolor": "white",
            "showbackground": true,
            "ticks": "",
            "zerolinecolor": "white"
           },
           "zaxis": {
            "backgroundcolor": "#E5ECF6",
            "gridcolor": "white",
            "gridwidth": 2,
            "linecolor": "white",
            "showbackground": true,
            "ticks": "",
            "zerolinecolor": "white"
           }
          },
          "shapedefaults": {
           "line": {
            "color": "#2a3f5f"
           }
          },
          "ternary": {
           "aaxis": {
            "gridcolor": "white",
            "linecolor": "white",
            "ticks": ""
           },
           "baxis": {
            "gridcolor": "white",
            "linecolor": "white",
            "ticks": ""
           },
           "bgcolor": "#E5ECF6",
           "caxis": {
            "gridcolor": "white",
            "linecolor": "white",
            "ticks": ""
           }
          },
          "title": {
           "x": 0.05
          },
          "xaxis": {
           "automargin": true,
           "gridcolor": "white",
           "linecolor": "white",
           "ticks": "",
           "title": {
            "standoff": 15
           },
           "zerolinecolor": "white",
           "zerolinewidth": 2
          },
          "yaxis": {
           "automargin": true,
           "gridcolor": "white",
           "linecolor": "white",
           "ticks": "",
           "title": {
            "standoff": 15
           },
           "zerolinecolor": "white",
           "zerolinewidth": 2
          }
         }
        },
        "title": {
         "text": "Contour Plot"
        },
        "xaxis": {
         "range": [
          121.5,
          308.5
         ],
         "title": {
          "text": "cpus"
         }
        },
        "yaxis": {
         "range": [
          184.5,
          305.5
         ],
         "title": {
          "text": "memory"
         }
        }
       }
      },
      "text/html": [
       "<div>                            <div id=\"233b3289-58fd-4185-9f0f-609740a08f89\" class=\"plotly-graph-div\" style=\"height:525px; width:100%;\"></div>            <script type=\"text/javascript\">                require([\"plotly\"], function(Plotly) {                    window.PLOTLYENV=window.PLOTLYENV || {};                                    if (document.getElementById(\"233b3289-58fd-4185-9f0f-609740a08f89\")) {                    Plotly.newPlot(                        \"233b3289-58fd-4185-9f0f-609740a08f89\",                        [{\"colorbar\":{\"title\":{\"text\":\"Latency\"}},\"colorscale\":[[0,\"rgb(5,10,172)\"],[0.35,\"rgb(40,60,190)\"],[0.5,\"rgb(70,100,245)\"],[0.6,\"rgb(90,120,245)\"],[0.7,\"rgb(106,137,247)\"],[1,\"rgb(220,220,220)\"]],\"connectgaps\":true,\"contours\":{\"coloring\":\"heatmap\"},\"hoverinfo\":\"none\",\"line\":{\"smoothing\":1.3},\"reversescale\":false,\"x\":[121.5,130,160,180,190,200,220,230,240,250,260,270,280,290,300,308.5],\"y\":[184.5,190,210,230,240,250,260,270,280,290,300,305.5],\"z\":[[null,null,null,null,null,null,null,null,null,null,null,null,null,null,null,null],[null,74.79517494366118,null,null,null,79.2924326828635,null,null,null,null,null,null,null,null,null,null],[null,null,null,null,null,null,null,null,48.39222253674103,null,92.19655642963048,null,null,null,null,null],[null,null,null,null,79.59187287581942,74.67800825247589,null,null,null,49.30363808673827,null,null,null,null,null,null],[null,null,null,52.067603651925175,null,null,null,null,null,null,null,null,52.26795117405604,null,null,null],[null,null,null,null,null,null,null,null,null,58.40499364995331,null,null,null,null,null,null],[null,null,82.9329454511135,null,null,null,null,39.61729302593033,null,24.39948336876746,null,null,null,null,null,null],[null,null,null,null,null,null,51.13876621043227,null,null,24.358422481949408,null,null,null,null,null,null],[null,null,null,null,null,null,null,null,null,58.183628638407455,null,61.729412562294485,51.2027925265012,56.607429379372284,null,null],[null,null,null,null,null,null,null,null,null,null,null,null,54.23743937930498,null,null,null],[null,null,null,null,null,null,null,null,null,null,null,null,null,null,26.071217893161112,null],[null,null,null,null,null,null,null,null,null,null,null,null,null,null,null,null]],\"type\":\"contour\"},{\"marker\":{\"color\":\"black\",\"line\":{\"color\":\"Grey\",\"width\":0.5}},\"mode\":\"markers\",\"showlegend\":false,\"x\":[190,200,200,160,130,300,300,300,300,250,250,230,250,230,270,240,280,220,280,250,180,280,250,290,260],\"y\":[230,230,190,260,190,300,300,300,300,270,260,260,230,260,280,210,280,270,240,280,240,290,250,280,210],\"type\":\"scatter\"}],                        {\"title\":{\"text\":\"Contour Plot\"},\"template\":{\"data\":{\"histogram2dcontour\":[{\"type\":\"histogram2dcontour\",\"colorbar\":{\"outlinewidth\":0,\"ticks\":\"\"},\"colorscale\":[[0.0,\"#0d0887\"],[0.1111111111111111,\"#46039f\"],[0.2222222222222222,\"#7201a8\"],[0.3333333333333333,\"#9c179e\"],[0.4444444444444444,\"#bd3786\"],[0.5555555555555556,\"#d8576b\"],[0.6666666666666666,\"#ed7953\"],[0.7777777777777778,\"#fb9f3a\"],[0.8888888888888888,\"#fdca26\"],[1.0,\"#f0f921\"]]}],\"choropleth\":[{\"type\":\"choropleth\",\"colorbar\":{\"outlinewidth\":0,\"ticks\":\"\"}}],\"histogram2d\":[{\"type\":\"histogram2d\",\"colorbar\":{\"outlinewidth\":0,\"ticks\":\"\"},\"colorscale\":[[0.0,\"#0d0887\"],[0.1111111111111111,\"#46039f\"],[0.2222222222222222,\"#7201a8\"],[0.3333333333333333,\"#9c179e\"],[0.4444444444444444,\"#bd3786\"],[0.5555555555555556,\"#d8576b\"],[0.6666666666666666,\"#ed7953\"],[0.7777777777777778,\"#fb9f3a\"],[0.8888888888888888,\"#fdca26\"],[1.0,\"#f0f921\"]]}],\"heatmap\":[{\"type\":\"heatmap\",\"colorbar\":{\"outlinewidth\":0,\"ticks\":\"\"},\"colorscale\":[[0.0,\"#0d0887\"],[0.1111111111111111,\"#46039f\"],[0.2222222222222222,\"#7201a8\"],[0.3333333333333333,\"#9c179e\"],[0.4444444444444444,\"#bd3786\"],[0.5555555555555556,\"#d8576b\"],[0.6666666666666666,\"#ed7953\"],[0.7777777777777778,\"#fb9f3a\"],[0.8888888888888888,\"#fdca26\"],[1.0,\"#f0f921\"]]}],\"heatmapgl\":[{\"type\":\"heatmapgl\",\"colorbar\":{\"outlinewidth\":0,\"ticks\":\"\"},\"colorscale\":[[0.0,\"#0d0887\"],[0.1111111111111111,\"#46039f\"],[0.2222222222222222,\"#7201a8\"],[0.3333333333333333,\"#9c179e\"],[0.4444444444444444,\"#bd3786\"],[0.5555555555555556,\"#d8576b\"],[0.6666666666666666,\"#ed7953\"],[0.7777777777777778,\"#fb9f3a\"],[0.8888888888888888,\"#fdca26\"],[1.0,\"#f0f921\"]]}],\"contourcarpet\":[{\"type\":\"contourcarpet\",\"colorbar\":{\"outlinewidth\":0,\"ticks\":\"\"}}],\"contour\":[{\"type\":\"contour\",\"colorbar\":{\"outlinewidth\":0,\"ticks\":\"\"},\"colorscale\":[[0.0,\"#0d0887\"],[0.1111111111111111,\"#46039f\"],[0.2222222222222222,\"#7201a8\"],[0.3333333333333333,\"#9c179e\"],[0.4444444444444444,\"#bd3786\"],[0.5555555555555556,\"#d8576b\"],[0.6666666666666666,\"#ed7953\"],[0.7777777777777778,\"#fb9f3a\"],[0.8888888888888888,\"#fdca26\"],[1.0,\"#f0f921\"]]}],\"surface\":[{\"type\":\"surface\",\"colorbar\":{\"outlinewidth\":0,\"ticks\":\"\"},\"colorscale\":[[0.0,\"#0d0887\"],[0.1111111111111111,\"#46039f\"],[0.2222222222222222,\"#7201a8\"],[0.3333333333333333,\"#9c179e\"],[0.4444444444444444,\"#bd3786\"],[0.5555555555555556,\"#d8576b\"],[0.6666666666666666,\"#ed7953\"],[0.7777777777777778,\"#fb9f3a\"],[0.8888888888888888,\"#fdca26\"],[1.0,\"#f0f921\"]]}],\"mesh3d\":[{\"type\":\"mesh3d\",\"colorbar\":{\"outlinewidth\":0,\"ticks\":\"\"}}],\"scatter\":[{\"fillpattern\":{\"fillmode\":\"overlay\",\"size\":10,\"solidity\":0.2},\"type\":\"scatter\"}],\"parcoords\":[{\"type\":\"parcoords\",\"line\":{\"colorbar\":{\"outlinewidth\":0,\"ticks\":\"\"}}}],\"scatterpolargl\":[{\"type\":\"scatterpolargl\",\"marker\":{\"colorbar\":{\"outlinewidth\":0,\"ticks\":\"\"}}}],\"bar\":[{\"error_x\":{\"color\":\"#2a3f5f\"},\"error_y\":{\"color\":\"#2a3f5f\"},\"marker\":{\"line\":{\"color\":\"#E5ECF6\",\"width\":0.5},\"pattern\":{\"fillmode\":\"overlay\",\"size\":10,\"solidity\":0.2}},\"type\":\"bar\"}],\"scattergeo\":[{\"type\":\"scattergeo\",\"marker\":{\"colorbar\":{\"outlinewidth\":0,\"ticks\":\"\"}}}],\"scatterpolar\":[{\"type\":\"scatterpolar\",\"marker\":{\"colorbar\":{\"outlinewidth\":0,\"ticks\":\"\"}}}],\"histogram\":[{\"marker\":{\"pattern\":{\"fillmode\":\"overlay\",\"size\":10,\"solidity\":0.2}},\"type\":\"histogram\"}],\"scattergl\":[{\"type\":\"scattergl\",\"marker\":{\"colorbar\":{\"outlinewidth\":0,\"ticks\":\"\"}}}],\"scatter3d\":[{\"type\":\"scatter3d\",\"line\":{\"colorbar\":{\"outlinewidth\":0,\"ticks\":\"\"}},\"marker\":{\"colorbar\":{\"outlinewidth\":0,\"ticks\":\"\"}}}],\"scattermapbox\":[{\"type\":\"scattermapbox\",\"marker\":{\"colorbar\":{\"outlinewidth\":0,\"ticks\":\"\"}}}],\"scatterternary\":[{\"type\":\"scatterternary\",\"marker\":{\"colorbar\":{\"outlinewidth\":0,\"ticks\":\"\"}}}],\"scattercarpet\":[{\"type\":\"scattercarpet\",\"marker\":{\"colorbar\":{\"outlinewidth\":0,\"ticks\":\"\"}}}],\"carpet\":[{\"aaxis\":{\"endlinecolor\":\"#2a3f5f\",\"gridcolor\":\"white\",\"linecolor\":\"white\",\"minorgridcolor\":\"white\",\"startlinecolor\":\"#2a3f5f\"},\"baxis\":{\"endlinecolor\":\"#2a3f5f\",\"gridcolor\":\"white\",\"linecolor\":\"white\",\"minorgridcolor\":\"white\",\"startlinecolor\":\"#2a3f5f\"},\"type\":\"carpet\"}],\"table\":[{\"cells\":{\"fill\":{\"color\":\"#EBF0F8\"},\"line\":{\"color\":\"white\"}},\"header\":{\"fill\":{\"color\":\"#C8D4E3\"},\"line\":{\"color\":\"white\"}},\"type\":\"table\"}],\"barpolar\":[{\"marker\":{\"line\":{\"color\":\"#E5ECF6\",\"width\":0.5},\"pattern\":{\"fillmode\":\"overlay\",\"size\":10,\"solidity\":0.2}},\"type\":\"barpolar\"}],\"pie\":[{\"automargin\":true,\"type\":\"pie\"}]},\"layout\":{\"autotypenumbers\":\"strict\",\"colorway\":[\"#636efa\",\"#EF553B\",\"#00cc96\",\"#ab63fa\",\"#FFA15A\",\"#19d3f3\",\"#FF6692\",\"#B6E880\",\"#FF97FF\",\"#FECB52\"],\"font\":{\"color\":\"#2a3f5f\"},\"hovermode\":\"closest\",\"hoverlabel\":{\"align\":\"left\"},\"paper_bgcolor\":\"white\",\"plot_bgcolor\":\"#E5ECF6\",\"polar\":{\"bgcolor\":\"#E5ECF6\",\"angularaxis\":{\"gridcolor\":\"white\",\"linecolor\":\"white\",\"ticks\":\"\"},\"radialaxis\":{\"gridcolor\":\"white\",\"linecolor\":\"white\",\"ticks\":\"\"}},\"ternary\":{\"bgcolor\":\"#E5ECF6\",\"aaxis\":{\"gridcolor\":\"white\",\"linecolor\":\"white\",\"ticks\":\"\"},\"baxis\":{\"gridcolor\":\"white\",\"linecolor\":\"white\",\"ticks\":\"\"},\"caxis\":{\"gridcolor\":\"white\",\"linecolor\":\"white\",\"ticks\":\"\"}},\"coloraxis\":{\"colorbar\":{\"outlinewidth\":0,\"ticks\":\"\"}},\"colorscale\":{\"sequential\":[[0.0,\"#0d0887\"],[0.1111111111111111,\"#46039f\"],[0.2222222222222222,\"#7201a8\"],[0.3333333333333333,\"#9c179e\"],[0.4444444444444444,\"#bd3786\"],[0.5555555555555556,\"#d8576b\"],[0.6666666666666666,\"#ed7953\"],[0.7777777777777778,\"#fb9f3a\"],[0.8888888888888888,\"#fdca26\"],[1.0,\"#f0f921\"]],\"sequentialminus\":[[0.0,\"#0d0887\"],[0.1111111111111111,\"#46039f\"],[0.2222222222222222,\"#7201a8\"],[0.3333333333333333,\"#9c179e\"],[0.4444444444444444,\"#bd3786\"],[0.5555555555555556,\"#d8576b\"],[0.6666666666666666,\"#ed7953\"],[0.7777777777777778,\"#fb9f3a\"],[0.8888888888888888,\"#fdca26\"],[1.0,\"#f0f921\"]],\"diverging\":[[0,\"#8e0152\"],[0.1,\"#c51b7d\"],[0.2,\"#de77ae\"],[0.3,\"#f1b6da\"],[0.4,\"#fde0ef\"],[0.5,\"#f7f7f7\"],[0.6,\"#e6f5d0\"],[0.7,\"#b8e186\"],[0.8,\"#7fbc41\"],[0.9,\"#4d9221\"],[1,\"#276419\"]]},\"xaxis\":{\"gridcolor\":\"white\",\"linecolor\":\"white\",\"ticks\":\"\",\"title\":{\"standoff\":15},\"zerolinecolor\":\"white\",\"automargin\":true,\"zerolinewidth\":2},\"yaxis\":{\"gridcolor\":\"white\",\"linecolor\":\"white\",\"ticks\":\"\",\"title\":{\"standoff\":15},\"zerolinecolor\":\"white\",\"automargin\":true,\"zerolinewidth\":2},\"scene\":{\"xaxis\":{\"backgroundcolor\":\"#E5ECF6\",\"gridcolor\":\"white\",\"linecolor\":\"white\",\"showbackground\":true,\"ticks\":\"\",\"zerolinecolor\":\"white\",\"gridwidth\":2},\"yaxis\":{\"backgroundcolor\":\"#E5ECF6\",\"gridcolor\":\"white\",\"linecolor\":\"white\",\"showbackground\":true,\"ticks\":\"\",\"zerolinecolor\":\"white\",\"gridwidth\":2},\"zaxis\":{\"backgroundcolor\":\"#E5ECF6\",\"gridcolor\":\"white\",\"linecolor\":\"white\",\"showbackground\":true,\"ticks\":\"\",\"zerolinecolor\":\"white\",\"gridwidth\":2}},\"shapedefaults\":{\"line\":{\"color\":\"#2a3f5f\"}},\"annotationdefaults\":{\"arrowcolor\":\"#2a3f5f\",\"arrowhead\":0,\"arrowwidth\":1},\"geo\":{\"bgcolor\":\"white\",\"landcolor\":\"#E5ECF6\",\"subunitcolor\":\"white\",\"showland\":true,\"showlakes\":true,\"lakecolor\":\"white\"},\"title\":{\"x\":0.05},\"mapbox\":{\"style\":\"light\"}}},\"xaxis\":{\"title\":{\"text\":\"cpus\"},\"range\":[121.5,308.5]},\"yaxis\":{\"title\":{\"text\":\"memory\"},\"range\":[184.5,305.5]}},                        {\"responsive\": true}                    ).then(function(){\n",
       "                            \n",
       "var gd = document.getElementById('233b3289-58fd-4185-9f0f-609740a08f89');\n",
       "var x = new MutationObserver(function (mutations, observer) {{\n",
       "        var display = window.getComputedStyle(gd).display;\n",
       "        if (!display || display === 'none') {{\n",
       "            console.log([gd, 'removed!']);\n",
       "            Plotly.purge(gd);\n",
       "            observer.disconnect();\n",
       "        }}\n",
       "}});\n",
       "\n",
       "// Listen for the removal of the full notebook cells\n",
       "var notebookContainer = gd.closest('#notebook-container');\n",
       "if (notebookContainer) {{\n",
       "    x.observe(notebookContainer, {childList: true});\n",
       "}}\n",
       "\n",
       "// Listen for the clearing of the current output cell\n",
       "var outputEl = gd.closest('.output');\n",
       "if (outputEl) {{\n",
       "    x.observe(outputEl, {childList: true});\n",
       "}}\n",
       "\n",
       "                        })                };                });            </script>        </div>"
      ]
     },
     "metadata": {},
     "output_type": "display_data"
    }
   ],
   "source": [
    "def get_latency(trial):\n",
    "    return trial.values[0]\n",
    "fig = optuna.visualization.plot_contour(study, params=[\"cpus\", \"memory\"], target=get_latency, target_name=\"Latency\")\n",
    "fig.show()\n",
    "# def get_throughput(trial):\n",
    "#     return trial.values[1]\n",
    "# fig1 = optuna.visualization.plot_contour(study, params=[\"cpus\", \"memory\"], target=get_throughput, target_name=\"Throughput\")\n",
    "# fig1.show()"
   ]
  },
  {
   "cell_type": "code",
   "execution_count": null,
   "id": "a07c1698",
   "metadata": {},
   "outputs": [],
   "source": []
  }
 ],
 "metadata": {
  "kernelspec": {
   "display_name": "Python 3 (ipykernel)",
   "language": "python",
   "name": "python3"
  },
  "language_info": {
   "codemirror_mode": {
    "name": "ipython",
    "version": 3
   },
   "file_extension": ".py",
   "mimetype": "text/x-python",
   "name": "python",
   "nbconvert_exporter": "python",
   "pygments_lexer": "ipython3",
   "version": "3.9.13"
  }
 },
 "nbformat": 4,
 "nbformat_minor": 5
}
