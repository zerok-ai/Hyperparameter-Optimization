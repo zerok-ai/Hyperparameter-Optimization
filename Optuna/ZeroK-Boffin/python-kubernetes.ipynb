{
 "cells": [
  {
   "cell_type": "code",
   "execution_count": 2,
   "id": "84a7ab9c",
   "metadata": {},
   "outputs": [],
   "source": [
    "from kubernetes import client, config, watch\n",
    "namespace_name=\"zerok\""
   ]
  },
  {
   "cell_type": "code",
   "execution_count": 3,
   "id": "c86973a8",
   "metadata": {},
   "outputs": [],
   "source": [
    "# Configs can be set in Configuration class directly or using helper utility\n",
    "config.load_kube_config()\n",
    "\n",
    "core_api = client.CoreV1Api()\n",
    "apps_api = client.AppsV1Api()\n",
    "watcher = watch.Watch()"
   ]
  },
  {
   "cell_type": "code",
   "execution_count": null,
   "id": "bda66b34",
   "metadata": {
    "scrolled": true
   },
   "outputs": [],
   "source": [
    "print(config.list_kube_config_contexts())"
   ]
  },
  {
   "cell_type": "code",
   "execution_count": null,
   "id": "c2cbde1c",
   "metadata": {},
   "outputs": [],
   "source": [
    "namespace = client.V1Namespace(\n",
    "    api_version = \"v1\",\n",
    "    kind = \"Namespace\",\n",
    "    metadata = client.V1ObjectMeta(name=namespace_name)\n",
    ")\n",
    "core_api.create_namespace(namespace)"
   ]
  },
  {
   "cell_type": "code",
   "execution_count": null,
   "id": "f940e2b7",
   "metadata": {},
   "outputs": [],
   "source": []
  },
  {
   "cell_type": "code",
   "execution_count": null,
   "id": "8fb6ac0c",
   "metadata": {},
   "outputs": [],
   "source": [
    "container = client.V1Container(\n",
    "    name=\"nodeexample\",\n",
    "    image=\"301129966109.dkr.ecr.us-east-2.amazonaws.com/nodeexample\",\n",
    "    ports = [client.V1ContainerPort(container_port=80)],\n",
    ")"
   ]
  },
  {
   "cell_type": "code",
   "execution_count": null,
   "id": "27c2f262",
   "metadata": {},
   "outputs": [],
   "source": [
    "template=client.V1PodTemplateSpec(\n",
    "    metadata = client.V1ObjectMeta(labels={\"app\": \"target\"}),\n",
    "    spec = client.V1PodSpec(\n",
    "        containers = [container]\n",
    "    )\n",
    ")"
   ]
  },
  {
   "cell_type": "code",
   "execution_count": null,
   "id": "9efda62d",
   "metadata": {},
   "outputs": [],
   "source": [
    "spec = client.V1DeploymentSpec(\n",
    "    selector=client.V1LabelSelector(match_labels={\"app\":\"target\"}),\n",
    "    template=template,\n",
    "    replicas = 1\n",
    ")"
   ]
  },
  {
   "cell_type": "code",
   "execution_count": null,
   "id": "462f169e",
   "metadata": {},
   "outputs": [],
   "source": [
    "deployment = client.V1Deployment(\n",
    "    api_version = \"apps/v1\",\n",
    "    kind = \"Deployment\",\n",
    "    metadata = client.V1ObjectMeta(name=\"target-nodeexample\"),\n",
    "    spec=spec\n",
    ")"
   ]
  },
  {
   "cell_type": "code",
   "execution_count": null,
   "id": "ab550cb5",
   "metadata": {},
   "outputs": [],
   "source": [
    "apps_api.create_namespaced_deployment(namespace=namespace_name, body=deployment)"
   ]
  },
  {
   "cell_type": "code",
   "execution_count": null,
   "id": "565cf784",
   "metadata": {},
   "outputs": [],
   "source": [
    "deployment.spec.template.spec.containers[0].image = \"301129966109.dkr.ecr.us-east-2.amazonaws.com/nodeexample\"\n",
    "limits = {'cpu':'145m', 'memory':'150Mi'}\n",
    "requests = {'cpu':'125m', 'memory':'120Mi'}\n",
    "deployment.spec.template.spec.containers[0].resources = client.V1ResourceRequirements(limits=limits, requests=requests)\n",
    "apps_api.replace_namespaced_deployment(name=\"target-nodeexample\", namespace=namespace_name, body=deployment)"
   ]
  },
  {
   "cell_type": "code",
   "execution_count": null,
   "id": "1ebf5592",
   "metadata": {},
   "outputs": [],
   "source": []
  },
  {
   "cell_type": "code",
   "execution_count": null,
   "id": "2568ebcf",
   "metadata": {},
   "outputs": [],
   "source": []
  },
  {
   "cell_type": "code",
   "execution_count": 4,
   "id": "786c5400",
   "metadata": {},
   "outputs": [
    {
     "data": {
      "text/plain": [
       "{'api_version': 'v1',\n",
       " 'code': None,\n",
       " 'details': None,\n",
       " 'kind': 'Namespace',\n",
       " 'message': None,\n",
       " 'metadata': {'_continue': None,\n",
       "              'remaining_item_count': None,\n",
       "              'resource_version': '5160',\n",
       "              'self_link': None},\n",
       " 'reason': None,\n",
       " 'status': \"{'phase': 'Terminating'}\"}"
      ]
     },
     "execution_count": 4,
     "metadata": {},
     "output_type": "execute_result"
    }
   ],
   "source": [
    "core_api.delete_namespace(namespace_name)"
   ]
  },
  {
   "cell_type": "code",
   "execution_count": null,
   "id": "b80c2f9d",
   "metadata": {},
   "outputs": [],
   "source": []
  }
 ],
 "metadata": {
  "kernelspec": {
   "display_name": "Python 3 (ipykernel)",
   "language": "python",
   "name": "python3"
  },
  "language_info": {
   "codemirror_mode": {
    "name": "ipython",
    "version": 3
   },
   "file_extension": ".py",
   "mimetype": "text/x-python",
   "name": "python",
   "nbconvert_exporter": "python",
   "pygments_lexer": "ipython3",
   "version": "3.9.13"
  }
 },
 "nbformat": 4,
 "nbformat_minor": 5
}
