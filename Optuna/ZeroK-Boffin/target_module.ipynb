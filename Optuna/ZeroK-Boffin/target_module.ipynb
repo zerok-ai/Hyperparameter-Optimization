{
 "cells": [
  {
   "cell_type": "code",
   "execution_count": 14,
   "id": "e5d68acb",
   "metadata": {},
   "outputs": [],
   "source": [
    "from deploy_target import TargetDeployer\n",
    "import time"
   ]
  },
  {
   "cell_type": "code",
   "execution_count": 15,
   "id": "e55c8acd",
   "metadata": {},
   "outputs": [],
   "source": [
    "target = TargetDeployer()"
   ]
  },
  {
   "cell_type": "code",
   "execution_count": 16,
   "id": "aee9f8d4",
   "metadata": {},
   "outputs": [],
   "source": [
    "target.delete_namespace()"
   ]
  },
  {
   "cell_type": "code",
   "execution_count": 17,
   "id": "273b223d",
   "metadata": {},
   "outputs": [],
   "source": [
    "time.sleep(20)"
   ]
  },
  {
   "cell_type": "code",
   "execution_count": 18,
   "id": "4a80ed5a",
   "metadata": {},
   "outputs": [],
   "source": [
    "target.start()"
   ]
  },
  {
   "cell_type": "code",
   "execution_count": 19,
   "id": "e80c6f59",
   "metadata": {},
   "outputs": [],
   "source": [
    "time.sleep(15)"
   ]
  },
  {
   "cell_type": "code",
   "execution_count": 20,
   "id": "adedc38a",
   "metadata": {},
   "outputs": [],
   "source": [
    "# target.initialize_namespace()"
   ]
  },
  {
   "cell_type": "code",
   "execution_count": 21,
   "id": "93c2710f",
   "metadata": {},
   "outputs": [],
   "source": [
    "target.update_deployment_image(\"301129966109.dkr.ecr.us-east-2.amazonaws.com/nodeexample\")"
   ]
  },
  {
   "cell_type": "code",
   "execution_count": 22,
   "id": "355cec28",
   "metadata": {},
   "outputs": [],
   "source": [
    "target.update_deployment_limits(130, 130)"
   ]
  },
  {
   "cell_type": "code",
   "execution_count": 23,
   "id": "e6e32f85",
   "metadata": {},
   "outputs": [],
   "source": [
    "time.sleep(10)"
   ]
  },
  {
   "cell_type": "code",
   "execution_count": 24,
   "id": "f74c6281",
   "metadata": {},
   "outputs": [],
   "source": [
    "target.update_deployment_requests(110, 110)"
   ]
  },
  {
   "cell_type": "code",
   "execution_count": null,
   "id": "9c7ad71d",
   "metadata": {},
   "outputs": [],
   "source": []
  },
  {
   "cell_type": "code",
   "execution_count": null,
   "id": "816fffcd",
   "metadata": {},
   "outputs": [],
   "source": []
  }
 ],
 "metadata": {
  "kernelspec": {
   "display_name": "Python 3 (ipykernel)",
   "language": "python",
   "name": "python3"
  },
  "language_info": {
   "codemirror_mode": {
    "name": "ipython",
    "version": 3
   },
   "file_extension": ".py",
   "mimetype": "text/x-python",
   "name": "python",
   "nbconvert_exporter": "python",
   "pygments_lexer": "ipython3",
   "version": "3.9.13"
  }
 },
 "nbformat": 4,
 "nbformat_minor": 5
}
