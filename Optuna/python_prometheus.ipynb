{
 "cells": [
  {
   "cell_type": "code",
   "execution_count": 1,
   "id": "a83f5b5c",
   "metadata": {},
   "outputs": [],
   "source": [
    "import requests\n",
    "PROMETHEUS='http://prometheus.local'\n"
   ]
  },
  {
   "cell_type": "code",
   "execution_count": 2,
   "id": "13d0efd8",
   "metadata": {},
   "outputs": [],
   "source": [
    "def wait_for_experiment_state_change():\n",
    "    while True:\n",
    "        response=requests.get(PROMETHEUS + '/api/v1/query', params={'query': 'max_over_time(k6_checks[5s])'}) \n",
    "        k = response.json()\n",
    "        if len(k.get('data').get('result')) == 0:\n",
    "            print('experiment ended')\n",
    "            break;\n"
   ]
  },
  {
   "cell_type": "code",
   "execution_count": 3,
   "id": "ba232bbf",
   "metadata": {},
   "outputs": [],
   "source": [
    "def wait_for_failure():\n",
    "    while True:\n",
    "        response=requests.get(PROMETHEUS + '/api/v1/query', params={'query': 'max_over_time(k6_http_req_failed[5s])'}) \n",
    "        k = response.json()\n",
    "#         print(k)\n",
    "        if len(k.get('data').get('result')) != 1:\n",
    "            response=requests.get(PROMETHEUS + '/api/v1/query', params={'query': 'sum_over_time(k6_http_req_failed[1m])'})\n",
    "            k = response.json()\n",
    "            print(k)\n",
    "            types = list(map(lambda x: x.get('metric').get('status'), k.get('data').get('result')))\n",
    "            print(types)\n",
    "            non200s = list(filter(lambda x: x != '200', types))\n",
    "            print(non200s)\n",
    "            if len(non200s) > 0:\n",
    "                print('run failed')\n",
    "                return True\n",
    "            else :\n",
    "                print('run success')\n",
    "                return False"
   ]
  },
  {
   "cell_type": "code",
   "execution_count": 4,
   "id": "1c664a18",
   "metadata": {},
   "outputs": [],
   "source": [
    "def reset_experiment():\n",
    "    r = requests.get('http://tester.local/reset')\n",
    "    print(r.text)"
   ]
  },
  {
   "cell_type": "code",
   "execution_count": 5,
   "id": "cd6d902d",
   "metadata": {},
   "outputs": [],
   "source": [
    "def start_experiment():\n",
    "    r = requests.get('http://tester.local/start')\n",
    "    print(r.text)"
   ]
  },
  {
   "cell_type": "code",
   "execution_count": 6,
   "id": "1ed90abc",
   "metadata": {},
   "outputs": [],
   "source": [
    "def get_avg_latency():\n",
    "    response=requests.get(PROMETHEUS + '/api/v1/query', params={'query': 'avg_over_time(k6_custom_target_highmem_duration_avg[3m])'}) \n",
    "    print(response.json())\n",
    "    k = response.json().get('data').get('result')\n",
    "    print(k)\n",
    "    if len(k) == 0:\n",
    "        return None\n",
    "    else:\n",
    "        return k[0].get('value')[1]"
   ]
  },
  {
   "cell_type": "code",
   "execution_count": 8,
   "id": "df8634d7",
   "metadata": {},
   "outputs": [
    {
     "name": "stdout",
     "output_type": "stream",
     "text": [
      "start 3 iterations\n",
      "Reset done\n",
      "experiment ended\n",
      "no experiment running\n",
      "Started\n",
      "{'status': 'success', 'data': {'resultType': 'vector', 'result': [{'metric': {'error': 'EOF', 'error_code': '1000', 'expected_response': 'false', 'method': 'GET', 'run': '2022-07-21_02-03-24', 'scenario': 'target_highmem', 'status': '0', 'url': 'http://target-service.target.svc.cluster.local/highmem?count=15'}, 'value': [1658369014.864, '0.4074074074074074']}, {'metric': {'error': 'dial: connection refused', 'error_code': '1212', 'expected_response': 'false', 'method': 'GET', 'run': '2022-07-21_02-03-24', 'scenario': 'target_highmem', 'status': '0', 'url': 'http://target-service.target.svc.cluster.local/highmem?count=15'}, 'value': [1658369014.864, '11.917625466253881']}, {'metric': {'error': 'read: connection reset by peer', 'error_code': '1220', 'expected_response': 'false', 'method': 'GET', 'run': '2022-07-21_02-03-24', 'scenario': 'target_highmem', 'status': '0', 'url': 'http://target-service.target.svc.cluster.local/highmem?count=15'}, 'value': [1658369014.864, '0.42857142857142855']}, {'metric': {'expected_response': 'true', 'method': 'GET', 'proto': 'HTTP/1.1', 'run': '2022-07-21_02-03-24', 'scenario': 'target_highmem', 'status': '200', 'url': 'http://target-service.target.svc.cluster.local/highmem?count=15'}, 'value': [1658369014.864, '0.38461538461538464']}]}}\n",
      "['0', '0', '0', '200']\n",
      "['0', '0', '0']\n",
      "run failed\n",
      "experiment failed\n",
      "Reset done\n",
      "experiment ended\n",
      "experiment stopped\n",
      "Reset done\n",
      "experiment ended\n",
      "no experiment running\n",
      "Started\n",
      "{'status': 'success', 'data': {'resultType': 'vector', 'result': [{'metric': {'error': 'EOF', 'error_code': '1000', 'expected_response': 'false', 'method': 'GET', 'run': '2022-07-21_02-03-59', 'scenario': 'target_highmem', 'status': '0', 'url': 'http://target-service.target.svc.cluster.local/highmem?count=15'}, 'value': [1658369080.038, '1.4756167527251864']}, {'metric': {'error': 'dial: connection refused', 'error_code': '1212', 'expected_response': 'false', 'method': 'GET', 'run': '2022-07-21_02-03-59', 'scenario': 'target_highmem', 'status': '0', 'url': 'http://target-service.target.svc.cluster.local/highmem?count=15'}, 'value': [1658369080.038, '163.23467914372554']}, {'metric': {'error': 'read: connection reset by peer', 'error_code': '1220', 'expected_response': 'false', 'method': 'GET', 'run': '2022-07-21_02-03-59', 'scenario': 'target_highmem', 'status': '0', 'url': 'http://target-service.target.svc.cluster.local/highmem?count=15'}, 'value': [1658369080.038, '4.937957144206741']}, {'metric': {'expected_response': 'true', 'method': 'GET', 'proto': 'HTTP/1.1', 'run': '2022-07-21_02-03-59', 'scenario': 'target_highmem', 'status': '200', 'url': 'http://target-service.target.svc.cluster.local/highmem?count=15'}, 'value': [1658369080.038, '4.795350012086908']}]}}\n",
      "['0', '0', '0', '200']\n",
      "['0', '0', '0']\n",
      "run failed\n",
      "experiment failed\n",
      "Reset done\n",
      "experiment ended\n",
      "experiment stopped\n",
      "Reset done\n",
      "experiment ended\n",
      "no experiment running\n",
      "Started\n",
      "{'status': 'success', 'data': {'resultType': 'vector', 'result': [{'metric': {'error': 'EOF', 'error_code': '1000', 'expected_response': 'false', 'method': 'GET', 'run': '2022-07-21_02-05-05', 'scenario': 'target_highmem', 'status': '0', 'url': 'http://target-service.target.svc.cluster.local/highmem?count=15'}, 'value': [1658369135.194, '0.9565217391304348']}, {'metric': {'error': 'dial: connection refused', 'error_code': '1212', 'expected_response': 'false', 'method': 'GET', 'run': '2022-07-21_02-03-59', 'scenario': 'target_highmem', 'status': '0', 'url': 'http://target-service.target.svc.cluster.local/highmem?count=15'}, 'value': [1658369135.194, '20.056185644840834']}, {'metric': {'error': 'dial: connection refused', 'error_code': '1212', 'expected_response': 'false', 'method': 'GET', 'run': '2022-07-21_02-05-05', 'scenario': 'target_highmem', 'status': '0', 'url': 'http://target-service.target.svc.cluster.local/highmem?count=15'}, 'value': [1658369135.194, '129.00836264913391']}, {'metric': {'error': 'read: connection reset by peer', 'error_code': '1220', 'expected_response': 'false', 'method': 'GET', 'run': '2022-07-21_02-05-05', 'scenario': 'target_highmem', 'status': '0', 'url': 'http://target-service.target.svc.cluster.local/highmem?count=15'}, 'value': [1658369135.194, '2.871053316944733']}, {'metric': {'expected_response': 'true', 'method': 'GET', 'proto': 'HTTP/1.1', 'run': '2022-07-21_02-05-05', 'scenario': 'target_highmem', 'status': '200', 'url': 'http://target-service.target.svc.cluster.local/highmem?count=15'}, 'value': [1658369135.194, '4.846478707409103']}]}}\n",
      "['0', '0', '0', '0', '200']\n",
      "['0', '0', '0', '0']\n",
      "run failed\n",
      "experiment failed\n",
      "Reset done\n",
      "experiment ended\n",
      "experiment stopped\n",
      "done\n"
     ]
    }
   ],
   "source": [
    "print(\"start 3 iterations\")\n",
    "for i in range(3):\n",
    "    reset_experiment();\n",
    "    wait_for_experiment_state_change()\n",
    "    print(\"no experiment running\")\n",
    "\n",
    "    start_experiment()\n",
    "    run_failed = wait_for_failure()\n",
    "    if run_failed:\n",
    "        print(\"experiment failed\")\n",
    "    else: \n",
    "        latency = get_avg_latency();\n",
    "        print(\"latency: {}\".format(latency))\n",
    "    \n",
    "    reset_experiment();\n",
    "    wait_for_experiment_state_change()\n",
    "    print(\"experiment stopped\")\n",
    "print(\"done\")"
   ]
  },
  {
   "cell_type": "code",
   "execution_count": null,
   "id": "f59d7937",
   "metadata": {},
   "outputs": [],
   "source": []
  }
 ],
 "metadata": {
  "kernelspec": {
   "display_name": "Python 3 (ipykernel)",
   "language": "python",
   "name": "python3"
  },
  "language_info": {
   "codemirror_mode": {
    "name": "ipython",
    "version": 3
   },
   "file_extension": ".py",
   "mimetype": "text/x-python",
   "name": "python",
   "nbconvert_exporter": "python",
   "pygments_lexer": "ipython3",
   "version": "3.9.13"
  }
 },
 "nbformat": 4,
 "nbformat_minor": 5
}
