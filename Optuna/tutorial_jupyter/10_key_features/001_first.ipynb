{
 "cells": [
  {
   "cell_type": "markdown",
   "metadata": {},
   "source": [
    "\n",
    "\n",
    "# Lightweight, versatile, and platform agnostic architecture\n",
    "\n",
    "Optuna is entirely written in Python and has few dependencies.\n",
    "This means that we can quickly move to the real example once you get interested in Optuna.\n",
    "\n",
    "\n",
    "## Quadratic Function Example\n",
    "\n",
    "Usually, Optuna is used to optimize hyperparameters, but as an example,\n",
    "let's optimize a simple quadratic function: $(x - 2)^2$.\n"
   ]
  },
  {
   "cell_type": "markdown",
   "metadata": {},
   "source": [
    "First of all, import :mod:`optuna`.\n",
    "\n"
   ]
  },
  {
   "cell_type": "code",
   "execution_count": 1,
   "metadata": {},
   "outputs": [],
   "source": [
    "import optuna"
   ]
  },
  {
   "cell_type": "markdown",
   "metadata": {},
   "source": [
    "In optuna, conventionally functions to be optimized are named `objective`.\n",
    "\n"
   ]
  },
  {
   "cell_type": "code",
   "execution_count": 2,
   "metadata": {},
   "outputs": [],
   "source": [
    "def objective(trial):\n",
    "    x = trial.suggest_float(\"x\", -10, 10)\n",
    "    return (x - 2) ** 2"
   ]
  },
  {
   "cell_type": "markdown",
   "metadata": {},
   "source": [
    "This function returns the value of $(x - 2)^2$. Our goal is to find the value of ``x``\n",
    "that minimizes the output of the ``objective`` function. This is the \"optimization.\"\n",
    "During the optimization, Optuna repeatedly calls and evaluates the objective function with\n",
    "different values of ``x``.\n",
    "\n",
    "A :class:`~optuna.trial.Trial` object corresponds to a single execution of the objective\n",
    "function and is internally instantiated upon each invocation of the function.\n",
    "\n",
    "The `suggest` APIs (for example, :func:`~optuna.trial.Trial.suggest_float`) are called\n",
    "inside the objective function to obtain parameters for a trial.\n",
    ":func:`~optuna.trial.Trial.suggest_float` selects parameters uniformly within the range\n",
    "provided. In our example, from $-10$ to $10$.\n",
    "\n",
    "To start the optimization, we create a study object and pass the objective function to method\n",
    ":func:`~optuna.study.Study.optimize` as follows.\n",
    "\n"
   ]
  },
  {
   "cell_type": "code",
   "execution_count": 3,
   "metadata": {},
   "outputs": [
    {
     "name": "stderr",
     "output_type": "stream",
     "text": [
      "\u001b[32m[I 2022-07-12 11:07:24,315]\u001b[0m A new study created in memory with name: no-name-7fd96e97-6991-4b6f-a82c-040e08bc3fe3\u001b[0m\n",
      "\u001b[32m[I 2022-07-12 11:07:24,321]\u001b[0m Trial 0 finished with value: 142.1585370970278 and parameters: {'x': -9.923025500980353}. Best is trial 0 with value: 142.1585370970278.\u001b[0m\n",
      "\u001b[32m[I 2022-07-12 11:07:24,322]\u001b[0m Trial 1 finished with value: 36.76632539514629 and parameters: {'x': 8.06352417288381}. Best is trial 1 with value: 36.76632539514629.\u001b[0m\n",
      "\u001b[32m[I 2022-07-12 11:07:24,324]\u001b[0m Trial 2 finished with value: 93.09338297337055 and parameters: {'x': -7.648491227822647}. Best is trial 1 with value: 36.76632539514629.\u001b[0m\n",
      "\u001b[32m[I 2022-07-12 11:07:24,325]\u001b[0m Trial 3 finished with value: 10.597338939867209 and parameters: {'x': 5.255355424507009}. Best is trial 3 with value: 10.597338939867209.\u001b[0m\n",
      "\u001b[32m[I 2022-07-12 11:07:24,327]\u001b[0m Trial 4 finished with value: 23.010529236628834 and parameters: {'x': 6.796929146509132}. Best is trial 3 with value: 10.597338939867209.\u001b[0m\n",
      "\u001b[32m[I 2022-07-12 11:07:24,330]\u001b[0m Trial 5 finished with value: 134.09227287115456 and parameters: {'x': -9.579821797901493}. Best is trial 3 with value: 10.597338939867209.\u001b[0m\n",
      "\u001b[32m[I 2022-07-12 11:07:24,331]\u001b[0m Trial 6 finished with value: 18.421258062376822 and parameters: {'x': -2.2919993082917456}. Best is trial 3 with value: 10.597338939867209.\u001b[0m\n",
      "\u001b[32m[I 2022-07-12 11:07:24,334]\u001b[0m Trial 7 finished with value: 5.543427295354126 and parameters: {'x': 4.354448405753272}. Best is trial 7 with value: 5.543427295354126.\u001b[0m\n",
      "\u001b[32m[I 2022-07-12 11:07:24,336]\u001b[0m Trial 8 finished with value: 22.92347669284879 and parameters: {'x': -2.7878467699842684}. Best is trial 7 with value: 5.543427295354126.\u001b[0m\n",
      "\u001b[32m[I 2022-07-12 11:07:24,338]\u001b[0m Trial 9 finished with value: 93.77201894026808 and parameters: {'x': -7.683595351947958}. Best is trial 7 with value: 5.543427295354126.\u001b[0m\n",
      "\u001b[32m[I 2022-07-12 11:07:24,352]\u001b[0m Trial 10 finished with value: 0.8099227495664353 and parameters: {'x': 2.899957082069159}. Best is trial 10 with value: 0.8099227495664353.\u001b[0m\n",
      "\u001b[32m[I 2022-07-12 11:07:24,360]\u001b[0m Trial 11 finished with value: 0.036568298407655304 and parameters: {'x': 2.1912283933092973}. Best is trial 11 with value: 0.036568298407655304.\u001b[0m\n",
      "\u001b[32m[I 2022-07-12 11:07:24,368]\u001b[0m Trial 12 finished with value: 0.008763848390296375 and parameters: {'x': 1.9063845718361745}. Best is trial 12 with value: 0.008763848390296375.\u001b[0m\n",
      "\u001b[32m[I 2022-07-12 11:07:24,374]\u001b[0m Trial 13 finished with value: 0.8688752804572115 and parameters: {'x': 1.0678652026357929}. Best is trial 12 with value: 0.008763848390296375.\u001b[0m\n",
      "\u001b[32m[I 2022-07-12 11:07:24,383]\u001b[0m Trial 14 finished with value: 12.22049961988614 and parameters: {'x': -1.495783119686652}. Best is trial 12 with value: 0.008763848390296375.\u001b[0m\n",
      "\u001b[32m[I 2022-07-12 11:07:24,393]\u001b[0m Trial 15 finished with value: 0.29713830336394065 and parameters: {'x': 1.4548960618708202}. Best is trial 12 with value: 0.008763848390296375.\u001b[0m\n",
      "\u001b[32m[I 2022-07-12 11:07:24,399]\u001b[0m Trial 16 finished with value: 57.755866690454084 and parameters: {'x': 9.599728066875425}. Best is trial 12 with value: 0.008763848390296375.\u001b[0m\n",
      "\u001b[32m[I 2022-07-12 11:07:24,409]\u001b[0m Trial 17 finished with value: 39.82578726483423 and parameters: {'x': -4.310767565426113}. Best is trial 12 with value: 0.008763848390296375.\u001b[0m\n",
      "\u001b[32m[I 2022-07-12 11:07:24,418]\u001b[0m Trial 18 finished with value: 5.072142587435815 and parameters: {'x': -0.25214177782745617}. Best is trial 12 with value: 0.008763848390296375.\u001b[0m\n",
      "\u001b[32m[I 2022-07-12 11:07:24,427]\u001b[0m Trial 19 finished with value: 1.3855560330973509 and parameters: {'x': 3.1770964417146756}. Best is trial 12 with value: 0.008763848390296375.\u001b[0m\n",
      "\u001b[32m[I 2022-07-12 11:07:24,436]\u001b[0m Trial 20 finished with value: 42.5135549109551 and parameters: {'x': -4.520241936535415}. Best is trial 12 with value: 0.008763848390296375.\u001b[0m\n",
      "\u001b[32m[I 2022-07-12 11:07:24,446]\u001b[0m Trial 21 finished with value: 0.4153293519118935 and parameters: {'x': 1.3555394877016176}. Best is trial 12 with value: 0.008763848390296375.\u001b[0m\n",
      "\u001b[32m[I 2022-07-12 11:07:24,456]\u001b[0m Trial 22 finished with value: 0.6676597682703533 and parameters: {'x': 1.1828954973380985}. Best is trial 12 with value: 0.008763848390296375.\u001b[0m\n",
      "\u001b[32m[I 2022-07-12 11:07:24,464]\u001b[0m Trial 23 finished with value: 0.4820994221583194 and parameters: {'x': 2.6943337973614128}. Best is trial 12 with value: 0.008763848390296375.\u001b[0m\n",
      "\u001b[32m[I 2022-07-12 11:07:24,473]\u001b[0m Trial 24 finished with value: 12.328496853492439 and parameters: {'x': 5.511195929237279}. Best is trial 12 with value: 0.008763848390296375.\u001b[0m\n",
      "\u001b[32m[I 2022-07-12 11:07:24,479]\u001b[0m Trial 25 finished with value: 8.71196521939605 and parameters: {'x': -0.9516038384912111}. Best is trial 12 with value: 0.008763848390296375.\u001b[0m\n",
      "\u001b[32m[I 2022-07-12 11:07:24,489]\u001b[0m Trial 26 finished with value: 4.47683290317808 and parameters: {'x': 4.115852760278484}. Best is trial 12 with value: 0.008763848390296375.\u001b[0m\n",
      "\u001b[32m[I 2022-07-12 11:07:24,497]\u001b[0m Trial 27 finished with value: 2.3557505900301483 and parameters: {'x': 0.4651545387140279}. Best is trial 12 with value: 0.008763848390296375.\u001b[0m\n",
      "\u001b[32m[I 2022-07-12 11:07:24,507]\u001b[0m Trial 28 finished with value: 0.025716540568009746 and parameters: {'x': 2.160363775735076}. Best is trial 12 with value: 0.008763848390296375.\u001b[0m\n",
      "\u001b[32m[I 2022-07-12 11:07:24,516]\u001b[0m Trial 29 finished with value: 23.109806430695723 and parameters: {'x': 6.807266003738063}. Best is trial 12 with value: 0.008763848390296375.\u001b[0m\n",
      "\u001b[32m[I 2022-07-12 11:07:24,525]\u001b[0m Trial 30 finished with value: 32.87598912155719 and parameters: {'x': -3.7337587254398126}. Best is trial 12 with value: 0.008763848390296375.\u001b[0m\n",
      "\u001b[32m[I 2022-07-12 11:07:24,534]\u001b[0m Trial 31 finished with value: 0.03824285692417883 and parameters: {'x': 2.1955578096731982}. Best is trial 12 with value: 0.008763848390296375.\u001b[0m\n",
      "\u001b[32m[I 2022-07-12 11:07:24,544]\u001b[0m Trial 32 finished with value: 1.0597456155244895 and parameters: {'x': 3.0294394666635283}. Best is trial 12 with value: 0.008763848390296375.\u001b[0m\n",
      "\u001b[32m[I 2022-07-12 11:07:24,554]\u001b[0m Trial 33 finished with value: 0.007966966524663218 and parameters: {'x': 2.0892578653378133}. Best is trial 33 with value: 0.007966966524663218.\u001b[0m\n",
      "\u001b[32m[I 2022-07-12 11:07:24,562]\u001b[0m Trial 34 finished with value: 5.716031845827989 and parameters: {'x': 4.390822420387593}. Best is trial 33 with value: 0.007966966524663218.\u001b[0m\n",
      "\u001b[32m[I 2022-07-12 11:07:24,569]\u001b[0m Trial 35 finished with value: 4.586140538709904 and parameters: {'x': -0.1415276180124092}. Best is trial 33 with value: 0.007966966524663218.\u001b[0m\n",
      "\u001b[32m[I 2022-07-12 11:07:24,576]\u001b[0m Trial 36 finished with value: 17.17209324766875 and parameters: {'x': 6.143922447110799}. Best is trial 33 with value: 0.007966966524663218.\u001b[0m\n",
      "\u001b[32m[I 2022-07-12 11:07:24,585]\u001b[0m Trial 37 finished with value: 11.342640777211157 and parameters: {'x': -1.3678837238258623}. Best is trial 33 with value: 0.007966966524663218.\u001b[0m\n",
      "\u001b[32m[I 2022-07-12 11:07:24,595]\u001b[0m Trial 38 finished with value: 4.026880421315636 and parameters: {'x': 4.006708853151258}. Best is trial 33 with value: 0.007966966524663218.\u001b[0m\n",
      "\u001b[32m[I 2022-07-12 11:07:24,605]\u001b[0m Trial 39 finished with value: 33.93010045165879 and parameters: {'x': 7.8249549742172935}. Best is trial 33 with value: 0.007966966524663218.\u001b[0m\n",
      "\u001b[32m[I 2022-07-12 11:07:24,614]\u001b[0m Trial 40 finished with value: 0.0013208782050666108 and parameters: {'x': 2.036343888139089}. Best is trial 40 with value: 0.0013208782050666108.\u001b[0m\n",
      "\u001b[32m[I 2022-07-12 11:07:24,623]\u001b[0m Trial 41 finished with value: 0.0024439211619753523 and parameters: {'x': 2.0494360310095314}. Best is trial 40 with value: 0.0013208782050666108.\u001b[0m\n",
      "\u001b[32m[I 2022-07-12 11:07:24,634]\u001b[0m Trial 42 finished with value: 10.863948611888695 and parameters: {'x': 5.296050456514386}. Best is trial 40 with value: 0.0013208782050666108.\u001b[0m\n",
      "\u001b[32m[I 2022-07-12 11:07:24,641]\u001b[0m Trial 43 finished with value: 2.912973091154423 and parameters: {'x': 0.29325658309328073}. Best is trial 40 with value: 0.0013208782050666108.\u001b[0m\n",
      "\u001b[32m[I 2022-07-12 11:07:24,650]\u001b[0m Trial 44 finished with value: 0.04922831547701161 and parameters: {'x': 1.7781254510381788}. Best is trial 40 with value: 0.0013208782050666108.\u001b[0m\n"
     ]
    },
    {
     "name": "stderr",
     "output_type": "stream",
     "text": [
      "\u001b[32m[I 2022-07-12 11:07:24,659]\u001b[0m Trial 45 finished with value: 3.55892529640097 and parameters: {'x': 3.8865114090301627}. Best is trial 40 with value: 0.0013208782050666108.\u001b[0m\n",
      "\u001b[32m[I 2022-07-12 11:07:24,672]\u001b[0m Trial 46 finished with value: 19.948942041003622 and parameters: {'x': -2.46642385371156}. Best is trial 40 with value: 0.0013208782050666108.\u001b[0m\n",
      "\u001b[32m[I 2022-07-12 11:07:24,686]\u001b[0m Trial 47 finished with value: 6.864254786944951 and parameters: {'x': -0.619972287438352}. Best is trial 40 with value: 0.0013208782050666108.\u001b[0m\n",
      "\u001b[32m[I 2022-07-12 11:07:24,694]\u001b[0m Trial 48 finished with value: 0.15597550285009917 and parameters: {'x': 2.3949373404099683}. Best is trial 40 with value: 0.0013208782050666108.\u001b[0m\n",
      "\u001b[32m[I 2022-07-12 11:07:24,703]\u001b[0m Trial 49 finished with value: 1.3029128190310202 and parameters: {'x': 0.8585479339757538}. Best is trial 40 with value: 0.0013208782050666108.\u001b[0m\n",
      "\u001b[32m[I 2022-07-12 11:07:24,711]\u001b[0m Trial 50 finished with value: 2.5521415966924863 and parameters: {'x': 3.59754236147042}. Best is trial 40 with value: 0.0013208782050666108.\u001b[0m\n",
      "\u001b[32m[I 2022-07-12 11:07:24,721]\u001b[0m Trial 51 finished with value: 0.0033414989315007715 and parameters: {'x': 1.9421943001815498}. Best is trial 40 with value: 0.0013208782050666108.\u001b[0m\n",
      "\u001b[32m[I 2022-07-12 11:07:24,728]\u001b[0m Trial 52 finished with value: 0.0009702267984210522 and parameters: {'x': 2.031148463821207}. Best is trial 52 with value: 0.0009702267984210522.\u001b[0m\n",
      "\u001b[32m[I 2022-07-12 11:07:24,738]\u001b[0m Trial 53 finished with value: 8.825769982921205 and parameters: {'x': 4.970819749315196}. Best is trial 52 with value: 0.0009702267984210522.\u001b[0m\n",
      "\u001b[32m[I 2022-07-12 11:07:24,745]\u001b[0m Trial 54 finished with value: 1.4096591178844526 and parameters: {'x': 3.187290662763105}. Best is trial 52 with value: 0.0009702267984210522.\u001b[0m\n",
      "\u001b[32m[I 2022-07-12 11:07:24,752]\u001b[0m Trial 55 finished with value: 1.351656185303788 and parameters: {'x': 0.8373925059144904}. Best is trial 52 with value: 0.0009702267984210522.\u001b[0m\n",
      "\u001b[32m[I 2022-07-12 11:07:24,761]\u001b[0m Trial 56 finished with value: 0.10990957470535669 and parameters: {'x': 1.6684738702524993}. Best is trial 52 with value: 0.0009702267984210522.\u001b[0m\n",
      "\u001b[32m[I 2022-07-12 11:07:24,772]\u001b[0m Trial 57 finished with value: 14.03451746591946 and parameters: {'x': -1.746267137554323}. Best is trial 52 with value: 0.0009702267984210522.\u001b[0m\n",
      "\u001b[32m[I 2022-07-12 11:07:24,786]\u001b[0m Trial 58 finished with value: 3.1313693125037307 and parameters: {'x': 0.2304324504264521}. Best is trial 52 with value: 0.0009702267984210522.\u001b[0m\n",
      "\u001b[32m[I 2022-07-12 11:07:24,795]\u001b[0m Trial 59 finished with value: 0.5021249364627559 and parameters: {'x': 2.7086077451331985}. Best is trial 52 with value: 0.0009702267984210522.\u001b[0m\n",
      "\u001b[32m[I 2022-07-12 11:07:24,807]\u001b[0m Trial 60 finished with value: 6.449641694585736 and parameters: {'x': 4.539614477550822}. Best is trial 52 with value: 0.0009702267984210522.\u001b[0m\n",
      "\u001b[32m[I 2022-07-12 11:07:24,817]\u001b[0m Trial 61 finished with value: 0.0004626174758302796 and parameters: {'x': 2.0215085442517684}. Best is trial 61 with value: 0.0004626174758302796.\u001b[0m\n",
      "\u001b[32m[I 2022-07-12 11:07:24,824]\u001b[0m Trial 62 finished with value: 0.17228556954138488 and parameters: {'x': 1.5849270310639527}. Best is trial 61 with value: 0.0004626174758302796.\u001b[0m\n",
      "\u001b[32m[I 2022-07-12 11:07:24,832]\u001b[0m Trial 63 finished with value: 1.9569795177664255 and parameters: {'x': 3.3989208404217965}. Best is trial 61 with value: 0.0004626174758302796.\u001b[0m\n",
      "\u001b[32m[I 2022-07-12 11:07:24,840]\u001b[0m Trial 64 finished with value: 1.95787778365512e-05 and parameters: {'x': 1.9955752087239564}. Best is trial 64 with value: 1.95787778365512e-05.\u001b[0m\n",
      "\u001b[32m[I 2022-07-12 11:07:24,847]\u001b[0m Trial 65 finished with value: 1.4196328835655172 and parameters: {'x': 0.8085165198100659}. Best is trial 64 with value: 1.95787778365512e-05.\u001b[0m\n",
      "\u001b[32m[I 2022-07-12 11:07:24,856]\u001b[0m Trial 66 finished with value: 0.13106398239694744 and parameters: {'x': 2.3620275989437096}. Best is trial 64 with value: 1.95787778365512e-05.\u001b[0m\n",
      "\u001b[32m[I 2022-07-12 11:07:24,866]\u001b[0m Trial 67 finished with value: 6.025939843064685 and parameters: {'x': -0.45477898049186605}. Best is trial 64 with value: 1.95787778365512e-05.\u001b[0m\n",
      "\u001b[32m[I 2022-07-12 11:07:24,873]\u001b[0m Trial 68 finished with value: 136.09118077501034 and parameters: {'x': -9.665812478135003}. Best is trial 64 with value: 1.95787778365512e-05.\u001b[0m\n",
      "\u001b[32m[I 2022-07-12 11:07:24,883]\u001b[0m Trial 69 finished with value: 0.37966558271819156 and parameters: {'x': 1.3838299076406}. Best is trial 64 with value: 1.95787778365512e-05.\u001b[0m\n",
      "\u001b[32m[I 2022-07-12 11:07:24,891]\u001b[0m Trial 70 finished with value: 0.4422126450469338 and parameters: {'x': 2.664990710496721}. Best is trial 64 with value: 1.95787778365512e-05.\u001b[0m\n",
      "\u001b[32m[I 2022-07-12 11:07:24,899]\u001b[0m Trial 71 finished with value: 2.0848812325709947 and parameters: {'x': 3.443911781436454}. Best is trial 64 with value: 1.95787778365512e-05.\u001b[0m\n",
      "\u001b[32m[I 2022-07-12 11:07:24,908]\u001b[0m Trial 72 finished with value: 3.9527831895165795e-06 and parameters: {'x': 1.9980118392445487}. Best is trial 72 with value: 3.9527831895165795e-06.\u001b[0m\n",
      "\u001b[32m[I 2022-07-12 11:07:24,915]\u001b[0m Trial 73 finished with value: 0.01532232265370245 and parameters: {'x': 1.876216630140788}. Best is trial 72 with value: 3.9527831895165795e-06.\u001b[0m\n",
      "\u001b[32m[I 2022-07-12 11:07:24,924]\u001b[0m Trial 74 finished with value: 2.565129073376356 and parameters: {'x': 0.39839796660457627}. Best is trial 72 with value: 3.9527831895165795e-06.\u001b[0m\n",
      "\u001b[32m[I 2022-07-12 11:07:24,932]\u001b[0m Trial 75 finished with value: 7.317097018556508 and parameters: {'x': 4.705013312084898}. Best is trial 72 with value: 3.9527831895165795e-06.\u001b[0m\n",
      "\u001b[32m[I 2022-07-12 11:07:24,941]\u001b[0m Trial 76 finished with value: 0.77824629326089 and parameters: {'x': 1.1178173129895996}. Best is trial 72 with value: 3.9527831895165795e-06.\u001b[0m\n",
      "\u001b[32m[I 2022-07-12 11:07:24,947]\u001b[0m Trial 77 finished with value: 0.8909267199806912 and parameters: {'x': 2.943889146023351}. Best is trial 72 with value: 3.9527831895165795e-06.\u001b[0m\n",
      "\u001b[32m[I 2022-07-12 11:07:24,956]\u001b[0m Trial 78 finished with value: 106.88939194218547 and parameters: {'x': -8.338732608119114}. Best is trial 72 with value: 3.9527831895165795e-06.\u001b[0m\n",
      "\u001b[32m[I 2022-07-12 11:07:24,964]\u001b[0m Trial 79 finished with value: 0.0004086450120392016 and parameters: {'x': 1.979785030001526}. Best is trial 72 with value: 3.9527831895165795e-06.\u001b[0m\n",
      "\u001b[32m[I 2022-07-12 11:07:24,973]\u001b[0m Trial 80 finished with value: 4.056185211084175 and parameters: {'x': -0.013997321518619987}. Best is trial 72 with value: 3.9527831895165795e-06.\u001b[0m\n",
      "\u001b[32m[I 2022-07-12 11:07:24,980]\u001b[0m Trial 81 finished with value: 0.0018903254087766022 and parameters: {'x': 1.9565221273660198}. Best is trial 72 with value: 3.9527831895165795e-06.\u001b[0m\n",
      "\u001b[32m[I 2022-07-12 11:07:24,989]\u001b[0m Trial 82 finished with value: 0.005789256896712935 and parameters: {'x': 2.0760871664389793}. Best is trial 72 with value: 3.9527831895165795e-06.\u001b[0m\n",
      "\u001b[32m[I 2022-07-12 11:07:24,996]\u001b[0m Trial 83 finished with value: 3.2396557395140313 and parameters: {'x': 3.799904369546902}. Best is trial 72 with value: 3.9527831895165795e-06.\u001b[0m\n",
      "\u001b[32m[I 2022-07-12 11:07:25,004]\u001b[0m Trial 84 finished with value: 0.4330269150294383 and parameters: {'x': 1.3419521939635097}. Best is trial 72 with value: 3.9527831895165795e-06.\u001b[0m\n",
      "\u001b[32m[I 2022-07-12 11:07:25,011]\u001b[0m Trial 85 finished with value: 1.5303124594787822 and parameters: {'x': 0.7629420145042585}. Best is trial 72 with value: 3.9527831895165795e-06.\u001b[0m\n",
      "\u001b[32m[I 2022-07-12 11:07:25,019]\u001b[0m Trial 86 finished with value: 0.3390782801240499 and parameters: {'x': 2.582304284823708}. Best is trial 72 with value: 3.9527831895165795e-06.\u001b[0m\n",
      "\u001b[32m[I 2022-07-12 11:07:25,026]\u001b[0m Trial 87 finished with value: 1.2398586011195523 and parameters: {'x': 3.1134893807843667}. Best is trial 72 with value: 3.9527831895165795e-06.\u001b[0m\n",
      "\u001b[32m[I 2022-07-12 11:07:25,034]\u001b[0m Trial 88 finished with value: 8.271367153998629 and parameters: {'x': -0.8759984620994894}. Best is trial 72 with value: 3.9527831895165795e-06.\u001b[0m\n",
      "\u001b[32m[I 2022-07-12 11:07:25,042]\u001b[0m Trial 89 finished with value: 0.04700813011902776 and parameters: {'x': 1.7831864162027025}. Best is trial 72 with value: 3.9527831895165795e-06.\u001b[0m\n"
     ]
    },
    {
     "name": "stderr",
     "output_type": "stream",
     "text": [
      "\u001b[32m[I 2022-07-12 11:07:25,050]\u001b[0m Trial 90 finished with value: 0.06925927369206936 and parameters: {'x': 2.263171567028183}. Best is trial 72 with value: 3.9527831895165795e-06.\u001b[0m\n",
      "\u001b[32m[I 2022-07-12 11:07:25,057]\u001b[0m Trial 91 finished with value: 0.007125656173136542 and parameters: {'x': 1.9155863981746037}. Best is trial 72 with value: 3.9527831895165795e-06.\u001b[0m\n",
      "\u001b[32m[I 2022-07-12 11:07:25,065]\u001b[0m Trial 92 finished with value: 0.7857482551506505 and parameters: {'x': 1.1135755784328534}. Best is trial 72 with value: 3.9527831895165795e-06.\u001b[0m\n",
      "\u001b[32m[I 2022-07-12 11:07:25,072]\u001b[0m Trial 93 finished with value: 2.185484759515963 and parameters: {'x': 0.5216614868319356}. Best is trial 72 with value: 3.9527831895165795e-06.\u001b[0m\n",
      "\u001b[32m[I 2022-07-12 11:07:25,079]\u001b[0m Trial 94 finished with value: 4.68897323576288 and parameters: {'x': 4.165403711958322}. Best is trial 72 with value: 3.9527831895165795e-06.\u001b[0m\n",
      "\u001b[32m[I 2022-07-12 11:07:25,088]\u001b[0m Trial 95 finished with value: 0.7985350904103944 and parameters: {'x': 2.8936079064166758}. Best is trial 72 with value: 3.9527831895165795e-06.\u001b[0m\n",
      "\u001b[32m[I 2022-07-12 11:07:25,095]\u001b[0m Trial 96 finished with value: 65.76682628962106 and parameters: {'x': -6.1096748572073505}. Best is trial 72 with value: 3.9527831895165795e-06.\u001b[0m\n",
      "\u001b[32m[I 2022-07-12 11:07:25,106]\u001b[0m Trial 97 finished with value: 0.05406119959180451 and parameters: {'x': 2.232510644039804}. Best is trial 72 with value: 3.9527831895165795e-06.\u001b[0m\n",
      "\u001b[32m[I 2022-07-12 11:07:25,113]\u001b[0m Trial 98 finished with value: 2.0825573728975137 and parameters: {'x': 3.4431068473600677}. Best is trial 72 with value: 3.9527831895165795e-06.\u001b[0m\n",
      "\u001b[32m[I 2022-07-12 11:07:25,122]\u001b[0m Trial 99 finished with value: 4.3240679809720906 and parameters: {'x': -0.07943934294128674}. Best is trial 72 with value: 3.9527831895165795e-06.\u001b[0m\n"
     ]
    }
   ],
   "source": [
    "study = optuna.create_study()\n",
    "study.optimize(objective, n_trials=100)"
   ]
  },
  {
   "cell_type": "markdown",
   "metadata": {},
   "source": [
    "You can get the best parameter as follows.\n",
    "\n"
   ]
  },
  {
   "cell_type": "code",
   "execution_count": 4,
   "metadata": {},
   "outputs": [
    {
     "name": "stdout",
     "output_type": "stream",
     "text": [
      "Found x: 1.9980118392445487, (x - 2)^2: 3.9527831895165795e-06\n"
     ]
    }
   ],
   "source": [
    "best_params = study.best_params\n",
    "found_x = best_params[\"x\"]\n",
    "print(\"Found x: {}, (x - 2)^2: {}\".format(found_x, (found_x - 2) ** 2))"
   ]
  },
  {
   "cell_type": "markdown",
   "metadata": {},
   "source": [
    "We can see that the ``x`` value found by Optuna is close to the optimal value of ``2``.\n",
    "\n"
   ]
  },
  {
   "cell_type": "markdown",
   "metadata": {},
   "source": [
    "<div class=\"alert alert-info\"><h4>Note</h4><p>When used to search for hyperparameters in machine learning,\n",
    "    usually the objective function would return the loss or accuracy\n",
    "    of the model.</p></div>\n",
    "\n"
   ]
  },
  {
   "cell_type": "markdown",
   "metadata": {},
   "source": [
    "## Study Object\n",
    "\n",
    "Let us clarify the terminology in Optuna as follows:\n",
    "\n",
    "* **Trial**: A single call of the objective function\n",
    "* **Study**: An optimization session, which is a set of trials\n",
    "* **Parameter**: A variable whose value is to be optimized, such as ``x`` in the above example\n",
    "\n",
    "In Optuna, we use the study object to manage optimization.\n",
    "Method :func:`~optuna.study.create_study` returns a study object.\n",
    "A study object has useful properties for analyzing the optimization outcome.\n",
    "\n"
   ]
  },
  {
   "cell_type": "markdown",
   "metadata": {},
   "source": [
    "To get the dictionary of parameter name and parameter values:\n",
    "\n"
   ]
  },
  {
   "cell_type": "code",
   "execution_count": 5,
   "metadata": {},
   "outputs": [
    {
     "data": {
      "text/plain": [
       "{'x': 1.9980118392445487}"
      ]
     },
     "execution_count": 5,
     "metadata": {},
     "output_type": "execute_result"
    }
   ],
   "source": [
    "study.best_params"
   ]
  },
  {
   "cell_type": "markdown",
   "metadata": {},
   "source": [
    "To get the best observed value of the objective function:\n",
    "\n"
   ]
  },
  {
   "cell_type": "code",
   "execution_count": 6,
   "metadata": {},
   "outputs": [
    {
     "data": {
      "text/plain": [
       "3.9527831895165795e-06"
      ]
     },
     "execution_count": 6,
     "metadata": {},
     "output_type": "execute_result"
    }
   ],
   "source": [
    "study.best_value"
   ]
  },
  {
   "cell_type": "markdown",
   "metadata": {},
   "source": [
    "To get the best trial:\n",
    "\n"
   ]
  },
  {
   "cell_type": "code",
   "execution_count": 7,
   "metadata": {},
   "outputs": [
    {
     "data": {
      "text/plain": [
       "FrozenTrial(number=72, values=[3.9527831895165795e-06], datetime_start=datetime.datetime(2022, 7, 12, 11, 7, 24, 901563), datetime_complete=datetime.datetime(2022, 7, 12, 11, 7, 24, 907878), params={'x': 1.9980118392445487}, distributions={'x': UniformDistribution(high=10.0, low=-10.0)}, user_attrs={}, system_attrs={}, intermediate_values={}, trial_id=72, state=TrialState.COMPLETE, value=None)"
      ]
     },
     "execution_count": 7,
     "metadata": {},
     "output_type": "execute_result"
    }
   ],
   "source": [
    "study.best_trial"
   ]
  },
  {
   "cell_type": "markdown",
   "metadata": {},
   "source": [
    "To get all trials:\n",
    "\n"
   ]
  },
  {
   "cell_type": "code",
   "execution_count": 8,
   "metadata": {},
   "outputs": [
    {
     "data": {
      "text/plain": [
       "[FrozenTrial(number=0, values=[142.1585370970278], datetime_start=datetime.datetime(2022, 7, 12, 11, 7, 24, 318770), datetime_complete=datetime.datetime(2022, 7, 12, 11, 7, 24, 321030), params={'x': -9.923025500980353}, distributions={'x': UniformDistribution(high=10.0, low=-10.0)}, user_attrs={}, system_attrs={}, intermediate_values={}, trial_id=0, state=TrialState.COMPLETE, value=None),\n",
       " FrozenTrial(number=1, values=[36.76632539514629], datetime_start=datetime.datetime(2022, 7, 12, 11, 7, 24, 322108), datetime_complete=datetime.datetime(2022, 7, 12, 11, 7, 24, 322375), params={'x': 8.06352417288381}, distributions={'x': UniformDistribution(high=10.0, low=-10.0)}, user_attrs={}, system_attrs={}, intermediate_values={}, trial_id=1, state=TrialState.COMPLETE, value=None),\n",
       " FrozenTrial(number=2, values=[93.09338297337055], datetime_start=datetime.datetime(2022, 7, 12, 11, 7, 24, 323393), datetime_complete=datetime.datetime(2022, 7, 12, 11, 7, 24, 323795), params={'x': -7.648491227822647}, distributions={'x': UniformDistribution(high=10.0, low=-10.0)}, user_attrs={}, system_attrs={}, intermediate_values={}, trial_id=2, state=TrialState.COMPLETE, value=None),\n",
       " FrozenTrial(number=3, values=[10.597338939867209], datetime_start=datetime.datetime(2022, 7, 12, 11, 7, 24, 325296), datetime_complete=datetime.datetime(2022, 7, 12, 11, 7, 24, 325602), params={'x': 5.255355424507009}, distributions={'x': UniformDistribution(high=10.0, low=-10.0)}, user_attrs={}, system_attrs={}, intermediate_values={}, trial_id=3, state=TrialState.COMPLETE, value=None),\n",
       " FrozenTrial(number=4, values=[23.010529236628834], datetime_start=datetime.datetime(2022, 7, 12, 11, 7, 24, 327142), datetime_complete=datetime.datetime(2022, 7, 12, 11, 7, 24, 327503), params={'x': 6.796929146509132}, distributions={'x': UniformDistribution(high=10.0, low=-10.0)}, user_attrs={}, system_attrs={}, intermediate_values={}, trial_id=4, state=TrialState.COMPLETE, value=None),\n",
       " FrozenTrial(number=5, values=[134.09227287115456], datetime_start=datetime.datetime(2022, 7, 12, 11, 7, 24, 329638), datetime_complete=datetime.datetime(2022, 7, 12, 11, 7, 24, 329968), params={'x': -9.579821797901493}, distributions={'x': UniformDistribution(high=10.0, low=-10.0)}, user_attrs={}, system_attrs={}, intermediate_values={}, trial_id=5, state=TrialState.COMPLETE, value=None),\n",
       " FrozenTrial(number=6, values=[18.421258062376822], datetime_start=datetime.datetime(2022, 7, 12, 11, 7, 24, 331215), datetime_complete=datetime.datetime(2022, 7, 12, 11, 7, 24, 331533), params={'x': -2.2919993082917456}, distributions={'x': UniformDistribution(high=10.0, low=-10.0)}, user_attrs={}, system_attrs={}, intermediate_values={}, trial_id=6, state=TrialState.COMPLETE, value=None),\n",
       " FrozenTrial(number=7, values=[5.543427295354126], datetime_start=datetime.datetime(2022, 7, 12, 11, 7, 24, 333337), datetime_complete=datetime.datetime(2022, 7, 12, 11, 7, 24, 333793), params={'x': 4.354448405753272}, distributions={'x': UniformDistribution(high=10.0, low=-10.0)}, user_attrs={}, system_attrs={}, intermediate_values={}, trial_id=7, state=TrialState.COMPLETE, value=None),\n",
       " FrozenTrial(number=8, values=[22.92347669284879], datetime_start=datetime.datetime(2022, 7, 12, 11, 7, 24, 335797), datetime_complete=datetime.datetime(2022, 7, 12, 11, 7, 24, 336302), params={'x': -2.7878467699842684}, distributions={'x': UniformDistribution(high=10.0, low=-10.0)}, user_attrs={}, system_attrs={}, intermediate_values={}, trial_id=8, state=TrialState.COMPLETE, value=None),\n",
       " FrozenTrial(number=9, values=[93.77201894026808], datetime_start=datetime.datetime(2022, 7, 12, 11, 7, 24, 338231), datetime_complete=datetime.datetime(2022, 7, 12, 11, 7, 24, 338771), params={'x': -7.683595351947958}, distributions={'x': UniformDistribution(high=10.0, low=-10.0)}, user_attrs={}, system_attrs={}, intermediate_values={}, trial_id=9, state=TrialState.COMPLETE, value=None),\n",
       " FrozenTrial(number=10, values=[0.8099227495664353], datetime_start=datetime.datetime(2022, 7, 12, 11, 7, 24, 340290), datetime_complete=datetime.datetime(2022, 7, 12, 11, 7, 24, 352266), params={'x': 2.899957082069159}, distributions={'x': UniformDistribution(high=10.0, low=-10.0)}, user_attrs={}, system_attrs={}, intermediate_values={}, trial_id=10, state=TrialState.COMPLETE, value=None),\n",
       " FrozenTrial(number=11, values=[0.036568298407655304], datetime_start=datetime.datetime(2022, 7, 12, 11, 7, 24, 354357), datetime_complete=datetime.datetime(2022, 7, 12, 11, 7, 24, 359961), params={'x': 2.1912283933092973}, distributions={'x': UniformDistribution(high=10.0, low=-10.0)}, user_attrs={}, system_attrs={}, intermediate_values={}, trial_id=11, state=TrialState.COMPLETE, value=None),\n",
       " FrozenTrial(number=12, values=[0.008763848390296375], datetime_start=datetime.datetime(2022, 7, 12, 11, 7, 24, 361342), datetime_complete=datetime.datetime(2022, 7, 12, 11, 7, 24, 367818), params={'x': 1.9063845718361745}, distributions={'x': UniformDistribution(high=10.0, low=-10.0)}, user_attrs={}, system_attrs={}, intermediate_values={}, trial_id=12, state=TrialState.COMPLETE, value=None),\n",
       " FrozenTrial(number=13, values=[0.8688752804572115], datetime_start=datetime.datetime(2022, 7, 12, 11, 7, 24, 369415), datetime_complete=datetime.datetime(2022, 7, 12, 11, 7, 24, 374768), params={'x': 1.0678652026357929}, distributions={'x': UniformDistribution(high=10.0, low=-10.0)}, user_attrs={}, system_attrs={}, intermediate_values={}, trial_id=13, state=TrialState.COMPLETE, value=None),\n",
       " FrozenTrial(number=14, values=[12.22049961988614], datetime_start=datetime.datetime(2022, 7, 12, 11, 7, 24, 376651), datetime_complete=datetime.datetime(2022, 7, 12, 11, 7, 24, 383299), params={'x': -1.495783119686652}, distributions={'x': UniformDistribution(high=10.0, low=-10.0)}, user_attrs={}, system_attrs={}, intermediate_values={}, trial_id=14, state=TrialState.COMPLETE, value=None),\n",
       " FrozenTrial(number=15, values=[0.29713830336394065], datetime_start=datetime.datetime(2022, 7, 12, 11, 7, 24, 384928), datetime_complete=datetime.datetime(2022, 7, 12, 11, 7, 24, 392893), params={'x': 1.4548960618708202}, distributions={'x': UniformDistribution(high=10.0, low=-10.0)}, user_attrs={}, system_attrs={}, intermediate_values={}, trial_id=15, state=TrialState.COMPLETE, value=None),\n",
       " FrozenTrial(number=16, values=[57.755866690454084], datetime_start=datetime.datetime(2022, 7, 12, 11, 7, 24, 394324), datetime_complete=datetime.datetime(2022, 7, 12, 11, 7, 24, 399604), params={'x': 9.599728066875425}, distributions={'x': UniformDistribution(high=10.0, low=-10.0)}, user_attrs={}, system_attrs={}, intermediate_values={}, trial_id=16, state=TrialState.COMPLETE, value=None),\n",
       " FrozenTrial(number=17, values=[39.82578726483423], datetime_start=datetime.datetime(2022, 7, 12, 11, 7, 24, 401134), datetime_complete=datetime.datetime(2022, 7, 12, 11, 7, 24, 409075), params={'x': -4.310767565426113}, distributions={'x': UniformDistribution(high=10.0, low=-10.0)}, user_attrs={}, system_attrs={}, intermediate_values={}, trial_id=17, state=TrialState.COMPLETE, value=None),\n",
       " FrozenTrial(number=18, values=[5.072142587435815], datetime_start=datetime.datetime(2022, 7, 12, 11, 7, 24, 410772), datetime_complete=datetime.datetime(2022, 7, 12, 11, 7, 24, 418406), params={'x': -0.25214177782745617}, distributions={'x': UniformDistribution(high=10.0, low=-10.0)}, user_attrs={}, system_attrs={}, intermediate_values={}, trial_id=18, state=TrialState.COMPLETE, value=None),\n",
       " FrozenTrial(number=19, values=[1.3855560330973509], datetime_start=datetime.datetime(2022, 7, 12, 11, 7, 24, 420660), datetime_complete=datetime.datetime(2022, 7, 12, 11, 7, 24, 427561), params={'x': 3.1770964417146756}, distributions={'x': UniformDistribution(high=10.0, low=-10.0)}, user_attrs={}, system_attrs={}, intermediate_values={}, trial_id=19, state=TrialState.COMPLETE, value=None),\n",
       " FrozenTrial(number=20, values=[42.5135549109551], datetime_start=datetime.datetime(2022, 7, 12, 11, 7, 24, 429320), datetime_complete=datetime.datetime(2022, 7, 12, 11, 7, 24, 436078), params={'x': -4.520241936535415}, distributions={'x': UniformDistribution(high=10.0, low=-10.0)}, user_attrs={}, system_attrs={}, intermediate_values={}, trial_id=20, state=TrialState.COMPLETE, value=None),\n",
       " FrozenTrial(number=21, values=[0.4153293519118935], datetime_start=datetime.datetime(2022, 7, 12, 11, 7, 24, 438703), datetime_complete=datetime.datetime(2022, 7, 12, 11, 7, 24, 445686), params={'x': 1.3555394877016176}, distributions={'x': UniformDistribution(high=10.0, low=-10.0)}, user_attrs={}, system_attrs={}, intermediate_values={}, trial_id=21, state=TrialState.COMPLETE, value=None),\n",
       " FrozenTrial(number=22, values=[0.6676597682703533], datetime_start=datetime.datetime(2022, 7, 12, 11, 7, 24, 447206), datetime_complete=datetime.datetime(2022, 7, 12, 11, 7, 24, 456167), params={'x': 1.1828954973380985}, distributions={'x': UniformDistribution(high=10.0, low=-10.0)}, user_attrs={}, system_attrs={}, intermediate_values={}, trial_id=22, state=TrialState.COMPLETE, value=None),\n",
       " FrozenTrial(number=23, values=[0.4820994221583194], datetime_start=datetime.datetime(2022, 7, 12, 11, 7, 24, 457636), datetime_complete=datetime.datetime(2022, 7, 12, 11, 7, 24, 463915), params={'x': 2.6943337973614128}, distributions={'x': UniformDistribution(high=10.0, low=-10.0)}, user_attrs={}, system_attrs={}, intermediate_values={}, trial_id=23, state=TrialState.COMPLETE, value=None),\n",
       " FrozenTrial(number=24, values=[12.328496853492439], datetime_start=datetime.datetime(2022, 7, 12, 11, 7, 24, 465202), datetime_complete=datetime.datetime(2022, 7, 12, 11, 7, 24, 472741), params={'x': 5.511195929237279}, distributions={'x': UniformDistribution(high=10.0, low=-10.0)}, user_attrs={}, system_attrs={}, intermediate_values={}, trial_id=24, state=TrialState.COMPLETE, value=None),\n",
       " FrozenTrial(number=25, values=[8.71196521939605], datetime_start=datetime.datetime(2022, 7, 12, 11, 7, 24, 474272), datetime_complete=datetime.datetime(2022, 7, 12, 11, 7, 24, 479637), params={'x': -0.9516038384912111}, distributions={'x': UniformDistribution(high=10.0, low=-10.0)}, user_attrs={}, system_attrs={}, intermediate_values={}, trial_id=25, state=TrialState.COMPLETE, value=None),\n",
       " FrozenTrial(number=26, values=[4.47683290317808], datetime_start=datetime.datetime(2022, 7, 12, 11, 7, 24, 480883), datetime_complete=datetime.datetime(2022, 7, 12, 11, 7, 24, 488838), params={'x': 4.115852760278484}, distributions={'x': UniformDistribution(high=10.0, low=-10.0)}, user_attrs={}, system_attrs={}, intermediate_values={}, trial_id=26, state=TrialState.COMPLETE, value=None),\n",
       " FrozenTrial(number=27, values=[2.3557505900301483], datetime_start=datetime.datetime(2022, 7, 12, 11, 7, 24, 490569), datetime_complete=datetime.datetime(2022, 7, 12, 11, 7, 24, 497441), params={'x': 0.4651545387140279}, distributions={'x': UniformDistribution(high=10.0, low=-10.0)}, user_attrs={}, system_attrs={}, intermediate_values={}, trial_id=27, state=TrialState.COMPLETE, value=None),\n",
       " FrozenTrial(number=28, values=[0.025716540568009746], datetime_start=datetime.datetime(2022, 7, 12, 11, 7, 24, 498983), datetime_complete=datetime.datetime(2022, 7, 12, 11, 7, 24, 506973), params={'x': 2.160363775735076}, distributions={'x': UniformDistribution(high=10.0, low=-10.0)}, user_attrs={}, system_attrs={}, intermediate_values={}, trial_id=28, state=TrialState.COMPLETE, value=None),\n",
       " FrozenTrial(number=29, values=[23.109806430695723], datetime_start=datetime.datetime(2022, 7, 12, 11, 7, 24, 508933), datetime_complete=datetime.datetime(2022, 7, 12, 11, 7, 24, 516619), params={'x': 6.807266003738063}, distributions={'x': UniformDistribution(high=10.0, low=-10.0)}, user_attrs={}, system_attrs={}, intermediate_values={}, trial_id=29, state=TrialState.COMPLETE, value=None),\n",
       " FrozenTrial(number=30, values=[32.87598912155719], datetime_start=datetime.datetime(2022, 7, 12, 11, 7, 24, 518414), datetime_complete=datetime.datetime(2022, 7, 12, 11, 7, 24, 525300), params={'x': -3.7337587254398126}, distributions={'x': UniformDistribution(high=10.0, low=-10.0)}, user_attrs={}, system_attrs={}, intermediate_values={}, trial_id=30, state=TrialState.COMPLETE, value=None),\n",
       " FrozenTrial(number=31, values=[0.03824285692417883], datetime_start=datetime.datetime(2022, 7, 12, 11, 7, 24, 526762), datetime_complete=datetime.datetime(2022, 7, 12, 11, 7, 24, 534541), params={'x': 2.1955578096731982}, distributions={'x': UniformDistribution(high=10.0, low=-10.0)}, user_attrs={}, system_attrs={}, intermediate_values={}, trial_id=31, state=TrialState.COMPLETE, value=None),\n",
       " FrozenTrial(number=32, values=[1.0597456155244895], datetime_start=datetime.datetime(2022, 7, 12, 11, 7, 24, 536844), datetime_complete=datetime.datetime(2022, 7, 12, 11, 7, 24, 544672), params={'x': 3.0294394666635283}, distributions={'x': UniformDistribution(high=10.0, low=-10.0)}, user_attrs={}, system_attrs={}, intermediate_values={}, trial_id=32, state=TrialState.COMPLETE, value=None),\n",
       " FrozenTrial(number=33, values=[0.007966966524663218], datetime_start=datetime.datetime(2022, 7, 12, 11, 7, 24, 546197), datetime_complete=datetime.datetime(2022, 7, 12, 11, 7, 24, 554081), params={'x': 2.0892578653378133}, distributions={'x': UniformDistribution(high=10.0, low=-10.0)}, user_attrs={}, system_attrs={}, intermediate_values={}, trial_id=33, state=TrialState.COMPLETE, value=None),\n",
       " FrozenTrial(number=34, values=[5.716031845827989], datetime_start=datetime.datetime(2022, 7, 12, 11, 7, 24, 555657), datetime_complete=datetime.datetime(2022, 7, 12, 11, 7, 24, 561783), params={'x': 4.390822420387593}, distributions={'x': UniformDistribution(high=10.0, low=-10.0)}, user_attrs={}, system_attrs={}, intermediate_values={}, trial_id=34, state=TrialState.COMPLETE, value=None),\n",
       " FrozenTrial(number=35, values=[4.586140538709904], datetime_start=datetime.datetime(2022, 7, 12, 11, 7, 24, 563050), datetime_complete=datetime.datetime(2022, 7, 12, 11, 7, 24, 568920), params={'x': -0.1415276180124092}, distributions={'x': UniformDistribution(high=10.0, low=-10.0)}, user_attrs={}, system_attrs={}, intermediate_values={}, trial_id=35, state=TrialState.COMPLETE, value=None),\n",
       " FrozenTrial(number=36, values=[17.17209324766875], datetime_start=datetime.datetime(2022, 7, 12, 11, 7, 24, 570877), datetime_complete=datetime.datetime(2022, 7, 12, 11, 7, 24, 576437), params={'x': 6.143922447110799}, distributions={'x': UniformDistribution(high=10.0, low=-10.0)}, user_attrs={}, system_attrs={}, intermediate_values={}, trial_id=36, state=TrialState.COMPLETE, value=None),\n",
       " FrozenTrial(number=37, values=[11.342640777211157], datetime_start=datetime.datetime(2022, 7, 12, 11, 7, 24, 577961), datetime_complete=datetime.datetime(2022, 7, 12, 11, 7, 24, 585110), params={'x': -1.3678837238258623}, distributions={'x': UniformDistribution(high=10.0, low=-10.0)}, user_attrs={}, system_attrs={}, intermediate_values={}, trial_id=37, state=TrialState.COMPLETE, value=None),\n",
       " FrozenTrial(number=38, values=[4.026880421315636], datetime_start=datetime.datetime(2022, 7, 12, 11, 7, 24, 587061), datetime_complete=datetime.datetime(2022, 7, 12, 11, 7, 24, 594846), params={'x': 4.006708853151258}, distributions={'x': UniformDistribution(high=10.0, low=-10.0)}, user_attrs={}, system_attrs={}, intermediate_values={}, trial_id=38, state=TrialState.COMPLETE, value=None),\n",
       " FrozenTrial(number=39, values=[33.93010045165879], datetime_start=datetime.datetime(2022, 7, 12, 11, 7, 24, 596951), datetime_complete=datetime.datetime(2022, 7, 12, 11, 7, 24, 605491), params={'x': 7.8249549742172935}, distributions={'x': UniformDistribution(high=10.0, low=-10.0)}, user_attrs={}, system_attrs={}, intermediate_values={}, trial_id=39, state=TrialState.COMPLETE, value=None),\n",
       " FrozenTrial(number=40, values=[0.0013208782050666108], datetime_start=datetime.datetime(2022, 7, 12, 11, 7, 24, 607305), datetime_complete=datetime.datetime(2022, 7, 12, 11, 7, 24, 614508), params={'x': 2.036343888139089}, distributions={'x': UniformDistribution(high=10.0, low=-10.0)}, user_attrs={}, system_attrs={}, intermediate_values={}, trial_id=40, state=TrialState.COMPLETE, value=None),\n",
       " FrozenTrial(number=41, values=[0.0024439211619753523], datetime_start=datetime.datetime(2022, 7, 12, 11, 7, 24, 615798), datetime_complete=datetime.datetime(2022, 7, 12, 11, 7, 24, 623167), params={'x': 2.0494360310095314}, distributions={'x': UniformDistribution(high=10.0, low=-10.0)}, user_attrs={}, system_attrs={}, intermediate_values={}, trial_id=41, state=TrialState.COMPLETE, value=None),\n",
       " FrozenTrial(number=42, values=[10.863948611888695], datetime_start=datetime.datetime(2022, 7, 12, 11, 7, 24, 625624), datetime_complete=datetime.datetime(2022, 7, 12, 11, 7, 24, 633799), params={'x': 5.296050456514386}, distributions={'x': UniformDistribution(high=10.0, low=-10.0)}, user_attrs={}, system_attrs={}, intermediate_values={}, trial_id=42, state=TrialState.COMPLETE, value=None),\n",
       " FrozenTrial(number=43, values=[2.912973091154423], datetime_start=datetime.datetime(2022, 7, 12, 11, 7, 24, 635108), datetime_complete=datetime.datetime(2022, 7, 12, 11, 7, 24, 641279), params={'x': 0.29325658309328073}, distributions={'x': UniformDistribution(high=10.0, low=-10.0)}, user_attrs={}, system_attrs={}, intermediate_values={}, trial_id=43, state=TrialState.COMPLETE, value=None),\n",
       " FrozenTrial(number=44, values=[0.04922831547701161], datetime_start=datetime.datetime(2022, 7, 12, 11, 7, 24, 642920), datetime_complete=datetime.datetime(2022, 7, 12, 11, 7, 24, 650373), params={'x': 1.7781254510381788}, distributions={'x': UniformDistribution(high=10.0, low=-10.0)}, user_attrs={}, system_attrs={}, intermediate_values={}, trial_id=44, state=TrialState.COMPLETE, value=None),\n",
       " FrozenTrial(number=45, values=[3.55892529640097], datetime_start=datetime.datetime(2022, 7, 12, 11, 7, 24, 652203), datetime_complete=datetime.datetime(2022, 7, 12, 11, 7, 24, 659458), params={'x': 3.8865114090301627}, distributions={'x': UniformDistribution(high=10.0, low=-10.0)}, user_attrs={}, system_attrs={}, intermediate_values={}, trial_id=45, state=TrialState.COMPLETE, value=None),\n",
       " FrozenTrial(number=46, values=[19.948942041003622], datetime_start=datetime.datetime(2022, 7, 12, 11, 7, 24, 661688), datetime_complete=datetime.datetime(2022, 7, 12, 11, 7, 24, 672113), params={'x': -2.46642385371156}, distributions={'x': UniformDistribution(high=10.0, low=-10.0)}, user_attrs={}, system_attrs={}, intermediate_values={}, trial_id=46, state=TrialState.COMPLETE, value=None),\n",
       " FrozenTrial(number=47, values=[6.864254786944951], datetime_start=datetime.datetime(2022, 7, 12, 11, 7, 24, 676645), datetime_complete=datetime.datetime(2022, 7, 12, 11, 7, 24, 686181), params={'x': -0.619972287438352}, distributions={'x': UniformDistribution(high=10.0, low=-10.0)}, user_attrs={}, system_attrs={}, intermediate_values={}, trial_id=47, state=TrialState.COMPLETE, value=None),\n",
       " FrozenTrial(number=48, values=[0.15597550285009917], datetime_start=datetime.datetime(2022, 7, 12, 11, 7, 24, 688679), datetime_complete=datetime.datetime(2022, 7, 12, 11, 7, 24, 694419), params={'x': 2.3949373404099683}, distributions={'x': UniformDistribution(high=10.0, low=-10.0)}, user_attrs={}, system_attrs={}, intermediate_values={}, trial_id=48, state=TrialState.COMPLETE, value=None),\n",
       " FrozenTrial(number=49, values=[1.3029128190310202], datetime_start=datetime.datetime(2022, 7, 12, 11, 7, 24, 695955), datetime_complete=datetime.datetime(2022, 7, 12, 11, 7, 24, 703255), params={'x': 0.8585479339757538}, distributions={'x': UniformDistribution(high=10.0, low=-10.0)}, user_attrs={}, system_attrs={}, intermediate_values={}, trial_id=49, state=TrialState.COMPLETE, value=None),\n",
       " FrozenTrial(number=50, values=[2.5521415966924863], datetime_start=datetime.datetime(2022, 7, 12, 11, 7, 24, 705163), datetime_complete=datetime.datetime(2022, 7, 12, 11, 7, 24, 711251), params={'x': 3.59754236147042}, distributions={'x': UniformDistribution(high=10.0, low=-10.0)}, user_attrs={}, system_attrs={}, intermediate_values={}, trial_id=50, state=TrialState.COMPLETE, value=None),\n",
       " FrozenTrial(number=51, values=[0.0033414989315007715], datetime_start=datetime.datetime(2022, 7, 12, 11, 7, 24, 712967), datetime_complete=datetime.datetime(2022, 7, 12, 11, 7, 24, 721106), params={'x': 1.9421943001815498}, distributions={'x': UniformDistribution(high=10.0, low=-10.0)}, user_attrs={}, system_attrs={}, intermediate_values={}, trial_id=51, state=TrialState.COMPLETE, value=None),\n",
       " FrozenTrial(number=52, values=[0.0009702267984210522], datetime_start=datetime.datetime(2022, 7, 12, 11, 7, 24, 722765), datetime_complete=datetime.datetime(2022, 7, 12, 11, 7, 24, 728330), params={'x': 2.031148463821207}, distributions={'x': UniformDistribution(high=10.0, low=-10.0)}, user_attrs={}, system_attrs={}, intermediate_values={}, trial_id=52, state=TrialState.COMPLETE, value=None),\n",
       " FrozenTrial(number=53, values=[8.825769982921205], datetime_start=datetime.datetime(2022, 7, 12, 11, 7, 24, 730389), datetime_complete=datetime.datetime(2022, 7, 12, 11, 7, 24, 738156), params={'x': 4.970819749315196}, distributions={'x': UniformDistribution(high=10.0, low=-10.0)}, user_attrs={}, system_attrs={}, intermediate_values={}, trial_id=53, state=TrialState.COMPLETE, value=None),\n",
       " FrozenTrial(number=54, values=[1.4096591178844526], datetime_start=datetime.datetime(2022, 7, 12, 11, 7, 24, 739916), datetime_complete=datetime.datetime(2022, 7, 12, 11, 7, 24, 745486), params={'x': 3.187290662763105}, distributions={'x': UniformDistribution(high=10.0, low=-10.0)}, user_attrs={}, system_attrs={}, intermediate_values={}, trial_id=54, state=TrialState.COMPLETE, value=None),\n",
       " FrozenTrial(number=55, values=[1.351656185303788], datetime_start=datetime.datetime(2022, 7, 12, 11, 7, 24, 746928), datetime_complete=datetime.datetime(2022, 7, 12, 11, 7, 24, 752214), params={'x': 0.8373925059144904}, distributions={'x': UniformDistribution(high=10.0, low=-10.0)}, user_attrs={}, system_attrs={}, intermediate_values={}, trial_id=55, state=TrialState.COMPLETE, value=None),\n",
       " FrozenTrial(number=56, values=[0.10990957470535669], datetime_start=datetime.datetime(2022, 7, 12, 11, 7, 24, 755071), datetime_complete=datetime.datetime(2022, 7, 12, 11, 7, 24, 761597), params={'x': 1.6684738702524993}, distributions={'x': UniformDistribution(high=10.0, low=-10.0)}, user_attrs={}, system_attrs={}, intermediate_values={}, trial_id=56, state=TrialState.COMPLETE, value=None),\n",
       " FrozenTrial(number=57, values=[14.03451746591946], datetime_start=datetime.datetime(2022, 7, 12, 11, 7, 24, 764090), datetime_complete=datetime.datetime(2022, 7, 12, 11, 7, 24, 771719), params={'x': -1.746267137554323}, distributions={'x': UniformDistribution(high=10.0, low=-10.0)}, user_attrs={}, system_attrs={}, intermediate_values={}, trial_id=57, state=TrialState.COMPLETE, value=None),\n",
       " FrozenTrial(number=58, values=[3.1313693125037307], datetime_start=datetime.datetime(2022, 7, 12, 11, 7, 24, 774277), datetime_complete=datetime.datetime(2022, 7, 12, 11, 7, 24, 785893), params={'x': 0.2304324504264521}, distributions={'x': UniformDistribution(high=10.0, low=-10.0)}, user_attrs={}, system_attrs={}, intermediate_values={}, trial_id=58, state=TrialState.COMPLETE, value=None),\n",
       " FrozenTrial(number=59, values=[0.5021249364627559], datetime_start=datetime.datetime(2022, 7, 12, 11, 7, 24, 787652), datetime_complete=datetime.datetime(2022, 7, 12, 11, 7, 24, 795518), params={'x': 2.7086077451331985}, distributions={'x': UniformDistribution(high=10.0, low=-10.0)}, user_attrs={}, system_attrs={}, intermediate_values={}, trial_id=59, state=TrialState.COMPLETE, value=None),\n",
       " FrozenTrial(number=60, values=[6.449641694585736], datetime_start=datetime.datetime(2022, 7, 12, 11, 7, 24, 797343), datetime_complete=datetime.datetime(2022, 7, 12, 11, 7, 24, 807479), params={'x': 4.539614477550822}, distributions={'x': UniformDistribution(high=10.0, low=-10.0)}, user_attrs={}, system_attrs={}, intermediate_values={}, trial_id=60, state=TrialState.COMPLETE, value=None),\n",
       " FrozenTrial(number=61, values=[0.0004626174758302796], datetime_start=datetime.datetime(2022, 7, 12, 11, 7, 24, 808983), datetime_complete=datetime.datetime(2022, 7, 12, 11, 7, 24, 816707), params={'x': 2.0215085442517684}, distributions={'x': UniformDistribution(high=10.0, low=-10.0)}, user_attrs={}, system_attrs={}, intermediate_values={}, trial_id=61, state=TrialState.COMPLETE, value=None),\n",
       " FrozenTrial(number=62, values=[0.17228556954138488], datetime_start=datetime.datetime(2022, 7, 12, 11, 7, 24, 818042), datetime_complete=datetime.datetime(2022, 7, 12, 11, 7, 24, 823992), params={'x': 1.5849270310639527}, distributions={'x': UniformDistribution(high=10.0, low=-10.0)}, user_attrs={}, system_attrs={}, intermediate_values={}, trial_id=62, state=TrialState.COMPLETE, value=None),\n",
       " FrozenTrial(number=63, values=[1.9569795177664255], datetime_start=datetime.datetime(2022, 7, 12, 11, 7, 24, 825406), datetime_complete=datetime.datetime(2022, 7, 12, 11, 7, 24, 832256), params={'x': 3.3989208404217965}, distributions={'x': UniformDistribution(high=10.0, low=-10.0)}, user_attrs={}, system_attrs={}, intermediate_values={}, trial_id=63, state=TrialState.COMPLETE, value=None),\n",
       " FrozenTrial(number=64, values=[1.95787778365512e-05], datetime_start=datetime.datetime(2022, 7, 12, 11, 7, 24, 834269), datetime_complete=datetime.datetime(2022, 7, 12, 11, 7, 24, 840425), params={'x': 1.9955752087239564}, distributions={'x': UniformDistribution(high=10.0, low=-10.0)}, user_attrs={}, system_attrs={}, intermediate_values={}, trial_id=64, state=TrialState.COMPLETE, value=None),\n",
       " FrozenTrial(number=65, values=[1.4196328835655172], datetime_start=datetime.datetime(2022, 7, 12, 11, 7, 24, 841713), datetime_complete=datetime.datetime(2022, 7, 12, 11, 7, 24, 847298), params={'x': 0.8085165198100659}, distributions={'x': UniformDistribution(high=10.0, low=-10.0)}, user_attrs={}, system_attrs={}, intermediate_values={}, trial_id=65, state=TrialState.COMPLETE, value=None),\n",
       " FrozenTrial(number=66, values=[0.13106398239694744], datetime_start=datetime.datetime(2022, 7, 12, 11, 7, 24, 849154), datetime_complete=datetime.datetime(2022, 7, 12, 11, 7, 24, 856347), params={'x': 2.3620275989437096}, distributions={'x': UniformDistribution(high=10.0, low=-10.0)}, user_attrs={}, system_attrs={}, intermediate_values={}, trial_id=66, state=TrialState.COMPLETE, value=None),\n",
       " FrozenTrial(number=67, values=[6.025939843064685], datetime_start=datetime.datetime(2022, 7, 12, 11, 7, 24, 857667), datetime_complete=datetime.datetime(2022, 7, 12, 11, 7, 24, 865660), params={'x': -0.45477898049186605}, distributions={'x': UniformDistribution(high=10.0, low=-10.0)}, user_attrs={}, system_attrs={}, intermediate_values={}, trial_id=67, state=TrialState.COMPLETE, value=None),\n",
       " FrozenTrial(number=68, values=[136.09118077501034], datetime_start=datetime.datetime(2022, 7, 12, 11, 7, 24, 867065), datetime_complete=datetime.datetime(2022, 7, 12, 11, 7, 24, 873596), params={'x': -9.665812478135003}, distributions={'x': UniformDistribution(high=10.0, low=-10.0)}, user_attrs={}, system_attrs={}, intermediate_values={}, trial_id=68, state=TrialState.COMPLETE, value=None),\n",
       " FrozenTrial(number=69, values=[0.37966558271819156], datetime_start=datetime.datetime(2022, 7, 12, 11, 7, 24, 874887), datetime_complete=datetime.datetime(2022, 7, 12, 11, 7, 24, 883244), params={'x': 1.3838299076406}, distributions={'x': UniformDistribution(high=10.0, low=-10.0)}, user_attrs={}, system_attrs={}, intermediate_values={}, trial_id=69, state=TrialState.COMPLETE, value=None),\n",
       " FrozenTrial(number=70, values=[0.4422126450469338], datetime_start=datetime.datetime(2022, 7, 12, 11, 7, 24, 885029), datetime_complete=datetime.datetime(2022, 7, 12, 11, 7, 24, 890913), params={'x': 2.664990710496721}, distributions={'x': UniformDistribution(high=10.0, low=-10.0)}, user_attrs={}, system_attrs={}, intermediate_values={}, trial_id=70, state=TrialState.COMPLETE, value=None),\n",
       " FrozenTrial(number=71, values=[2.0848812325709947], datetime_start=datetime.datetime(2022, 7, 12, 11, 7, 24, 892399), datetime_complete=datetime.datetime(2022, 7, 12, 11, 7, 24, 899148), params={'x': 3.443911781436454}, distributions={'x': UniformDistribution(high=10.0, low=-10.0)}, user_attrs={}, system_attrs={}, intermediate_values={}, trial_id=71, state=TrialState.COMPLETE, value=None),\n",
       " FrozenTrial(number=72, values=[3.9527831895165795e-06], datetime_start=datetime.datetime(2022, 7, 12, 11, 7, 24, 901563), datetime_complete=datetime.datetime(2022, 7, 12, 11, 7, 24, 907878), params={'x': 1.9980118392445487}, distributions={'x': UniformDistribution(high=10.0, low=-10.0)}, user_attrs={}, system_attrs={}, intermediate_values={}, trial_id=72, state=TrialState.COMPLETE, value=None),\n",
       " FrozenTrial(number=73, values=[0.01532232265370245], datetime_start=datetime.datetime(2022, 7, 12, 11, 7, 24, 909201), datetime_complete=datetime.datetime(2022, 7, 12, 11, 7, 24, 915698), params={'x': 1.876216630140788}, distributions={'x': UniformDistribution(high=10.0, low=-10.0)}, user_attrs={}, system_attrs={}, intermediate_values={}, trial_id=73, state=TrialState.COMPLETE, value=None),\n",
       " FrozenTrial(number=74, values=[2.565129073376356], datetime_start=datetime.datetime(2022, 7, 12, 11, 7, 24, 917271), datetime_complete=datetime.datetime(2022, 7, 12, 11, 7, 24, 924506), params={'x': 0.39839796660457627}, distributions={'x': UniformDistribution(high=10.0, low=-10.0)}, user_attrs={}, system_attrs={}, intermediate_values={}, trial_id=74, state=TrialState.COMPLETE, value=None),\n",
       " FrozenTrial(number=75, values=[7.317097018556508], datetime_start=datetime.datetime(2022, 7, 12, 11, 7, 24, 925766), datetime_complete=datetime.datetime(2022, 7, 12, 11, 7, 24, 931857), params={'x': 4.705013312084898}, distributions={'x': UniformDistribution(high=10.0, low=-10.0)}, user_attrs={}, system_attrs={}, intermediate_values={}, trial_id=75, state=TrialState.COMPLETE, value=None),\n",
       " FrozenTrial(number=76, values=[0.77824629326089], datetime_start=datetime.datetime(2022, 7, 12, 11, 7, 24, 933900), datetime_complete=datetime.datetime(2022, 7, 12, 11, 7, 24, 940913), params={'x': 1.1178173129895996}, distributions={'x': UniformDistribution(high=10.0, low=-10.0)}, user_attrs={}, system_attrs={}, intermediate_values={}, trial_id=76, state=TrialState.COMPLETE, value=None),\n",
       " FrozenTrial(number=77, values=[0.8909267199806912], datetime_start=datetime.datetime(2022, 7, 12, 11, 7, 24, 942147), datetime_complete=datetime.datetime(2022, 7, 12, 11, 7, 24, 947534), params={'x': 2.943889146023351}, distributions={'x': UniformDistribution(high=10.0, low=-10.0)}, user_attrs={}, system_attrs={}, intermediate_values={}, trial_id=77, state=TrialState.COMPLETE, value=None),\n",
       " FrozenTrial(number=78, values=[106.88939194218547], datetime_start=datetime.datetime(2022, 7, 12, 11, 7, 24, 949299), datetime_complete=datetime.datetime(2022, 7, 12, 11, 7, 24, 956478), params={'x': -8.338732608119114}, distributions={'x': UniformDistribution(high=10.0, low=-10.0)}, user_attrs={}, system_attrs={}, intermediate_values={}, trial_id=78, state=TrialState.COMPLETE, value=None),\n",
       " FrozenTrial(number=79, values=[0.0004086450120392016], datetime_start=datetime.datetime(2022, 7, 12, 11, 7, 24, 957620), datetime_complete=datetime.datetime(2022, 7, 12, 11, 7, 24, 964204), params={'x': 1.979785030001526}, distributions={'x': UniformDistribution(high=10.0, low=-10.0)}, user_attrs={}, system_attrs={}, intermediate_values={}, trial_id=79, state=TrialState.COMPLETE, value=None),\n",
       " FrozenTrial(number=80, values=[4.056185211084175], datetime_start=datetime.datetime(2022, 7, 12, 11, 7, 24, 965438), datetime_complete=datetime.datetime(2022, 7, 12, 11, 7, 24, 972799), params={'x': -0.013997321518619987}, distributions={'x': UniformDistribution(high=10.0, low=-10.0)}, user_attrs={}, system_attrs={}, intermediate_values={}, trial_id=80, state=TrialState.COMPLETE, value=None),\n",
       " FrozenTrial(number=81, values=[0.0018903254087766022], datetime_start=datetime.datetime(2022, 7, 12, 11, 7, 24, 974281), datetime_complete=datetime.datetime(2022, 7, 12, 11, 7, 24, 980604), params={'x': 1.9565221273660198}, distributions={'x': UniformDistribution(high=10.0, low=-10.0)}, user_attrs={}, system_attrs={}, intermediate_values={}, trial_id=81, state=TrialState.COMPLETE, value=None),\n",
       " FrozenTrial(number=82, values=[0.005789256896712935], datetime_start=datetime.datetime(2022, 7, 12, 11, 7, 24, 982175), datetime_complete=datetime.datetime(2022, 7, 12, 11, 7, 24, 989145), params={'x': 2.0760871664389793}, distributions={'x': UniformDistribution(high=10.0, low=-10.0)}, user_attrs={}, system_attrs={}, intermediate_values={}, trial_id=82, state=TrialState.COMPLETE, value=None),\n",
       " FrozenTrial(number=83, values=[3.2396557395140313], datetime_start=datetime.datetime(2022, 7, 12, 11, 7, 24, 990224), datetime_complete=datetime.datetime(2022, 7, 12, 11, 7, 24, 995866), params={'x': 3.799904369546902}, distributions={'x': UniformDistribution(high=10.0, low=-10.0)}, user_attrs={}, system_attrs={}, intermediate_values={}, trial_id=83, state=TrialState.COMPLETE, value=None),\n",
       " FrozenTrial(number=84, values=[0.4330269150294383], datetime_start=datetime.datetime(2022, 7, 12, 11, 7, 24, 997453), datetime_complete=datetime.datetime(2022, 7, 12, 11, 7, 25, 4032), params={'x': 1.3419521939635097}, distributions={'x': UniformDistribution(high=10.0, low=-10.0)}, user_attrs={}, system_attrs={}, intermediate_values={}, trial_id=84, state=TrialState.COMPLETE, value=None),\n",
       " FrozenTrial(number=85, values=[1.5303124594787822], datetime_start=datetime.datetime(2022, 7, 12, 11, 7, 25, 5731), datetime_complete=datetime.datetime(2022, 7, 12, 11, 7, 25, 11687), params={'x': 0.7629420145042585}, distributions={'x': UniformDistribution(high=10.0, low=-10.0)}, user_attrs={}, system_attrs={}, intermediate_values={}, trial_id=85, state=TrialState.COMPLETE, value=None),\n",
       " FrozenTrial(number=86, values=[0.3390782801240499], datetime_start=datetime.datetime(2022, 7, 12, 11, 7, 25, 13629), datetime_complete=datetime.datetime(2022, 7, 12, 11, 7, 25, 19418), params={'x': 2.582304284823708}, distributions={'x': UniformDistribution(high=10.0, low=-10.0)}, user_attrs={}, system_attrs={}, intermediate_values={}, trial_id=86, state=TrialState.COMPLETE, value=None),\n",
       " FrozenTrial(number=87, values=[1.2398586011195523], datetime_start=datetime.datetime(2022, 7, 12, 11, 7, 25, 20885), datetime_complete=datetime.datetime(2022, 7, 12, 11, 7, 25, 25960), params={'x': 3.1134893807843667}, distributions={'x': UniformDistribution(high=10.0, low=-10.0)}, user_attrs={}, system_attrs={}, intermediate_values={}, trial_id=87, state=TrialState.COMPLETE, value=None),\n",
       " FrozenTrial(number=88, values=[8.271367153998629], datetime_start=datetime.datetime(2022, 7, 12, 11, 7, 25, 27228), datetime_complete=datetime.datetime(2022, 7, 12, 11, 7, 25, 34102), params={'x': -0.8759984620994894}, distributions={'x': UniformDistribution(high=10.0, low=-10.0)}, user_attrs={}, system_attrs={}, intermediate_values={}, trial_id=88, state=TrialState.COMPLETE, value=None),\n",
       " FrozenTrial(number=89, values=[0.04700813011902776], datetime_start=datetime.datetime(2022, 7, 12, 11, 7, 25, 36013), datetime_complete=datetime.datetime(2022, 7, 12, 11, 7, 25, 42160), params={'x': 1.7831864162027025}, distributions={'x': UniformDistribution(high=10.0, low=-10.0)}, user_attrs={}, system_attrs={}, intermediate_values={}, trial_id=89, state=TrialState.COMPLETE, value=None),\n",
       " FrozenTrial(number=90, values=[0.06925927369206936], datetime_start=datetime.datetime(2022, 7, 12, 11, 7, 25, 43162), datetime_complete=datetime.datetime(2022, 7, 12, 11, 7, 25, 49910), params={'x': 2.263171567028183}, distributions={'x': UniformDistribution(high=10.0, low=-10.0)}, user_attrs={}, system_attrs={}, intermediate_values={}, trial_id=90, state=TrialState.COMPLETE, value=None),\n",
       " FrozenTrial(number=91, values=[0.007125656173136542], datetime_start=datetime.datetime(2022, 7, 12, 11, 7, 25, 51026), datetime_complete=datetime.datetime(2022, 7, 12, 11, 7, 25, 57175), params={'x': 1.9155863981746037}, distributions={'x': UniformDistribution(high=10.0, low=-10.0)}, user_attrs={}, system_attrs={}, intermediate_values={}, trial_id=91, state=TrialState.COMPLETE, value=None),\n",
       " FrozenTrial(number=92, values=[0.7857482551506505], datetime_start=datetime.datetime(2022, 7, 12, 11, 7, 25, 58365), datetime_complete=datetime.datetime(2022, 7, 12, 11, 7, 25, 65063), params={'x': 1.1135755784328534}, distributions={'x': UniformDistribution(high=10.0, low=-10.0)}, user_attrs={}, system_attrs={}, intermediate_values={}, trial_id=92, state=TrialState.COMPLETE, value=None),\n",
       " FrozenTrial(number=93, values=[2.185484759515963], datetime_start=datetime.datetime(2022, 7, 12, 11, 7, 25, 66159), datetime_complete=datetime.datetime(2022, 7, 12, 11, 7, 25, 72607), params={'x': 0.5216614868319356}, distributions={'x': UniformDistribution(high=10.0, low=-10.0)}, user_attrs={}, system_attrs={}, intermediate_values={}, trial_id=93, state=TrialState.COMPLETE, value=None),\n",
       " FrozenTrial(number=94, values=[4.68897323576288], datetime_start=datetime.datetime(2022, 7, 12, 11, 7, 25, 73692), datetime_complete=datetime.datetime(2022, 7, 12, 11, 7, 25, 78909), params={'x': 4.165403711958322}, distributions={'x': UniformDistribution(high=10.0, low=-10.0)}, user_attrs={}, system_attrs={}, intermediate_values={}, trial_id=94, state=TrialState.COMPLETE, value=None),\n",
       " FrozenTrial(number=95, values=[0.7985350904103944], datetime_start=datetime.datetime(2022, 7, 12, 11, 7, 25, 80442), datetime_complete=datetime.datetime(2022, 7, 12, 11, 7, 25, 88201), params={'x': 2.8936079064166758}, distributions={'x': UniformDistribution(high=10.0, low=-10.0)}, user_attrs={}, system_attrs={}, intermediate_values={}, trial_id=95, state=TrialState.COMPLETE, value=None),\n",
       " FrozenTrial(number=96, values=[65.76682628962106], datetime_start=datetime.datetime(2022, 7, 12, 11, 7, 25, 89532), datetime_complete=datetime.datetime(2022, 7, 12, 11, 7, 25, 94850), params={'x': -6.1096748572073505}, distributions={'x': UniformDistribution(high=10.0, low=-10.0)}, user_attrs={}, system_attrs={}, intermediate_values={}, trial_id=96, state=TrialState.COMPLETE, value=None),\n",
       " FrozenTrial(number=97, values=[0.05406119959180451], datetime_start=datetime.datetime(2022, 7, 12, 11, 7, 25, 96525), datetime_complete=datetime.datetime(2022, 7, 12, 11, 7, 25, 105901), params={'x': 2.232510644039804}, distributions={'x': UniformDistribution(high=10.0, low=-10.0)}, user_attrs={}, system_attrs={}, intermediate_values={}, trial_id=97, state=TrialState.COMPLETE, value=None),\n",
       " FrozenTrial(number=98, values=[2.0825573728975137], datetime_start=datetime.datetime(2022, 7, 12, 11, 7, 25, 107037), datetime_complete=datetime.datetime(2022, 7, 12, 11, 7, 25, 113567), params={'x': 3.4431068473600677}, distributions={'x': UniformDistribution(high=10.0, low=-10.0)}, user_attrs={}, system_attrs={}, intermediate_values={}, trial_id=98, state=TrialState.COMPLETE, value=None),\n",
       " FrozenTrial(number=99, values=[4.3240679809720906], datetime_start=datetime.datetime(2022, 7, 12, 11, 7, 25, 115511), datetime_complete=datetime.datetime(2022, 7, 12, 11, 7, 25, 122041), params={'x': -0.07943934294128674}, distributions={'x': UniformDistribution(high=10.0, low=-10.0)}, user_attrs={}, system_attrs={}, intermediate_values={}, trial_id=99, state=TrialState.COMPLETE, value=None)]"
      ]
     },
     "execution_count": 8,
     "metadata": {},
     "output_type": "execute_result"
    }
   ],
   "source": [
    "study.trials"
   ]
  },
  {
   "cell_type": "markdown",
   "metadata": {},
   "source": [
    "To get the number of trials:\n",
    "\n"
   ]
  },
  {
   "cell_type": "code",
   "execution_count": 9,
   "metadata": {},
   "outputs": [
    {
     "data": {
      "text/plain": [
       "100"
      ]
     },
     "execution_count": 9,
     "metadata": {},
     "output_type": "execute_result"
    }
   ],
   "source": [
    "len(study.trials)"
   ]
  },
  {
   "cell_type": "markdown",
   "metadata": {},
   "source": [
    "By executing :func:`~optuna.study.Study.optimize` again, we can continue the optimization.\n",
    "\n"
   ]
  },
  {
   "cell_type": "code",
   "execution_count": 10,
   "metadata": {},
   "outputs": [
    {
     "name": "stderr",
     "output_type": "stream",
     "text": [
      "\u001b[32m[I 2022-07-12 11:07:25,251]\u001b[0m Trial 100 finished with value: 15.646172832749686 and parameters: {'x': 5.955524343592097}. Best is trial 72 with value: 3.9527831895165795e-06.\u001b[0m\n",
      "\u001b[32m[I 2022-07-12 11:07:25,258]\u001b[0m Trial 101 finished with value: 0.0397543314653838 and parameters: {'x': 1.8006151172596483}. Best is trial 72 with value: 3.9527831895165795e-06.\u001b[0m\n",
      "\u001b[32m[I 2022-07-12 11:07:25,266]\u001b[0m Trial 102 finished with value: 0.3521575051943925 and parameters: {'x': 1.4065713984021393}. Best is trial 72 with value: 3.9527831895165795e-06.\u001b[0m\n",
      "\u001b[32m[I 2022-07-12 11:07:25,275]\u001b[0m Trial 103 finished with value: 0.0092052574675936 and parameters: {'x': 2.095944032996292}. Best is trial 72 with value: 3.9527831895165795e-06.\u001b[0m\n",
      "\u001b[32m[I 2022-07-12 11:07:25,285]\u001b[0m Trial 104 finished with value: 0.47992595434603014 and parameters: {'x': 2.692766883118723}. Best is trial 72 with value: 3.9527831895165795e-06.\u001b[0m\n",
      "\u001b[32m[I 2022-07-12 11:07:25,294]\u001b[0m Trial 105 finished with value: 0.004471077229887081 and parameters: {'x': 1.9331338857874403}. Best is trial 72 with value: 3.9527831895165795e-06.\u001b[0m\n",
      "\u001b[32m[I 2022-07-12 11:07:25,305]\u001b[0m Trial 106 finished with value: 1.8553424306316242 and parameters: {'x': 0.6378904483736911}. Best is trial 72 with value: 3.9527831895165795e-06.\u001b[0m\n",
      "\u001b[32m[I 2022-07-12 11:07:25,314]\u001b[0m Trial 107 finished with value: 0.8454185548442398 and parameters: {'x': 1.0805335488207088}. Best is trial 72 with value: 3.9527831895165795e-06.\u001b[0m\n",
      "\u001b[32m[I 2022-07-12 11:07:25,326]\u001b[0m Trial 108 finished with value: 0.1613509025998333 and parameters: {'x': 2.4016850788862256}. Best is trial 72 with value: 3.9527831895165795e-06.\u001b[0m\n",
      "\u001b[32m[I 2022-07-12 11:07:25,336]\u001b[0m Trial 109 finished with value: 1.4798583233913634 and parameters: {'x': 3.2164942759385937}. Best is trial 72 with value: 3.9527831895165795e-06.\u001b[0m\n",
      "\u001b[32m[I 2022-07-12 11:07:25,346]\u001b[0m Trial 110 finished with value: 0.17883344156368075 and parameters: {'x': 1.5771129683193386}. Best is trial 72 with value: 3.9527831895165795e-06.\u001b[0m\n",
      "\u001b[32m[I 2022-07-12 11:07:25,356]\u001b[0m Trial 111 finished with value: 0.020169894781766555 and parameters: {'x': 1.8579792452429345}. Best is trial 72 with value: 3.9527831895165795e-06.\u001b[0m\n",
      "\u001b[32m[I 2022-07-12 11:07:25,365]\u001b[0m Trial 112 finished with value: 2.818845791859562 and parameters: {'x': 3.678941866730222}. Best is trial 72 with value: 3.9527831895165795e-06.\u001b[0m\n",
      "\u001b[32m[I 2022-07-12 11:07:25,376]\u001b[0m Trial 113 finished with value: 0.0026883465908537304 and parameters: {'x': 2.0518492679876363}. Best is trial 72 with value: 3.9527831895165795e-06.\u001b[0m\n",
      "\u001b[32m[I 2022-07-12 11:07:25,386]\u001b[0m Trial 114 finished with value: 0.4239420473791225 and parameters: {'x': 2.651108322308295}. Best is trial 72 with value: 3.9527831895165795e-06.\u001b[0m\n",
      "\u001b[32m[I 2022-07-12 11:07:25,397]\u001b[0m Trial 115 finished with value: 2.912613669831237 and parameters: {'x': 0.29336188082205394}. Best is trial 72 with value: 3.9527831895165795e-06.\u001b[0m\n",
      "\u001b[32m[I 2022-07-12 11:07:25,406]\u001b[0m Trial 116 finished with value: 0.7206057254161942 and parameters: {'x': 1.151115010489528}. Best is trial 72 with value: 3.9527831895165795e-06.\u001b[0m\n",
      "\u001b[32m[I 2022-07-12 11:07:25,417]\u001b[0m Trial 117 finished with value: 59.1403323009029 and parameters: {'x': 9.690275177189884}. Best is trial 72 with value: 3.9527831895165795e-06.\u001b[0m\n",
      "\u001b[32m[I 2022-07-12 11:07:25,426]\u001b[0m Trial 118 finished with value: 0.04873677701907444 and parameters: {'x': 2.220764075472153}. Best is trial 72 with value: 3.9527831895165795e-06.\u001b[0m\n",
      "\u001b[32m[I 2022-07-12 11:07:25,438]\u001b[0m Trial 119 finished with value: 0.8028633892079025 and parameters: {'x': 2.896026444480241}. Best is trial 72 with value: 3.9527831895165795e-06.\u001b[0m\n",
      "\u001b[32m[I 2022-07-12 11:07:25,448]\u001b[0m Trial 120 finished with value: 0.24136009017131022 and parameters: {'x': 1.50871587632887}. Best is trial 72 with value: 3.9527831895165795e-06.\u001b[0m\n",
      "\u001b[32m[I 2022-07-12 11:07:25,458]\u001b[0m Trial 121 finished with value: 4.023733088631907e-07 and parameters: {'x': 2.000634329022561}. Best is trial 121 with value: 4.023733088631907e-07.\u001b[0m\n",
      "\u001b[32m[I 2022-07-12 11:07:25,468]\u001b[0m Trial 122 finished with value: 0.0037392095592499574 and parameters: {'x': 2.0611490765200093}. Best is trial 121 with value: 4.023733088631907e-07.\u001b[0m\n",
      "\u001b[32m[I 2022-07-12 11:07:25,477]\u001b[0m Trial 123 finished with value: 0.23689755131073725 and parameters: {'x': 2.4867212254573836}. Best is trial 121 with value: 4.023733088631907e-07.\u001b[0m\n",
      "\u001b[32m[I 2022-07-12 11:07:25,489]\u001b[0m Trial 124 finished with value: 1.0991339943074472 and parameters: {'x': 0.9516040851341288}. Best is trial 121 with value: 4.023733088631907e-07.\u001b[0m\n",
      "\u001b[32m[I 2022-07-12 11:07:25,500]\u001b[0m Trial 125 finished with value: 1.3630649701575548 and parameters: {'x': 3.167503734536877}. Best is trial 121 with value: 4.023733088631907e-07.\u001b[0m\n",
      "\u001b[32m[I 2022-07-12 11:07:25,511]\u001b[0m Trial 126 finished with value: 0.30748979544346294 and parameters: {'x': 1.4454823758946314}. Best is trial 121 with value: 4.023733088631907e-07.\u001b[0m\n",
      "\u001b[32m[I 2022-07-12 11:07:25,523]\u001b[0m Trial 127 finished with value: 4.825696676382419 and parameters: {'x': 4.196746839392837}. Best is trial 121 with value: 4.023733088631907e-07.\u001b[0m\n",
      "\u001b[32m[I 2022-07-12 11:07:25,533]\u001b[0m Trial 128 finished with value: 0.059114130320231946 and parameters: {'x': 1.7568660239287155}. Best is trial 121 with value: 4.023733088631907e-07.\u001b[0m\n",
      "\u001b[32m[I 2022-07-12 11:07:25,547]\u001b[0m Trial 129 finished with value: 2.5026700438267544 and parameters: {'x': 3.5819829467559865}. Best is trial 121 with value: 4.023733088631907e-07.\u001b[0m\n",
      "\u001b[32m[I 2022-07-12 11:07:25,564]\u001b[0m Trial 130 finished with value: 0.12681158589848213 and parameters: {'x': 2.3561061441459303}. Best is trial 121 with value: 4.023733088631907e-07.\u001b[0m\n",
      "\u001b[32m[I 2022-07-12 11:07:25,575]\u001b[0m Trial 131 finished with value: 0.015204497645536963 and parameters: {'x': 2.1233065190715275}. Best is trial 121 with value: 4.023733088631907e-07.\u001b[0m\n",
      "\u001b[32m[I 2022-07-12 11:07:25,589]\u001b[0m Trial 132 finished with value: 0.6255411902809238 and parameters: {'x': 2.790911619766029}. Best is trial 121 with value: 4.023733088631907e-07.\u001b[0m\n",
      "\u001b[32m[I 2022-07-12 11:07:25,598]\u001b[0m Trial 133 finished with value: 0.014062545623586364 and parameters: {'x': 1.8814143953779112}. Best is trial 121 with value: 4.023733088631907e-07.\u001b[0m\n",
      "\u001b[32m[I 2022-07-12 11:07:25,610]\u001b[0m Trial 134 finished with value: 0.5671681079476252 and parameters: {'x': 1.2468943580428937}. Best is trial 121 with value: 4.023733088631907e-07.\u001b[0m\n",
      "\u001b[32m[I 2022-07-12 11:07:25,622]\u001b[0m Trial 135 finished with value: 1.7204044956667093 and parameters: {'x': 0.6883580916779499}. Best is trial 121 with value: 4.023733088631907e-07.\u001b[0m\n",
      "\u001b[32m[I 2022-07-12 11:07:25,633]\u001b[0m Trial 136 finished with value: 1.2546020261352309 and parameters: {'x': 3.12009018660786}. Best is trial 121 with value: 4.023733088631907e-07.\u001b[0m\n",
      "\u001b[32m[I 2022-07-12 11:07:25,642]\u001b[0m Trial 137 finished with value: 0.009193970969088071 and parameters: {'x': 2.0958851968193635}. Best is trial 121 with value: 4.023733088631907e-07.\u001b[0m\n",
      "\u001b[32m[I 2022-07-12 11:07:25,655]\u001b[0m Trial 138 finished with value: 3.7858390319928237 and parameters: {'x': 0.054276732936355154}. Best is trial 121 with value: 4.023733088631907e-07.\u001b[0m\n",
      "\u001b[32m[I 2022-07-12 11:07:25,664]\u001b[0m Trial 139 finished with value: 0.192667312403873 and parameters: {'x': 1.5610611518629582}. Best is trial 121 with value: 4.023733088631907e-07.\u001b[0m\n",
      "\u001b[32m[I 2022-07-12 11:07:25,674]\u001b[0m Trial 140 finished with value: 0.2603234492997019 and parameters: {'x': 2.510219020911316}. Best is trial 121 with value: 4.023733088631907e-07.\u001b[0m\n",
      "\u001b[32m[I 2022-07-12 11:07:25,683]\u001b[0m Trial 141 finished with value: 0.00355434364212825 and parameters: {'x': 1.9403816836691252}. Best is trial 121 with value: 4.023733088631907e-07.\u001b[0m\n",
      "\u001b[32m[I 2022-07-12 11:07:25,693]\u001b[0m Trial 142 finished with value: 1.1035554450884173 and parameters: {'x': 0.9494975273287467}. Best is trial 121 with value: 4.023733088631907e-07.\u001b[0m\n",
      "\u001b[32m[I 2022-07-12 11:07:25,703]\u001b[0m Trial 143 finished with value: 0.01828754421306647 and parameters: {'x': 2.1352314468349225}. Best is trial 121 with value: 4.023733088631907e-07.\u001b[0m\n"
     ]
    },
    {
     "name": "stderr",
     "output_type": "stream",
     "text": [
      "\u001b[32m[I 2022-07-12 11:07:25,713]\u001b[0m Trial 144 finished with value: 0.6171528350305716 and parameters: {'x': 2.785590755438588}. Best is trial 121 with value: 4.023733088631907e-07.\u001b[0m\n",
      "\u001b[32m[I 2022-07-12 11:07:25,723]\u001b[0m Trial 145 finished with value: 0.13082985084093407 and parameters: {'x': 1.6382959070719076}. Best is trial 121 with value: 4.023733088631907e-07.\u001b[0m\n",
      "\u001b[32m[I 2022-07-12 11:07:25,732]\u001b[0m Trial 146 finished with value: 2.2841728960812313 and parameters: {'x': 0.48865196063870475}. Best is trial 121 with value: 4.023733088631907e-07.\u001b[0m\n",
      "\u001b[32m[I 2022-07-12 11:07:25,742]\u001b[0m Trial 147 finished with value: 0.5526364354163954 and parameters: {'x': 1.2566047919064884}. Best is trial 121 with value: 4.023733088631907e-07.\u001b[0m\n",
      "\u001b[32m[I 2022-07-12 11:07:25,752]\u001b[0m Trial 148 finished with value: 3.1512896306652562 and parameters: {'x': 3.7751872100331436}. Best is trial 121 with value: 4.023733088631907e-07.\u001b[0m\n",
      "\u001b[32m[I 2022-07-12 11:07:25,762]\u001b[0m Trial 149 finished with value: 0.0042018452224920405 and parameters: {'x': 1.935178358378609}. Best is trial 121 with value: 4.023733088631907e-07.\u001b[0m\n",
      "\u001b[32m[I 2022-07-12 11:07:25,772]\u001b[0m Trial 150 finished with value: 1.651047426970294 and parameters: {'x': 3.2849309035782017}. Best is trial 121 with value: 4.023733088631907e-07.\u001b[0m\n",
      "\u001b[32m[I 2022-07-12 11:07:25,780]\u001b[0m Trial 151 finished with value: 0.20360970197060047 and parameters: {'x': 2.451231317586225}. Best is trial 121 with value: 4.023733088631907e-07.\u001b[0m\n",
      "\u001b[32m[I 2022-07-12 11:07:25,791]\u001b[0m Trial 152 finished with value: 0.011681847466955992 and parameters: {'x': 2.108082595578363}. Best is trial 121 with value: 4.023733088631907e-07.\u001b[0m\n",
      "\u001b[32m[I 2022-07-12 11:07:25,802]\u001b[0m Trial 153 finished with value: 0.04793189666615753 and parameters: {'x': 1.7810664560507972}. Best is trial 121 with value: 4.023733088631907e-07.\u001b[0m\n",
      "\u001b[32m[I 2022-07-12 11:07:25,811]\u001b[0m Trial 154 finished with value: 0.3973742844377508 and parameters: {'x': 1.3696236961641477}. Best is trial 121 with value: 4.023733088631907e-07.\u001b[0m\n",
      "\u001b[32m[I 2022-07-12 11:07:25,822]\u001b[0m Trial 155 finished with value: 0.7440115128394246 and parameters: {'x': 2.862561019777398}. Best is trial 121 with value: 4.023733088631907e-07.\u001b[0m\n",
      "\u001b[32m[I 2022-07-12 11:07:25,831]\u001b[0m Trial 156 finished with value: 1.2867897178177572 and parameters: {'x': 0.8656324591131157}. Best is trial 121 with value: 4.023733088631907e-07.\u001b[0m\n",
      "\u001b[32m[I 2022-07-12 11:07:25,842]\u001b[0m Trial 157 finished with value: 0.00476315999585017 and parameters: {'x': 1.9309843496310426}. Best is trial 121 with value: 4.023733088631907e-07.\u001b[0m\n",
      "\u001b[32m[I 2022-07-12 11:07:25,853]\u001b[0m Trial 158 finished with value: 0.23258181117467888 and parameters: {'x': 2.4822673648244082}. Best is trial 121 with value: 4.023733088631907e-07.\u001b[0m\n",
      "\u001b[32m[I 2022-07-12 11:07:25,860]\u001b[0m Trial 159 finished with value: 0.03770447042868538 and parameters: {'x': 1.8058236100122227}. Best is trial 121 with value: 4.023733088631907e-07.\u001b[0m\n",
      "\u001b[32m[I 2022-07-12 11:07:25,870]\u001b[0m Trial 160 finished with value: 0.5763668921432867 and parameters: {'x': 1.2408116886152114}. Best is trial 121 with value: 4.023733088631907e-07.\u001b[0m\n",
      "\u001b[32m[I 2022-07-12 11:07:25,878]\u001b[0m Trial 161 finished with value: 0.00048522068874421907 and parameters: {'x': 2.0220277254555303}. Best is trial 121 with value: 4.023733088631907e-07.\u001b[0m\n",
      "\u001b[32m[I 2022-07-12 11:07:25,886]\u001b[0m Trial 162 finished with value: 0.005239780648711518 and parameters: {'x': 2.0723863291562123}. Best is trial 121 with value: 4.023733088631907e-07.\u001b[0m\n",
      "\u001b[32m[I 2022-07-12 11:07:25,893]\u001b[0m Trial 163 finished with value: 0.2824963253968514 and parameters: {'x': 2.5315038338496265}. Best is trial 121 with value: 4.023733088631907e-07.\u001b[0m\n",
      "\u001b[32m[I 2022-07-12 11:07:25,902]\u001b[0m Trial 164 finished with value: 0.25705097230216173 and parameters: {'x': 1.4929980549325657}. Best is trial 121 with value: 4.023733088631907e-07.\u001b[0m\n",
      "\u001b[32m[I 2022-07-12 11:07:25,909]\u001b[0m Trial 165 finished with value: 0.9165316571742868 and parameters: {'x': 2.957356598752151}. Best is trial 121 with value: 4.023733088631907e-07.\u001b[0m\n",
      "\u001b[32m[I 2022-07-12 11:07:25,917]\u001b[0m Trial 166 finished with value: 0.0036942608898917614 and parameters: {'x': 1.9392195681991995}. Best is trial 121 with value: 4.023733088631907e-07.\u001b[0m\n",
      "\u001b[32m[I 2022-07-12 11:07:25,926]\u001b[0m Trial 167 finished with value: 0.9475473418332491 and parameters: {'x': 1.0265795657408618}. Best is trial 121 with value: 4.023733088631907e-07.\u001b[0m\n",
      "\u001b[32m[I 2022-07-12 11:07:25,934]\u001b[0m Trial 168 finished with value: 0.13532424035153756 and parameters: {'x': 2.367864432028346}. Best is trial 121 with value: 4.023733088631907e-07.\u001b[0m\n",
      "\u001b[32m[I 2022-07-12 11:07:25,943]\u001b[0m Trial 169 finished with value: 0.036267136897329307 and parameters: {'x': 1.809560673973758}. Best is trial 121 with value: 4.023733088631907e-07.\u001b[0m\n",
      "\u001b[32m[I 2022-07-12 11:07:25,950]\u001b[0m Trial 170 finished with value: 1.471687338541442 and parameters: {'x': 3.213131212417454}. Best is trial 121 with value: 4.023733088631907e-07.\u001b[0m\n",
      "\u001b[32m[I 2022-07-12 11:07:25,958]\u001b[0m Trial 171 finished with value: 0.00018460823138442663 and parameters: {'x': 2.0135870611754134}. Best is trial 121 with value: 4.023733088631907e-07.\u001b[0m\n",
      "\u001b[32m[I 2022-07-12 11:07:25,965]\u001b[0m Trial 172 finished with value: 0.3485884160200142 and parameters: {'x': 1.4095862332058862}. Best is trial 121 with value: 4.023733088631907e-07.\u001b[0m\n",
      "\u001b[32m[I 2022-07-12 11:07:25,974]\u001b[0m Trial 173 finished with value: 0.4227765353864954 and parameters: {'x': 2.650212684732077}. Best is trial 121 with value: 4.023733088631907e-07.\u001b[0m\n",
      "\u001b[32m[I 2022-07-12 11:07:25,982]\u001b[0m Trial 174 finished with value: 0.04561090310022338 and parameters: {'x': 2.2135670927372084}. Best is trial 121 with value: 4.023733088631907e-07.\u001b[0m\n",
      "\u001b[32m[I 2022-07-12 11:07:25,992]\u001b[0m Trial 175 finished with value: 0.09984631808400753 and parameters: {'x': 1.6840153198586876}. Best is trial 121 with value: 4.023733088631907e-07.\u001b[0m\n",
      "\u001b[32m[I 2022-07-12 11:07:26,000]\u001b[0m Trial 176 finished with value: 1.2441892614768766 and parameters: {'x': 0.8845676795623696}. Best is trial 121 with value: 4.023733088631907e-07.\u001b[0m\n",
      "\u001b[32m[I 2022-07-12 11:07:26,009]\u001b[0m Trial 177 finished with value: 0.7915881402689988 and parameters: {'x': 2.8897123918823424}. Best is trial 121 with value: 4.023733088631907e-07.\u001b[0m\n",
      "\u001b[32m[I 2022-07-12 11:07:26,018]\u001b[0m Trial 178 finished with value: 0.16999691462799002 and parameters: {'x': 1.5876931790183553}. Best is trial 121 with value: 4.023733088631907e-07.\u001b[0m\n",
      "\u001b[32m[I 2022-07-12 11:07:26,028]\u001b[0m Trial 179 finished with value: 0.03830301638334872 and parameters: {'x': 2.195711564255536}. Best is trial 121 with value: 4.023733088631907e-07.\u001b[0m\n",
      "\u001b[32m[I 2022-07-12 11:07:26,037]\u001b[0m Trial 180 finished with value: 1.9397375356237905 and parameters: {'x': 0.6072553946886778}. Best is trial 121 with value: 4.023733088631907e-07.\u001b[0m\n",
      "\u001b[32m[I 2022-07-12 11:07:26,046]\u001b[0m Trial 181 finished with value: 0.006400799237809754 and parameters: {'x': 1.9199950049196317}. Best is trial 121 with value: 4.023733088631907e-07.\u001b[0m\n",
      "\u001b[32m[I 2022-07-12 11:07:26,056]\u001b[0m Trial 182 finished with value: 0.0004563783448713828 and parameters: {'x': 2.021363013478238}. Best is trial 121 with value: 4.023733088631907e-07.\u001b[0m\n",
      "\u001b[32m[I 2022-07-12 11:07:26,065]\u001b[0m Trial 183 finished with value: 0.22251294092322835 and parameters: {'x': 2.471712773754568}. Best is trial 121 with value: 4.023733088631907e-07.\u001b[0m\n",
      "\u001b[32m[I 2022-07-12 11:07:26,074]\u001b[0m Trial 184 finished with value: 0.5685053803425956 and parameters: {'x': 1.2460070422460197}. Best is trial 121 with value: 4.023733088631907e-07.\u001b[0m\n",
      "\u001b[32m[I 2022-07-12 11:07:26,082]\u001b[0m Trial 185 finished with value: 0.0005290289585998164 and parameters: {'x': 2.0230006295261633}. Best is trial 121 with value: 4.023733088631907e-07.\u001b[0m\n",
      "\u001b[32m[I 2022-07-12 11:07:26,093]\u001b[0m Trial 186 finished with value: 0.11335293123050717 and parameters: {'x': 2.3366792705684554}. Best is trial 121 with value: 4.023733088631907e-07.\u001b[0m\n",
      "\u001b[32m[I 2022-07-12 11:07:26,102]\u001b[0m Trial 187 finished with value: 0.4556927972320657 and parameters: {'x': 2.6750502183038427}. Best is trial 121 with value: 4.023733088631907e-07.\u001b[0m\n"
     ]
    },
    {
     "name": "stderr",
     "output_type": "stream",
     "text": [
      "\u001b[32m[I 2022-07-12 11:07:26,113]\u001b[0m Trial 188 finished with value: 2.3106107384727164 and parameters: {'x': 3.5200693202853337}. Best is trial 121 with value: 4.023733088631907e-07.\u001b[0m\n",
      "\u001b[32m[I 2022-07-12 11:07:26,123]\u001b[0m Trial 189 finished with value: 0.08322839865925845 and parameters: {'x': 1.7115066748445322}. Best is trial 121 with value: 4.023733088631907e-07.\u001b[0m\n",
      "\u001b[32m[I 2022-07-12 11:07:26,133]\u001b[0m Trial 190 finished with value: 0.3885500763247241 and parameters: {'x': 1.3766621491320103}. Best is trial 121 with value: 4.023733088631907e-07.\u001b[0m\n",
      "\u001b[32m[I 2022-07-12 11:07:26,144]\u001b[0m Trial 191 finished with value: 0.0002826114575484322 and parameters: {'x': 1.9831889483509082}. Best is trial 121 with value: 4.023733088631907e-07.\u001b[0m\n",
      "\u001b[32m[I 2022-07-12 11:07:26,153]\u001b[0m Trial 192 finished with value: 0.002295261283142197 and parameters: {'x': 2.0479088852212426}. Best is trial 121 with value: 4.023733088631907e-07.\u001b[0m\n",
      "\u001b[32m[I 2022-07-12 11:07:26,162]\u001b[0m Trial 193 finished with value: 0.038260993742621374 and parameters: {'x': 2.1956041761891125}. Best is trial 121 with value: 4.023733088631907e-07.\u001b[0m\n",
      "\u001b[32m[I 2022-07-12 11:07:26,172]\u001b[0m Trial 194 finished with value: 0.9722083719577088 and parameters: {'x': 2.986006273792266}. Best is trial 121 with value: 4.023733088631907e-07.\u001b[0m\n",
      "\u001b[32m[I 2022-07-12 11:07:26,181]\u001b[0m Trial 195 finished with value: 0.1470754615401867 and parameters: {'x': 1.6164958128778948}. Best is trial 121 with value: 4.023733088631907e-07.\u001b[0m\n",
      "\u001b[32m[I 2022-07-12 11:07:26,190]\u001b[0m Trial 196 finished with value: 0.1690554664168886 and parameters: {'x': 2.4111635519071317}. Best is trial 121 with value: 4.023733088631907e-07.\u001b[0m\n",
      "\u001b[32m[I 2022-07-12 11:07:26,199]\u001b[0m Trial 197 finished with value: 0.6990158020875398 and parameters: {'x': 1.1639283511040817}. Best is trial 121 with value: 4.023733088631907e-07.\u001b[0m\n",
      "\u001b[32m[I 2022-07-12 11:07:26,207]\u001b[0m Trial 198 finished with value: 0.0031303586294486587 and parameters: {'x': 1.9440503920527707}. Best is trial 121 with value: 4.023733088631907e-07.\u001b[0m\n",
      "\u001b[32m[I 2022-07-12 11:07:26,218]\u001b[0m Trial 199 finished with value: 0.5522929494888725 and parameters: {'x': 2.7431641470690526}. Best is trial 121 with value: 4.023733088631907e-07.\u001b[0m\n"
     ]
    }
   ],
   "source": [
    "study.optimize(objective, n_trials=100)"
   ]
  },
  {
   "cell_type": "markdown",
   "metadata": {},
   "source": [
    "To get the updated number of trials:\n",
    "\n"
   ]
  },
  {
   "cell_type": "code",
   "execution_count": 11,
   "metadata": {},
   "outputs": [
    {
     "data": {
      "text/plain": [
       "200"
      ]
     },
     "execution_count": 11,
     "metadata": {},
     "output_type": "execute_result"
    }
   ],
   "source": [
    "len(study.trials)"
   ]
  },
  {
   "cell_type": "markdown",
   "metadata": {},
   "source": [
    "As the objective function is so easy that the last 100 trials don't improve the result.\n",
    "However, we can check the result again:\n",
    "\n"
   ]
  },
  {
   "cell_type": "code",
   "execution_count": 12,
   "metadata": {},
   "outputs": [
    {
     "name": "stdout",
     "output_type": "stream",
     "text": [
      "Found x: 2.000634329022561, (x - 2)^2: 4.023733088631907e-07\n"
     ]
    }
   ],
   "source": [
    "best_params = study.best_params\n",
    "found_x = best_params[\"x\"]\n",
    "print(\"Found x: {}, (x - 2)^2: {}\".format(found_x, (found_x - 2) ** 2))"
   ]
  }
 ],
 "metadata": {
  "kernelspec": {
   "display_name": "Python 3 (ipykernel)",
   "language": "python",
   "name": "python3"
  },
  "language_info": {
   "codemirror_mode": {
    "name": "ipython",
    "version": 3
   },
   "file_extension": ".py",
   "mimetype": "text/x-python",
   "name": "python",
   "nbconvert_exporter": "python",
   "pygments_lexer": "ipython3",
   "version": "3.9.13"
  }
 },
 "nbformat": 4,
 "nbformat_minor": 1
}
