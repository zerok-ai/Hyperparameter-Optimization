{
  "cells": [
    {
      "cell_type": "markdown",
      "metadata": {},
      "source": [
        "\n\n# Command-Line Interface\n\n.. csv-table::\n   :header: Command, Description\n   :widths: 20, 40\n\n    create-study, Create a new study.\n    delete-study, Delete a specified study.\n    dashboard, Launch web dashboard (beta).\n    storage upgrade, Upgrade the schema of a storage.\n    studies, Show a list of studies.\n    study optimize, Start optimization of a study.\n    study set-user-attr, Set a user attribute to a study.\n\nOptuna provides command-line interface as shown in the above table.\n\nLet us assume you are not in IPython shell and writing Python script files instead.\nIt is totally fine to write scripts like the following:\n"
      ]
    },
    {
      "cell_type": "code",
      "execution_count": null,
      "metadata": {
        "collapsed": false
      },
      "outputs": [],
      "source": [
        "import optuna\n\n\ndef objective(trial):\n    x = trial.suggest_float(\"x\", -10, 10)\n    return (x - 2) ** 2\n\n\nif __name__ == \"__main__\":\n    study = optuna.create_study()\n    study.optimize(objective, n_trials=100)\n    print(\"Best value: {} (params: {})\\n\".format(study.best_value, study.best_params))"
      ]
    },
    {
      "cell_type": "markdown",
      "metadata": {},
      "source": [
        "However, we can reduce boilerplate codes by using our ``optuna`` command.\nLet us assume that ``foo.py`` contains only the following code.\n\n"
      ]
    },
    {
      "cell_type": "code",
      "execution_count": null,
      "metadata": {
        "collapsed": false
      },
      "outputs": [],
      "source": [
        "def objective(trial):\n    x = trial.suggest_float(\"x\", -10, 10)\n    return (x - 2) ** 2"
      ]
    },
    {
      "cell_type": "markdown",
      "metadata": {},
      "source": [
        "Even so, we can invoke the optimization as follows.\n(Don't care about ``--storage sqlite:///example.db`` for now, which is described in `rdb`.)\n\n.. code-block:: bash\n\n    $ cat foo.py\n    def objective(trial):\n        x = trial.suggest_float('x', -10, 10)\n        return (x - 2) ** 2\n\n    $ STUDY_NAME=`optuna create-study --storage sqlite:///example.db`\n    $ optuna study optimize foo.py objective --n-trials=100 --storage sqlite:///example.db --study-name $STUDY_NAME\n    [I 2018-05-09 10:40:25,196] Finished a trial resulted in value: 54.353767789264026. Current best value is 54.353767789264026 with parameters: {'x': -5.372500782588228}.\n    [I 2018-05-09 10:40:25,197] Finished a trial resulted in value: 15.784266965526376. Current best value is 15.784266965526376 with parameters: {'x': 5.972941852774387}.\n    ...\n    [I 2018-05-09 10:40:26,204] Finished a trial resulted in value: 14.704254135013741. Current best value is 2.280758099793617e-06 with parameters: {'x': 1.9984897821018828}.\n\nPlease note that ``foo.py`` only contains the definition of the objective function.\nBy giving the script file name and the method name of objective function to\n``optuna study optimize`` command, we can invoke the optimization.\n\n"
      ]
    }
  ],
  "metadata": {
    "kernelspec": {
      "display_name": "Python 3",
      "language": "python",
      "name": "python3"
    },
    "language_info": {
      "codemirror_mode": {
        "name": "ipython",
        "version": 3
      },
      "file_extension": ".py",
      "mimetype": "text/x-python",
      "name": "python",
      "nbconvert_exporter": "python",
      "pygments_lexer": "ipython3",
      "version": "3.8.6"
    }
  },
  "nbformat": 4,
  "nbformat_minor": 0
}